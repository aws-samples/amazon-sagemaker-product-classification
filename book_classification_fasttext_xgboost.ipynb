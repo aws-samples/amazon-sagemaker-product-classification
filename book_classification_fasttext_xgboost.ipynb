{
 "cells": [
  {
   "cell_type": "markdown",
   "id": "b24b7c27",
   "metadata": {},
   "source": [
    "# A notebook to explore text classification using word embedders"
   ]
  },
  {
   "cell_type": "markdown",
   "id": "fba4159b",
   "metadata": {},
   "source": [
    "In this notebook, I will explore taking a public dataset of books with metadata such as description, title and category/genre. \n",
    "Ill then use a word embedder to vectorize the description and title and then use XGBoost to create a classifier on the category. \n",
    "I will use GenSim's fasttext implementation as the word embedder to vectorize the description and title. \n",
    "I will then repeat this process but using the native FastText implementation and compare the results. \n",
    "I will then host these models on Amazon's SageMaker "
   ]
  },
  {
   "cell_type": "markdown",
   "id": "4ce89686",
   "metadata": {},
   "source": [
    "## Install libraries, initialise variables, download dataset"
   ]
  },
  {
   "cell_type": "code",
   "execution_count": 2,
   "id": "571f58f3",
   "metadata": {},
   "outputs": [
    {
     "name": "stdout",
     "output_type": "stream",
     "text": [
      "Collecting gensim==3.8.3\n",
      "  Downloading gensim-3.8.3-cp36-cp36m-manylinux1_x86_64.whl (24.2 MB)\n",
      "\u001b[K     |████████████████████████████████| 24.2 MB 22.0 MB/s eta 0:00:01\n",
      "\u001b[?25hRequirement already satisfied: scipy>=0.18.1 in /home/ec2-user/anaconda3/envs/python3/lib/python3.6/site-packages (from gensim==3.8.3) (1.5.3)\n",
      "Collecting smart-open>=1.8.1\n",
      "  Downloading smart_open-5.2.0-py3-none-any.whl (58 kB)\n",
      "\u001b[K     |████████████████████████████████| 58 kB 10.2 MB/s eta 0:00:01\n",
      "\u001b[?25hRequirement already satisfied: numpy>=1.11.3 in /home/ec2-user/anaconda3/envs/python3/lib/python3.6/site-packages (from gensim==3.8.3) (1.19.5)\n",
      "Requirement already satisfied: six>=1.5.0 in /home/ec2-user/anaconda3/envs/python3/lib/python3.6/site-packages (from gensim==3.8.3) (1.15.0)\n",
      "Installing collected packages: smart-open, gensim\n",
      "Successfully installed gensim-3.8.3 smart-open-5.2.0\n",
      "\u001b[33mWARNING: You are using pip version 21.1.3; however, version 21.2.4 is available.\n",
      "You should consider upgrading via the '/home/ec2-user/anaconda3/envs/python3/bin/python -m pip install --upgrade pip' command.\u001b[0m\n"
     ]
    }
   ],
   "source": [
    "! pip install gensim==3.8.3"
   ]
  },
  {
   "cell_type": "code",
   "execution_count": 3,
   "id": "9af956a6",
   "metadata": {},
   "outputs": [
    {
     "name": "stdout",
     "output_type": "stream",
     "text": [
      "['survey', 'user', 'computer', 'system', 'response', 'time']\n",
      "9\n"
     ]
    }
   ],
   "source": [
    "import gensim\n",
    "from gensim.models import FastText\n",
    "from gensim.test.utils import common_texts  # some example sentences\n",
    "from gensim.utils import simple_preprocess\n",
    "print(common_texts[1])\n",
    "print(len(common_texts))"
   ]
  },
  {
   "cell_type": "markdown",
   "id": "fa005330",
   "metadata": {},
   "source": [
    "gemsim expects the sentences to already be tokenized and pre-processed."
   ]
  },
  {
   "cell_type": "code",
   "execution_count": 5,
   "id": "e03c80a8",
   "metadata": {},
   "outputs": [],
   "source": [
    "import pandas as pd\n",
    "import numpy as np\n",
    "import json\n",
    "import sagemaker"
   ]
  },
  {
   "cell_type": "code",
   "execution_count": 6,
   "id": "80dd31a7",
   "metadata": {},
   "outputs": [],
   "source": [
    "# Get SageMaker session & default S3 bucket\n",
    "sagemaker_session = sagemaker.Session()\n",
    "bucket = sagemaker_session.default_bucket() # replace with your own bucket if you have one \n",
    "s3 = sagemaker_session.boto_session.resource('s3')\n",
    "\n",
    "\n",
    "prefix_gensim = 'data_gensim_xgb'\n",
    "prefix_fasttext = 'data_fasttext'"
   ]
  },
  {
   "cell_type": "markdown",
   "id": "ccf074e5",
   "metadata": {},
   "source": [
    "## Get the data into a working format with just the features we need"
   ]
  },
  {
   "cell_type": "code",
   "execution_count": 7,
   "id": "a4aaf8b4",
   "metadata": {},
   "outputs": [
    {
     "name": "stdout",
     "output_type": "stream",
     "text": [
      "--2021-08-25 07:34:55--  http://deepyeti.ucsd.edu/jianmo/amazon/metaFiles/meta_Books.json.gz\n",
      "Resolving deepyeti.ucsd.edu (deepyeti.ucsd.edu)... 169.228.63.50\n",
      "Connecting to deepyeti.ucsd.edu (deepyeti.ucsd.edu)|169.228.63.50|:80... connected.\n",
      "HTTP request sent, awaiting response... 200 OK\n",
      "Length: 1215601087 (1.1G) [application/octet-stream]\n",
      "Saving to: ‘meta_Books.json.gz’\n",
      "\n",
      "meta_Books.json.gz  100%[===================>]   1.13G  17.1MB/s    in 70s     \n",
      "\n",
      "2021-08-25 07:36:06 (16.7 MB/s) - ‘meta_Books.json.gz’ saved [1215601087/1215601087]\n",
      "\n"
     ]
    }
   ],
   "source": [
    "# Downloading the book metadata\n",
    "! wget http://deepyeti.ucsd.edu/jianmo/amazon/metaFiles/meta_Books.json.gz\n",
    "# Uncompressing\n",
    "!gzip -d meta_Books.json.gz -f"
   ]
  },
  {
   "cell_type": "markdown",
   "id": "09ae6a5f",
   "metadata": {},
   "source": [
    "The filesize is a bit too big, so we can reduce that if the below line by taking a subset of that dataset."
   ]
  },
  {
   "cell_type": "code",
   "execution_count": 8,
   "id": "88d76748",
   "metadata": {},
   "outputs": [],
   "source": [
    "#Reducing the dataset \n",
    "! head -n 50000 meta_Books.json > books_train.json"
   ]
  },
  {
   "cell_type": "code",
   "execution_count": 9,
   "id": "463ccab3",
   "metadata": {},
   "outputs": [
    {
     "data": {
      "text/html": [
       "<div>\n",
       "<style scoped>\n",
       "    .dataframe tbody tr th:only-of-type {\n",
       "        vertical-align: middle;\n",
       "    }\n",
       "\n",
       "    .dataframe tbody tr th {\n",
       "        vertical-align: top;\n",
       "    }\n",
       "\n",
       "    .dataframe thead th {\n",
       "        text-align: right;\n",
       "    }\n",
       "</style>\n",
       "<table border=\"1\" class=\"dataframe\">\n",
       "  <thead>\n",
       "    <tr style=\"text-align: right;\">\n",
       "      <th></th>\n",
       "      <th>category</th>\n",
       "      <th>tech1</th>\n",
       "      <th>description</th>\n",
       "      <th>fit</th>\n",
       "      <th>title</th>\n",
       "      <th>also_buy</th>\n",
       "      <th>image</th>\n",
       "      <th>tech2</th>\n",
       "      <th>brand</th>\n",
       "      <th>feature</th>\n",
       "      <th>rank</th>\n",
       "      <th>also_view</th>\n",
       "      <th>main_cat</th>\n",
       "      <th>similar_item</th>\n",
       "      <th>date</th>\n",
       "      <th>price</th>\n",
       "      <th>asin</th>\n",
       "    </tr>\n",
       "  </thead>\n",
       "  <tbody>\n",
       "    <tr>\n",
       "      <th>0</th>\n",
       "      <td>[Books, Children's Books, Growing Up &amp;amp; Fac...</td>\n",
       "      <td></td>\n",
       "      <td>[PreSchool-Grade 2-When Katie's water phobia t...</td>\n",
       "      <td></td>\n",
       "      <td>Katie Catz Makes a Splash (Good Sports)</td>\n",
       "      <td>[0618914846, 0140553126, 0803718829]</td>\n",
       "      <td>[]</td>\n",
       "      <td></td>\n",
       "      <td>Visit Amazon's Anne Rockwell Page</td>\n",
       "      <td>[]</td>\n",
       "      <td>2,391,924 in Books (</td>\n",
       "      <td>[]</td>\n",
       "      <td>Books</td>\n",
       "      <td></td>\n",
       "      <td>NaT</td>\n",
       "      <td></td>\n",
       "      <td>0060284412</td>\n",
       "    </tr>\n",
       "    <tr>\n",
       "      <th>1</th>\n",
       "      <td>[Books, Biographies &amp; Memoirs, Historical]</td>\n",
       "      <td></td>\n",
       "      <td>[This brief biography focuses more on the poli...</td>\n",
       "      <td></td>\n",
       "      <td>Andrew Jackson</td>\n",
       "      <td>[0307946371, 189311449X, 1457694700, 081297346...</td>\n",
       "      <td>[]</td>\n",
       "      <td></td>\n",
       "      <td>Robert V. Remini</td>\n",
       "      <td>[]</td>\n",
       "      <td>512,869 in Books (</td>\n",
       "      <td>[0061807885, 0812973461, 1400030722, 080185911...</td>\n",
       "      <td>Books</td>\n",
       "      <td></td>\n",
       "      <td>NaT</td>\n",
       "      <td>$9.76</td>\n",
       "      <td>0060801328</td>\n",
       "    </tr>\n",
       "    <tr>\n",
       "      <th>2</th>\n",
       "      <td>[Books, Literature &amp;amp; Fiction, Genre Fiction]</td>\n",
       "      <td></td>\n",
       "      <td>[Racial and class conflicts simmer in this lac...</td>\n",
       "      <td></td>\n",
       "      <td>The Water Dancers: A Novel</td>\n",
       "      <td>[]</td>\n",
       "      <td>[]</td>\n",
       "      <td></td>\n",
       "      <td>Ms. Terry Gamble</td>\n",
       "      <td>[]</td>\n",
       "      <td>4,845,671 in Books (</td>\n",
       "      <td>[0062839896, 0060737948]</td>\n",
       "      <td>Books</td>\n",
       "      <td></td>\n",
       "      <td>NaT</td>\n",
       "      <td>$2.40</td>\n",
       "      <td>0060542667</td>\n",
       "    </tr>\n",
       "    <tr>\n",
       "      <th>3</th>\n",
       "      <td>[Books, Christian Books &amp;amp; Bibles, Catholic...</td>\n",
       "      <td></td>\n",
       "      <td>[Spong, an Episcopal bishop and best-selling a...</td>\n",
       "      <td></td>\n",
       "      <td>Born of a Woman: A Bishop Rethinks the Birth o...</td>\n",
       "      <td>[0062641298, 0060762055, 0060675322, 006067556...</td>\n",
       "      <td>[]</td>\n",
       "      <td></td>\n",
       "      <td>Visit Amazon's John Shelby Spong Page</td>\n",
       "      <td>[]</td>\n",
       "      <td>1,829,110 in Books (</td>\n",
       "      <td>[0060675187, 0060778423, 0060778407, 006236231...</td>\n",
       "      <td>Books</td>\n",
       "      <td></td>\n",
       "      <td>NaT</td>\n",
       "      <td>$14.69</td>\n",
       "      <td>0060675136</td>\n",
       "    </tr>\n",
       "    <tr>\n",
       "      <th>4</th>\n",
       "      <td>[Books, History, World]</td>\n",
       "      <td></td>\n",
       "      <td>[Re-creates the world from the second to the f...</td>\n",
       "      <td></td>\n",
       "      <td>Pagans and Christians</td>\n",
       "      <td>[0679744061, 0307743748, 1631492225, 140514911...</td>\n",
       "      <td>[]</td>\n",
       "      <td></td>\n",
       "      <td>Visit Amazon's Robin Lane Fox Page</td>\n",
       "      <td>[]</td>\n",
       "      <td>1,548,931 in Books (</td>\n",
       "      <td>[0141022957, 0141022965, 0192803204, 067403218...</td>\n",
       "      <td>Books</td>\n",
       "      <td></td>\n",
       "      <td>NaT</td>\n",
       "      <td>$9.89</td>\n",
       "      <td>0060628529</td>\n",
       "    </tr>\n",
       "  </tbody>\n",
       "</table>\n",
       "</div>"
      ],
      "text/plain": [
       "                                            category tech1  \\\n",
       "0  [Books, Children's Books, Growing Up &amp; Fac...         \n",
       "1         [Books, Biographies & Memoirs, Historical]         \n",
       "2   [Books, Literature &amp; Fiction, Genre Fiction]         \n",
       "3  [Books, Christian Books &amp; Bibles, Catholic...         \n",
       "4                            [Books, History, World]         \n",
       "\n",
       "                                         description fit  \\\n",
       "0  [PreSchool-Grade 2-When Katie's water phobia t...       \n",
       "1  [This brief biography focuses more on the poli...       \n",
       "2  [Racial and class conflicts simmer in this lac...       \n",
       "3  [Spong, an Episcopal bishop and best-selling a...       \n",
       "4  [Re-creates the world from the second to the f...       \n",
       "\n",
       "                                               title  \\\n",
       "0            Katie Catz Makes a Splash (Good Sports)   \n",
       "1                                     Andrew Jackson   \n",
       "2                         The Water Dancers: A Novel   \n",
       "3  Born of a Woman: A Bishop Rethinks the Birth o...   \n",
       "4                              Pagans and Christians   \n",
       "\n",
       "                                            also_buy image tech2  \\\n",
       "0               [0618914846, 0140553126, 0803718829]    []         \n",
       "1  [0307946371, 189311449X, 1457694700, 081297346...    []         \n",
       "2                                                 []    []         \n",
       "3  [0062641298, 0060762055, 0060675322, 006067556...    []         \n",
       "4  [0679744061, 0307743748, 1631492225, 140514911...    []         \n",
       "\n",
       "                                   brand feature                  rank  \\\n",
       "0      Visit Amazon's Anne Rockwell Page      []  2,391,924 in Books (   \n",
       "1                       Robert V. Remini      []    512,869 in Books (   \n",
       "2                       Ms. Terry Gamble      []  4,845,671 in Books (   \n",
       "3  Visit Amazon's John Shelby Spong Page      []  1,829,110 in Books (   \n",
       "4     Visit Amazon's Robin Lane Fox Page      []  1,548,931 in Books (   \n",
       "\n",
       "                                           also_view main_cat similar_item  \\\n",
       "0                                                 []    Books                \n",
       "1  [0061807885, 0812973461, 1400030722, 080185911...    Books                \n",
       "2                           [0062839896, 0060737948]    Books                \n",
       "3  [0060675187, 0060778423, 0060778407, 006236231...    Books                \n",
       "4  [0141022957, 0141022965, 0192803204, 067403218...    Books                \n",
       "\n",
       "  date   price        asin  \n",
       "0  NaT          0060284412  \n",
       "1  NaT   $9.76  0060801328  \n",
       "2  NaT   $2.40  0060542667  \n",
       "3  NaT  $14.69  0060675136  \n",
       "4  NaT   $9.89  0060628529  "
      ]
     },
     "execution_count": 9,
     "metadata": {},
     "output_type": "execute_result"
    }
   ],
   "source": [
    "#load data\n",
    "data=pd.read_json('books_train.json', lines=True)\n",
    "#shuffle the data in place\n",
    "data = data.sample(frac=1).reset_index(drop=True)\n",
    "# show first few rows\n",
    "data.head()"
   ]
  },
  {
   "cell_type": "markdown",
   "id": "f2e7a3cf",
   "metadata": {},
   "source": [
    "We are only interested in a few columns from this dataset, so we will create a dataframe that onyl returns these"
   ]
  },
  {
   "cell_type": "code",
   "execution_count": 10,
   "id": "a3fc6332",
   "metadata": {},
   "outputs": [],
   "source": [
    "data_subset = data[[\"category\",\"description\", \"title\" ]]"
   ]
  },
  {
   "cell_type": "code",
   "execution_count": 11,
   "id": "e475de20",
   "metadata": {},
   "outputs": [
    {
     "data": {
      "text/html": [
       "<div>\n",
       "<style scoped>\n",
       "    .dataframe tbody tr th:only-of-type {\n",
       "        vertical-align: middle;\n",
       "    }\n",
       "\n",
       "    .dataframe tbody tr th {\n",
       "        vertical-align: top;\n",
       "    }\n",
       "\n",
       "    .dataframe thead th {\n",
       "        text-align: right;\n",
       "    }\n",
       "</style>\n",
       "<table border=\"1\" class=\"dataframe\">\n",
       "  <thead>\n",
       "    <tr style=\"text-align: right;\">\n",
       "      <th></th>\n",
       "      <th>category</th>\n",
       "      <th>description</th>\n",
       "      <th>title</th>\n",
       "    </tr>\n",
       "  </thead>\n",
       "  <tbody>\n",
       "    <tr>\n",
       "      <th>0</th>\n",
       "      <td>[Books, Children's Books, Growing Up &amp;amp; Fac...</td>\n",
       "      <td>[PreSchool-Grade 2-When Katie's water phobia t...</td>\n",
       "      <td>Katie Catz Makes a Splash (Good Sports)</td>\n",
       "    </tr>\n",
       "    <tr>\n",
       "      <th>1</th>\n",
       "      <td>[Books, Biographies &amp; Memoirs, Historical]</td>\n",
       "      <td>[This brief biography focuses more on the poli...</td>\n",
       "      <td>Andrew Jackson</td>\n",
       "    </tr>\n",
       "    <tr>\n",
       "      <th>2</th>\n",
       "      <td>[Books, Literature &amp;amp; Fiction, Genre Fiction]</td>\n",
       "      <td>[Racial and class conflicts simmer in this lac...</td>\n",
       "      <td>The Water Dancers: A Novel</td>\n",
       "    </tr>\n",
       "    <tr>\n",
       "      <th>3</th>\n",
       "      <td>[Books, Christian Books &amp;amp; Bibles, Catholic...</td>\n",
       "      <td>[Spong, an Episcopal bishop and best-selling a...</td>\n",
       "      <td>Born of a Woman: A Bishop Rethinks the Birth o...</td>\n",
       "    </tr>\n",
       "    <tr>\n",
       "      <th>4</th>\n",
       "      <td>[Books, History, World]</td>\n",
       "      <td>[Re-creates the world from the second to the f...</td>\n",
       "      <td>Pagans and Christians</td>\n",
       "    </tr>\n",
       "  </tbody>\n",
       "</table>\n",
       "</div>"
      ],
      "text/plain": [
       "                                            category  \\\n",
       "0  [Books, Children's Books, Growing Up &amp; Fac...   \n",
       "1         [Books, Biographies & Memoirs, Historical]   \n",
       "2   [Books, Literature &amp; Fiction, Genre Fiction]   \n",
       "3  [Books, Christian Books &amp; Bibles, Catholic...   \n",
       "4                            [Books, History, World]   \n",
       "\n",
       "                                         description  \\\n",
       "0  [PreSchool-Grade 2-When Katie's water phobia t...   \n",
       "1  [This brief biography focuses more on the poli...   \n",
       "2  [Racial and class conflicts simmer in this lac...   \n",
       "3  [Spong, an Episcopal bishop and best-selling a...   \n",
       "4  [Re-creates the world from the second to the f...   \n",
       "\n",
       "                                               title  \n",
       "0            Katie Catz Makes a Splash (Good Sports)  \n",
       "1                                     Andrew Jackson  \n",
       "2                         The Water Dancers: A Novel  \n",
       "3  Born of a Woman: A Bishop Rethinks the Birth o...  \n",
       "4                              Pagans and Christians  "
      ]
     },
     "execution_count": 11,
     "metadata": {},
     "output_type": "execute_result"
    }
   ],
   "source": [
    "data_subset.head()"
   ]
  },
  {
   "cell_type": "markdown",
   "id": "e9e6cccf",
   "metadata": {},
   "source": [
    "We will do some analysis of the data we have here to see how the data looks."
   ]
  },
  {
   "cell_type": "code",
   "execution_count": 12,
   "id": "dc448bc8",
   "metadata": {},
   "outputs": [],
   "source": [
    "length = data_subset.category.apply(len)"
   ]
  },
  {
   "cell_type": "code",
   "execution_count": 13,
   "id": "8cf80892",
   "metadata": {},
   "outputs": [
    {
     "data": {
      "text/plain": [
       "array([3, 2, 0, 4, 5])"
      ]
     },
     "execution_count": 13,
     "metadata": {},
     "output_type": "execute_result"
    }
   ],
   "source": [
    "length.unique()"
   ]
  },
  {
   "cell_type": "code",
   "execution_count": 14,
   "id": "120188e9",
   "metadata": {},
   "outputs": [
    {
     "name": "stderr",
     "output_type": "stream",
     "text": [
      "/home/ec2-user/anaconda3/envs/python3/lib/python3.6/site-packages/ipykernel/__main__.py:1: SettingWithCopyWarning: \n",
      "A value is trying to be set on a copy of a slice from a DataFrame.\n",
      "Try using .loc[row_indexer,col_indexer] = value instead\n",
      "\n",
      "See the caveats in the documentation: https://pandas.pydata.org/pandas-docs/stable/user_guide/indexing.html#returning-a-view-versus-a-copy\n",
      "  if __name__ == '__main__':\n"
     ]
    }
   ],
   "source": [
    "data_subset[\"cnt_cats\"] = data_subset.category.apply(len)"
   ]
  },
  {
   "cell_type": "code",
   "execution_count": 15,
   "id": "703a0ce6",
   "metadata": {},
   "outputs": [
    {
     "name": "stderr",
     "output_type": "stream",
     "text": [
      "/home/ec2-user/anaconda3/envs/python3/lib/python3.6/site-packages/ipykernel/__main__.py:1: SettingWithCopyWarning: \n",
      "A value is trying to be set on a copy of a slice from a DataFrame.\n",
      "Try using .loc[row_indexer,col_indexer] = value instead\n",
      "\n",
      "See the caveats in the documentation: https://pandas.pydata.org/pandas-docs/stable/user_guide/indexing.html#returning-a-view-versus-a-copy\n",
      "  if __name__ == '__main__':\n"
     ]
    },
    {
     "data": {
      "text/html": [
       "<div>\n",
       "<style scoped>\n",
       "    .dataframe tbody tr th:only-of-type {\n",
       "        vertical-align: middle;\n",
       "    }\n",
       "\n",
       "    .dataframe tbody tr th {\n",
       "        vertical-align: top;\n",
       "    }\n",
       "\n",
       "    .dataframe thead th {\n",
       "        text-align: right;\n",
       "    }\n",
       "</style>\n",
       "<table border=\"1\" class=\"dataframe\">\n",
       "  <thead>\n",
       "    <tr style=\"text-align: right;\">\n",
       "      <th></th>\n",
       "      <th>category</th>\n",
       "      <th>description</th>\n",
       "      <th>title</th>\n",
       "      <th>cnt_cats</th>\n",
       "      <th>cnt_desc</th>\n",
       "    </tr>\n",
       "  </thead>\n",
       "  <tbody>\n",
       "    <tr>\n",
       "      <th>0</th>\n",
       "      <td>[Books, Children's Books, Growing Up &amp;amp; Fac...</td>\n",
       "      <td>[PreSchool-Grade 2-When Katie's water phobia t...</td>\n",
       "      <td>Katie Catz Makes a Splash (Good Sports)</td>\n",
       "      <td>3</td>\n",
       "      <td>11</td>\n",
       "    </tr>\n",
       "    <tr>\n",
       "      <th>1</th>\n",
       "      <td>[Books, Biographies &amp; Memoirs, Historical]</td>\n",
       "      <td>[This brief biography focuses more on the poli...</td>\n",
       "      <td>Andrew Jackson</td>\n",
       "      <td>3</td>\n",
       "      <td>2</td>\n",
       "    </tr>\n",
       "    <tr>\n",
       "      <th>2</th>\n",
       "      <td>[Books, Literature &amp;amp; Fiction, Genre Fiction]</td>\n",
       "      <td>[Racial and class conflicts simmer in this lac...</td>\n",
       "      <td>The Water Dancers: A Novel</td>\n",
       "      <td>3</td>\n",
       "      <td>4</td>\n",
       "    </tr>\n",
       "    <tr>\n",
       "      <th>3</th>\n",
       "      <td>[Books, Christian Books &amp;amp; Bibles, Catholic...</td>\n",
       "      <td>[Spong, an Episcopal bishop and best-selling a...</td>\n",
       "      <td>Born of a Woman: A Bishop Rethinks the Birth o...</td>\n",
       "      <td>3</td>\n",
       "      <td>3</td>\n",
       "    </tr>\n",
       "    <tr>\n",
       "      <th>4</th>\n",
       "      <td>[Books, History, World]</td>\n",
       "      <td>[Re-creates the world from the second to the f...</td>\n",
       "      <td>Pagans and Christians</td>\n",
       "      <td>3</td>\n",
       "      <td>3</td>\n",
       "    </tr>\n",
       "  </tbody>\n",
       "</table>\n",
       "</div>"
      ],
      "text/plain": [
       "                                            category  \\\n",
       "0  [Books, Children's Books, Growing Up &amp; Fac...   \n",
       "1         [Books, Biographies & Memoirs, Historical]   \n",
       "2   [Books, Literature &amp; Fiction, Genre Fiction]   \n",
       "3  [Books, Christian Books &amp; Bibles, Catholic...   \n",
       "4                            [Books, History, World]   \n",
       "\n",
       "                                         description  \\\n",
       "0  [PreSchool-Grade 2-When Katie's water phobia t...   \n",
       "1  [This brief biography focuses more on the poli...   \n",
       "2  [Racial and class conflicts simmer in this lac...   \n",
       "3  [Spong, an Episcopal bishop and best-selling a...   \n",
       "4  [Re-creates the world from the second to the f...   \n",
       "\n",
       "                                               title  cnt_cats  cnt_desc  \n",
       "0            Katie Catz Makes a Splash (Good Sports)         3        11  \n",
       "1                                     Andrew Jackson         3         2  \n",
       "2                         The Water Dancers: A Novel         3         4  \n",
       "3  Born of a Woman: A Bishop Rethinks the Birth o...         3         3  \n",
       "4                              Pagans and Christians         3         3  "
      ]
     },
     "execution_count": 15,
     "metadata": {},
     "output_type": "execute_result"
    }
   ],
   "source": [
    "data_subset[\"cnt_desc\"] = data_subset.description.apply(len)\n",
    "data_subset.head()"
   ]
  },
  {
   "cell_type": "code",
   "execution_count": 16,
   "id": "6b70993b",
   "metadata": {},
   "outputs": [],
   "source": [
    "# delete the rows that have no category\n",
    "data_subset = data_subset[data_subset.cnt_cats != 0]\n",
    "data_subset = data_subset[data_subset.cnt_desc != 0]"
   ]
  },
  {
   "cell_type": "code",
   "execution_count": 17,
   "id": "ee292dcc",
   "metadata": {},
   "outputs": [
    {
     "data": {
      "text/html": [
       "<div>\n",
       "<style scoped>\n",
       "    .dataframe tbody tr th:only-of-type {\n",
       "        vertical-align: middle;\n",
       "    }\n",
       "\n",
       "    .dataframe tbody tr th {\n",
       "        vertical-align: top;\n",
       "    }\n",
       "\n",
       "    .dataframe thead th {\n",
       "        text-align: right;\n",
       "    }\n",
       "</style>\n",
       "<table border=\"1\" class=\"dataframe\">\n",
       "  <thead>\n",
       "    <tr style=\"text-align: right;\">\n",
       "      <th></th>\n",
       "      <th>category</th>\n",
       "      <th>description</th>\n",
       "      <th>title</th>\n",
       "      <th>cnt_cats</th>\n",
       "      <th>cnt_desc</th>\n",
       "    </tr>\n",
       "  </thead>\n",
       "  <tbody>\n",
       "    <tr>\n",
       "      <th>0</th>\n",
       "      <td>[Books, Children's Books, Growing Up &amp;amp; Fac...</td>\n",
       "      <td>[PreSchool-Grade 2-When Katie's water phobia t...</td>\n",
       "      <td>Katie Catz Makes a Splash (Good Sports)</td>\n",
       "      <td>3</td>\n",
       "      <td>11</td>\n",
       "    </tr>\n",
       "    <tr>\n",
       "      <th>1</th>\n",
       "      <td>[Books, Biographies &amp; Memoirs, Historical]</td>\n",
       "      <td>[This brief biography focuses more on the poli...</td>\n",
       "      <td>Andrew Jackson</td>\n",
       "      <td>3</td>\n",
       "      <td>2</td>\n",
       "    </tr>\n",
       "    <tr>\n",
       "      <th>2</th>\n",
       "      <td>[Books, Literature &amp;amp; Fiction, Genre Fiction]</td>\n",
       "      <td>[Racial and class conflicts simmer in this lac...</td>\n",
       "      <td>The Water Dancers: A Novel</td>\n",
       "      <td>3</td>\n",
       "      <td>4</td>\n",
       "    </tr>\n",
       "    <tr>\n",
       "      <th>3</th>\n",
       "      <td>[Books, Christian Books &amp;amp; Bibles, Catholic...</td>\n",
       "      <td>[Spong, an Episcopal bishop and best-selling a...</td>\n",
       "      <td>Born of a Woman: A Bishop Rethinks the Birth o...</td>\n",
       "      <td>3</td>\n",
       "      <td>3</td>\n",
       "    </tr>\n",
       "    <tr>\n",
       "      <th>4</th>\n",
       "      <td>[Books, History, World]</td>\n",
       "      <td>[Re-creates the world from the second to the f...</td>\n",
       "      <td>Pagans and Christians</td>\n",
       "      <td>3</td>\n",
       "      <td>3</td>\n",
       "    </tr>\n",
       "  </tbody>\n",
       "</table>\n",
       "</div>"
      ],
      "text/plain": [
       "                                            category  \\\n",
       "0  [Books, Children's Books, Growing Up &amp; Fac...   \n",
       "1         [Books, Biographies & Memoirs, Historical]   \n",
       "2   [Books, Literature &amp; Fiction, Genre Fiction]   \n",
       "3  [Books, Christian Books &amp; Bibles, Catholic...   \n",
       "4                            [Books, History, World]   \n",
       "\n",
       "                                         description  \\\n",
       "0  [PreSchool-Grade 2-When Katie's water phobia t...   \n",
       "1  [This brief biography focuses more on the poli...   \n",
       "2  [Racial and class conflicts simmer in this lac...   \n",
       "3  [Spong, an Episcopal bishop and best-selling a...   \n",
       "4  [Re-creates the world from the second to the f...   \n",
       "\n",
       "                                               title  cnt_cats  cnt_desc  \n",
       "0            Katie Catz Makes a Splash (Good Sports)         3        11  \n",
       "1                                     Andrew Jackson         3         2  \n",
       "2                         The Water Dancers: A Novel         3         4  \n",
       "3  Born of a Woman: A Bishop Rethinks the Birth o...         3         3  \n",
       "4                              Pagans and Christians         3         3  "
      ]
     },
     "execution_count": 17,
     "metadata": {},
     "output_type": "execute_result"
    }
   ],
   "source": [
    "data_subset.head()"
   ]
  },
  {
   "cell_type": "code",
   "execution_count": 18,
   "id": "72417b0c",
   "metadata": {},
   "outputs": [],
   "source": [
    "data_subset[\"cat_x2\"] = data_subset[\"category\"].str[1]"
   ]
  },
  {
   "cell_type": "code",
   "execution_count": 19,
   "id": "4ec92122",
   "metadata": {},
   "outputs": [
    {
     "data": {
      "text/html": [
       "<div>\n",
       "<style scoped>\n",
       "    .dataframe tbody tr th:only-of-type {\n",
       "        vertical-align: middle;\n",
       "    }\n",
       "\n",
       "    .dataframe tbody tr th {\n",
       "        vertical-align: top;\n",
       "    }\n",
       "\n",
       "    .dataframe thead th {\n",
       "        text-align: right;\n",
       "    }\n",
       "</style>\n",
       "<table border=\"1\" class=\"dataframe\">\n",
       "  <thead>\n",
       "    <tr style=\"text-align: right;\">\n",
       "      <th></th>\n",
       "      <th>category</th>\n",
       "      <th>description</th>\n",
       "      <th>title</th>\n",
       "      <th>cnt_cats</th>\n",
       "      <th>cnt_desc</th>\n",
       "      <th>cat_x2</th>\n",
       "    </tr>\n",
       "  </thead>\n",
       "  <tbody>\n",
       "    <tr>\n",
       "      <th>0</th>\n",
       "      <td>[Books, Children's Books, Growing Up &amp;amp; Fac...</td>\n",
       "      <td>[PreSchool-Grade 2-When Katie's water phobia t...</td>\n",
       "      <td>Katie Catz Makes a Splash (Good Sports)</td>\n",
       "      <td>3</td>\n",
       "      <td>11</td>\n",
       "      <td>Children's Books</td>\n",
       "    </tr>\n",
       "    <tr>\n",
       "      <th>1</th>\n",
       "      <td>[Books, Biographies &amp; Memoirs, Historical]</td>\n",
       "      <td>[This brief biography focuses more on the poli...</td>\n",
       "      <td>Andrew Jackson</td>\n",
       "      <td>3</td>\n",
       "      <td>2</td>\n",
       "      <td>Biographies &amp; Memoirs</td>\n",
       "    </tr>\n",
       "    <tr>\n",
       "      <th>2</th>\n",
       "      <td>[Books, Literature &amp;amp; Fiction, Genre Fiction]</td>\n",
       "      <td>[Racial and class conflicts simmer in this lac...</td>\n",
       "      <td>The Water Dancers: A Novel</td>\n",
       "      <td>3</td>\n",
       "      <td>4</td>\n",
       "      <td>Literature &amp;amp; Fiction</td>\n",
       "    </tr>\n",
       "    <tr>\n",
       "      <th>3</th>\n",
       "      <td>[Books, Christian Books &amp;amp; Bibles, Catholic...</td>\n",
       "      <td>[Spong, an Episcopal bishop and best-selling a...</td>\n",
       "      <td>Born of a Woman: A Bishop Rethinks the Birth o...</td>\n",
       "      <td>3</td>\n",
       "      <td>3</td>\n",
       "      <td>Christian Books &amp;amp; Bibles</td>\n",
       "    </tr>\n",
       "    <tr>\n",
       "      <th>4</th>\n",
       "      <td>[Books, History, World]</td>\n",
       "      <td>[Re-creates the world from the second to the f...</td>\n",
       "      <td>Pagans and Christians</td>\n",
       "      <td>3</td>\n",
       "      <td>3</td>\n",
       "      <td>History</td>\n",
       "    </tr>\n",
       "    <tr>\n",
       "      <th>6</th>\n",
       "      <td>[Books, Business &amp;amp; Money, Marketing &amp;amp; ...</td>\n",
       "      <td>[A few years ago, everybody with a product to ...</td>\n",
       "      <td>Loyalty.Com: Customer Relationship Management ...</td>\n",
       "      <td>3</td>\n",
       "      <td>5</td>\n",
       "      <td>Business &amp;amp; Money</td>\n",
       "    </tr>\n",
       "    <tr>\n",
       "      <th>7</th>\n",
       "      <td>[Books, New, Used &amp; Rental Textbooks]</td>\n",
       "      <td>[These two books restore the true perspective ...</td>\n",
       "      <td>Oscar Wilde: Interviews and Recollections (2 V...</td>\n",
       "      <td>2</td>\n",
       "      <td>1</td>\n",
       "      <td>New, Used &amp; Rental Textbooks</td>\n",
       "    </tr>\n",
       "    <tr>\n",
       "      <th>8</th>\n",
       "      <td>[Books, Literature &amp;amp; Fiction, Genre Fiction]</td>\n",
       "      <td>[, Tanner Coles football career was over in le...</td>\n",
       "      <td>Necessary Roughness</td>\n",
       "      <td>3</td>\n",
       "      <td>10</td>\n",
       "      <td>Literature &amp;amp; Fiction</td>\n",
       "    </tr>\n",
       "    <tr>\n",
       "      <th>9</th>\n",
       "      <td>[Books, Literature &amp;amp; Fiction, United States]</td>\n",
       "      <td>[An intrepid heroine with a fierce protective ...</td>\n",
       "      <td>While the Duke Was Sleeping: The Rogue Files</td>\n",
       "      <td>3</td>\n",
       "      <td>9</td>\n",
       "      <td>Literature &amp;amp; Fiction</td>\n",
       "    </tr>\n",
       "    <tr>\n",
       "      <th>10</th>\n",
       "      <td>[Books, Children's Books, Education &amp;amp; Refe...</td>\n",
       "      <td>[Gr 3-6With the help of his characters Arlo, E...</td>\n",
       "      <td>My Weird Writing Tips (My Weird School)</td>\n",
       "      <td>3</td>\n",
       "      <td>4</td>\n",
       "      <td>Children's Books</td>\n",
       "    </tr>\n",
       "  </tbody>\n",
       "</table>\n",
       "</div>"
      ],
      "text/plain": [
       "                                             category  \\\n",
       "0   [Books, Children's Books, Growing Up &amp; Fac...   \n",
       "1          [Books, Biographies & Memoirs, Historical]   \n",
       "2    [Books, Literature &amp; Fiction, Genre Fiction]   \n",
       "3   [Books, Christian Books &amp; Bibles, Catholic...   \n",
       "4                             [Books, History, World]   \n",
       "6   [Books, Business &amp; Money, Marketing &amp; ...   \n",
       "7               [Books, New, Used & Rental Textbooks]   \n",
       "8    [Books, Literature &amp; Fiction, Genre Fiction]   \n",
       "9    [Books, Literature &amp; Fiction, United States]   \n",
       "10  [Books, Children's Books, Education &amp; Refe...   \n",
       "\n",
       "                                          description  \\\n",
       "0   [PreSchool-Grade 2-When Katie's water phobia t...   \n",
       "1   [This brief biography focuses more on the poli...   \n",
       "2   [Racial and class conflicts simmer in this lac...   \n",
       "3   [Spong, an Episcopal bishop and best-selling a...   \n",
       "4   [Re-creates the world from the second to the f...   \n",
       "6   [A few years ago, everybody with a product to ...   \n",
       "7   [These two books restore the true perspective ...   \n",
       "8   [, Tanner Coles football career was over in le...   \n",
       "9   [An intrepid heroine with a fierce protective ...   \n",
       "10  [Gr 3-6With the help of his characters Arlo, E...   \n",
       "\n",
       "                                                title  cnt_cats  cnt_desc  \\\n",
       "0             Katie Catz Makes a Splash (Good Sports)         3        11   \n",
       "1                                      Andrew Jackson         3         2   \n",
       "2                          The Water Dancers: A Novel         3         4   \n",
       "3   Born of a Woman: A Bishop Rethinks the Birth o...         3         3   \n",
       "4                               Pagans and Christians         3         3   \n",
       "6   Loyalty.Com: Customer Relationship Management ...         3         5   \n",
       "7   Oscar Wilde: Interviews and Recollections (2 V...         2         1   \n",
       "8                                 Necessary Roughness         3        10   \n",
       "9        While the Duke Was Sleeping: The Rogue Files         3         9   \n",
       "10            My Weird Writing Tips (My Weird School)         3         4   \n",
       "\n",
       "                          cat_x2  \n",
       "0               Children's Books  \n",
       "1          Biographies & Memoirs  \n",
       "2       Literature &amp; Fiction  \n",
       "3   Christian Books &amp; Bibles  \n",
       "4                        History  \n",
       "6           Business &amp; Money  \n",
       "7   New, Used & Rental Textbooks  \n",
       "8       Literature &amp; Fiction  \n",
       "9       Literature &amp; Fiction  \n",
       "10              Children's Books  "
      ]
     },
     "execution_count": 19,
     "metadata": {},
     "output_type": "execute_result"
    }
   ],
   "source": [
    "data_subset.head(10)"
   ]
  },
  {
   "cell_type": "markdown",
   "id": "3169d8ad",
   "metadata": {},
   "source": [
    "We can see that the category column has an array which is a hierachy classification of the book. We can train our classifer on just one of those, they are all books, so no need to be interested in the first element, but the second element looks more interesting."
   ]
  },
  {
   "cell_type": "markdown",
   "id": "a2b8ff50",
   "metadata": {},
   "source": [
    "We just want to clean some of the data as we can see there was some encoding issues whcih we can fix with a \"replace\""
   ]
  },
  {
   "cell_type": "code",
   "execution_count": 20,
   "id": "8c557f25",
   "metadata": {},
   "outputs": [],
   "source": [
    "data_subset[\"cat_x2\"] = data_subset[\"cat_x2\"].replace(\"&amp;\", \"&\", regex=True)"
   ]
  },
  {
   "cell_type": "code",
   "execution_count": 21,
   "id": "d2dd6405",
   "metadata": {},
   "outputs": [
    {
     "data": {
      "text/plain": [
       "0            Children's Books\n",
       "1       Biographies & Memoirs\n",
       "2        Literature & Fiction\n",
       "3    Christian Books & Bibles\n",
       "4                     History\n",
       "Name: cat_x2, dtype: object"
      ]
     },
     "execution_count": 21,
     "metadata": {},
     "output_type": "execute_result"
    }
   ],
   "source": [
    "data_subset[\"cat_x2\"].head()"
   ]
  },
  {
   "cell_type": "code",
   "execution_count": 22,
   "id": "1956604d",
   "metadata": {},
   "outputs": [
    {
     "data": {
      "text/plain": [
       "33"
      ]
     },
     "execution_count": 22,
     "metadata": {},
     "output_type": "execute_result"
    }
   ],
   "source": [
    "len(data_subset[\"cat_x2\"].unique())"
   ]
  },
  {
   "cell_type": "code",
   "execution_count": 23,
   "id": "908926e8",
   "metadata": {},
   "outputs": [],
   "source": [
    "data_subset['description_str'] = data_subset['description'].apply(lambda x: ' '.join(map(str, x)))"
   ]
  },
  {
   "cell_type": "code",
   "execution_count": 24,
   "id": "11035438",
   "metadata": {},
   "outputs": [
    {
     "data": {
      "text/html": [
       "<div>\n",
       "<style scoped>\n",
       "    .dataframe tbody tr th:only-of-type {\n",
       "        vertical-align: middle;\n",
       "    }\n",
       "\n",
       "    .dataframe tbody tr th {\n",
       "        vertical-align: top;\n",
       "    }\n",
       "\n",
       "    .dataframe thead th {\n",
       "        text-align: right;\n",
       "    }\n",
       "</style>\n",
       "<table border=\"1\" class=\"dataframe\">\n",
       "  <thead>\n",
       "    <tr style=\"text-align: right;\">\n",
       "      <th></th>\n",
       "      <th>category</th>\n",
       "      <th>description</th>\n",
       "      <th>title</th>\n",
       "      <th>cnt_cats</th>\n",
       "      <th>cnt_desc</th>\n",
       "      <th>cat_x2</th>\n",
       "      <th>description_str</th>\n",
       "    </tr>\n",
       "  </thead>\n",
       "  <tbody>\n",
       "    <tr>\n",
       "      <th>0</th>\n",
       "      <td>[Books, Children's Books, Growing Up &amp;amp; Fac...</td>\n",
       "      <td>[PreSchool-Grade 2-When Katie's water phobia t...</td>\n",
       "      <td>Katie Catz Makes a Splash (Good Sports)</td>\n",
       "      <td>3</td>\n",
       "      <td>11</td>\n",
       "      <td>Children's Books</td>\n",
       "      <td>PreSchool-Grade 2-When Katie's water phobia th...</td>\n",
       "    </tr>\n",
       "    <tr>\n",
       "      <th>1</th>\n",
       "      <td>[Books, Biographies &amp; Memoirs, Historical]</td>\n",
       "      <td>[This brief biography focuses more on the poli...</td>\n",
       "      <td>Andrew Jackson</td>\n",
       "      <td>3</td>\n",
       "      <td>2</td>\n",
       "      <td>Biographies &amp; Memoirs</td>\n",
       "      <td>This brief biography focuses more on the polit...</td>\n",
       "    </tr>\n",
       "    <tr>\n",
       "      <th>2</th>\n",
       "      <td>[Books, Literature &amp;amp; Fiction, Genre Fiction]</td>\n",
       "      <td>[Racial and class conflicts simmer in this lac...</td>\n",
       "      <td>The Water Dancers: A Novel</td>\n",
       "      <td>3</td>\n",
       "      <td>4</td>\n",
       "      <td>Literature &amp; Fiction</td>\n",
       "      <td>Racial and class conflicts simmer in this lack...</td>\n",
       "    </tr>\n",
       "    <tr>\n",
       "      <th>3</th>\n",
       "      <td>[Books, Christian Books &amp;amp; Bibles, Catholic...</td>\n",
       "      <td>[Spong, an Episcopal bishop and best-selling a...</td>\n",
       "      <td>Born of a Woman: A Bishop Rethinks the Birth o...</td>\n",
       "      <td>3</td>\n",
       "      <td>3</td>\n",
       "      <td>Christian Books &amp; Bibles</td>\n",
       "      <td>Spong, an Episcopal bishop and best-selling au...</td>\n",
       "    </tr>\n",
       "    <tr>\n",
       "      <th>4</th>\n",
       "      <td>[Books, History, World]</td>\n",
       "      <td>[Re-creates the world from the second to the f...</td>\n",
       "      <td>Pagans and Christians</td>\n",
       "      <td>3</td>\n",
       "      <td>3</td>\n",
       "      <td>History</td>\n",
       "      <td>Re-creates the world from the second to the fo...</td>\n",
       "    </tr>\n",
       "  </tbody>\n",
       "</table>\n",
       "</div>"
      ],
      "text/plain": [
       "                                            category  \\\n",
       "0  [Books, Children's Books, Growing Up &amp; Fac...   \n",
       "1         [Books, Biographies & Memoirs, Historical]   \n",
       "2   [Books, Literature &amp; Fiction, Genre Fiction]   \n",
       "3  [Books, Christian Books &amp; Bibles, Catholic...   \n",
       "4                            [Books, History, World]   \n",
       "\n",
       "                                         description  \\\n",
       "0  [PreSchool-Grade 2-When Katie's water phobia t...   \n",
       "1  [This brief biography focuses more on the poli...   \n",
       "2  [Racial and class conflicts simmer in this lac...   \n",
       "3  [Spong, an Episcopal bishop and best-selling a...   \n",
       "4  [Re-creates the world from the second to the f...   \n",
       "\n",
       "                                               title  cnt_cats  cnt_desc  \\\n",
       "0            Katie Catz Makes a Splash (Good Sports)         3        11   \n",
       "1                                     Andrew Jackson         3         2   \n",
       "2                         The Water Dancers: A Novel         3         4   \n",
       "3  Born of a Woman: A Bishop Rethinks the Birth o...         3         3   \n",
       "4                              Pagans and Christians         3         3   \n",
       "\n",
       "                     cat_x2                                    description_str  \n",
       "0          Children's Books  PreSchool-Grade 2-When Katie's water phobia th...  \n",
       "1     Biographies & Memoirs  This brief biography focuses more on the polit...  \n",
       "2      Literature & Fiction  Racial and class conflicts simmer in this lack...  \n",
       "3  Christian Books & Bibles  Spong, an Episcopal bishop and best-selling au...  \n",
       "4                   History  Re-creates the world from the second to the fo...  "
      ]
     },
     "execution_count": 24,
     "metadata": {},
     "output_type": "execute_result"
    }
   ],
   "source": [
    "data_subset.head()"
   ]
  },
  {
   "cell_type": "markdown",
   "id": "e6d7ef71",
   "metadata": {},
   "source": [
    "We want to update the category column"
   ]
  },
  {
   "cell_type": "code",
   "execution_count": 25,
   "id": "6acc38d4",
   "metadata": {},
   "outputs": [],
   "source": [
    "data_subset[\"cat_x2\"] = data_subset[\"cat_x2\"].astype(\"category\")"
   ]
  },
  {
   "cell_type": "code",
   "execution_count": 26,
   "id": "3f6db52a",
   "metadata": {},
   "outputs": [
    {
     "data": {
      "text/plain": [
       "0         4\n",
       "1         1\n",
       "2        17\n",
       "3         5\n",
       "4        13\n",
       "         ..\n",
       "49992    24\n",
       "49995    10\n",
       "49996    17\n",
       "49997    17\n",
       "49999     4\n",
       "Length: 39813, dtype: int8"
      ]
     },
     "execution_count": 26,
     "metadata": {},
     "output_type": "execute_result"
    }
   ],
   "source": [
    "data_subset[\"cat_x2\"].cat.codes"
   ]
  },
  {
   "cell_type": "code",
   "execution_count": 27,
   "id": "ee70e3ee",
   "metadata": {},
   "outputs": [],
   "source": [
    "data_subset[\"cat_x2_code\"] = data_subset[\"cat_x2\"].cat.codes"
   ]
  },
  {
   "cell_type": "code",
   "execution_count": 28,
   "id": "2feb990f",
   "metadata": {},
   "outputs": [
    {
     "data": {
      "text/html": [
       "<div>\n",
       "<style scoped>\n",
       "    .dataframe tbody tr th:only-of-type {\n",
       "        vertical-align: middle;\n",
       "    }\n",
       "\n",
       "    .dataframe tbody tr th {\n",
       "        vertical-align: top;\n",
       "    }\n",
       "\n",
       "    .dataframe thead th {\n",
       "        text-align: right;\n",
       "    }\n",
       "</style>\n",
       "<table border=\"1\" class=\"dataframe\">\n",
       "  <thead>\n",
       "    <tr style=\"text-align: right;\">\n",
       "      <th></th>\n",
       "      <th>category</th>\n",
       "      <th>description</th>\n",
       "      <th>title</th>\n",
       "      <th>cnt_cats</th>\n",
       "      <th>cnt_desc</th>\n",
       "      <th>cat_x2</th>\n",
       "      <th>description_str</th>\n",
       "      <th>cat_x2_code</th>\n",
       "    </tr>\n",
       "  </thead>\n",
       "  <tbody>\n",
       "    <tr>\n",
       "      <th>0</th>\n",
       "      <td>[Books, Children's Books, Growing Up &amp;amp; Fac...</td>\n",
       "      <td>[PreSchool-Grade 2-When Katie's water phobia t...</td>\n",
       "      <td>Katie Catz Makes a Splash (Good Sports)</td>\n",
       "      <td>3</td>\n",
       "      <td>11</td>\n",
       "      <td>Children's Books</td>\n",
       "      <td>PreSchool-Grade 2-When Katie's water phobia th...</td>\n",
       "      <td>4</td>\n",
       "    </tr>\n",
       "    <tr>\n",
       "      <th>1</th>\n",
       "      <td>[Books, Biographies &amp; Memoirs, Historical]</td>\n",
       "      <td>[This brief biography focuses more on the poli...</td>\n",
       "      <td>Andrew Jackson</td>\n",
       "      <td>3</td>\n",
       "      <td>2</td>\n",
       "      <td>Biographies &amp; Memoirs</td>\n",
       "      <td>This brief biography focuses more on the polit...</td>\n",
       "      <td>1</td>\n",
       "    </tr>\n",
       "    <tr>\n",
       "      <th>2</th>\n",
       "      <td>[Books, Literature &amp;amp; Fiction, Genre Fiction]</td>\n",
       "      <td>[Racial and class conflicts simmer in this lac...</td>\n",
       "      <td>The Water Dancers: A Novel</td>\n",
       "      <td>3</td>\n",
       "      <td>4</td>\n",
       "      <td>Literature &amp; Fiction</td>\n",
       "      <td>Racial and class conflicts simmer in this lack...</td>\n",
       "      <td>17</td>\n",
       "    </tr>\n",
       "    <tr>\n",
       "      <th>3</th>\n",
       "      <td>[Books, Christian Books &amp;amp; Bibles, Catholic...</td>\n",
       "      <td>[Spong, an Episcopal bishop and best-selling a...</td>\n",
       "      <td>Born of a Woman: A Bishop Rethinks the Birth o...</td>\n",
       "      <td>3</td>\n",
       "      <td>3</td>\n",
       "      <td>Christian Books &amp; Bibles</td>\n",
       "      <td>Spong, an Episcopal bishop and best-selling au...</td>\n",
       "      <td>5</td>\n",
       "    </tr>\n",
       "    <tr>\n",
       "      <th>4</th>\n",
       "      <td>[Books, History, World]</td>\n",
       "      <td>[Re-creates the world from the second to the f...</td>\n",
       "      <td>Pagans and Christians</td>\n",
       "      <td>3</td>\n",
       "      <td>3</td>\n",
       "      <td>History</td>\n",
       "      <td>Re-creates the world from the second to the fo...</td>\n",
       "      <td>13</td>\n",
       "    </tr>\n",
       "  </tbody>\n",
       "</table>\n",
       "</div>"
      ],
      "text/plain": [
       "                                            category  \\\n",
       "0  [Books, Children's Books, Growing Up &amp; Fac...   \n",
       "1         [Books, Biographies & Memoirs, Historical]   \n",
       "2   [Books, Literature &amp; Fiction, Genre Fiction]   \n",
       "3  [Books, Christian Books &amp; Bibles, Catholic...   \n",
       "4                            [Books, History, World]   \n",
       "\n",
       "                                         description  \\\n",
       "0  [PreSchool-Grade 2-When Katie's water phobia t...   \n",
       "1  [This brief biography focuses more on the poli...   \n",
       "2  [Racial and class conflicts simmer in this lac...   \n",
       "3  [Spong, an Episcopal bishop and best-selling a...   \n",
       "4  [Re-creates the world from the second to the f...   \n",
       "\n",
       "                                               title  cnt_cats  cnt_desc  \\\n",
       "0            Katie Catz Makes a Splash (Good Sports)         3        11   \n",
       "1                                     Andrew Jackson         3         2   \n",
       "2                         The Water Dancers: A Novel         3         4   \n",
       "3  Born of a Woman: A Bishop Rethinks the Birth o...         3         3   \n",
       "4                              Pagans and Christians         3         3   \n",
       "\n",
       "                     cat_x2  \\\n",
       "0          Children's Books   \n",
       "1     Biographies & Memoirs   \n",
       "2      Literature & Fiction   \n",
       "3  Christian Books & Bibles   \n",
       "4                   History   \n",
       "\n",
       "                                     description_str  cat_x2_code  \n",
       "0  PreSchool-Grade 2-When Katie's water phobia th...            4  \n",
       "1  This brief biography focuses more on the polit...            1  \n",
       "2  Racial and class conflicts simmer in this lack...           17  \n",
       "3  Spong, an Episcopal bishop and best-selling au...            5  \n",
       "4  Re-creates the world from the second to the fo...           13  "
      ]
     },
     "execution_count": 28,
     "metadata": {},
     "output_type": "execute_result"
    }
   ],
   "source": [
    "data_subset.head()"
   ]
  },
  {
   "cell_type": "markdown",
   "id": "9246f17a",
   "metadata": {},
   "source": [
    "## GenSim requires us to do some cleansing of the data and tokenize "
   ]
  },
  {
   "cell_type": "code",
   "execution_count": 29,
   "id": "5a88e530",
   "metadata": {},
   "outputs": [],
   "source": [
    "def remove_numbers(text): \n",
    "    '''  \n",
    "    This function takes strings containing numbers and returns strings with numbers removed.\n",
    "    '''\n",
    "    return re.sub(r'\\d+', '', text) "
   ]
  },
  {
   "cell_type": "code",
   "execution_count": 30,
   "id": "a5df9dcd",
   "metadata": {},
   "outputs": [],
   "source": [
    "def remove_mentions(text):\n",
    "    '''  \n",
    "    This function takes strings containing mentions and returns strings with \n",
    "    mentions (@ and the account name) removed.\n",
    "    Input(string): one tweet, contains mentions\n",
    "    Output(string): one tweet, mentions (@ and the account name mentioned) removed \n",
    "    '''\n",
    "    mentions = re.compile(r'@\\w+ ?')\n",
    "    return mentions.sub(r'', text)"
   ]
  },
  {
   "cell_type": "code",
   "execution_count": 31,
   "id": "d8bb09e7",
   "metadata": {},
   "outputs": [],
   "source": [
    "def extract_mentions(text):\n",
    "    '''\n",
    "    This function takes strings containing mentions and returns strings with \n",
    "    mentions (@ and the account name) extracted into a different element,\n",
    "    and removes the mentions in the original sentence.\n",
    "    Input(string): one sentence, contains mentions\n",
    "    '''\n",
    "    mentions = [i[1:] for i in text.split() if i.startswith(\"@\")]\n",
    "    sentence = re.compile(r'@\\w+ ?').sub(r'', text)\n",
    "    return sentence,mentions"
   ]
  },
  {
   "cell_type": "code",
   "execution_count": 32,
   "id": "a647486c",
   "metadata": {},
   "outputs": [
    {
     "name": "stdout",
     "output_type": "stream",
     "text": [
      "Collecting spacy\n",
      "  Downloading spacy-3.1.2-cp36-cp36m-manylinux_2_17_x86_64.manylinux2014_x86_64.whl (5.9 MB)\n",
      "\u001b[K     |████████████████████████████████| 5.9 MB 19.6 MB/s eta 0:00:01\n",
      "\u001b[?25hCollecting srsly<3.0.0,>=2.4.1\n",
      "  Downloading srsly-2.4.1-cp36-cp36m-manylinux2014_x86_64.whl (456 kB)\n",
      "\u001b[K     |████████████████████████████████| 456 kB 54.4 MB/s eta 0:00:01\n",
      "\u001b[?25hCollecting spacy-legacy<3.1.0,>=3.0.7\n",
      "  Downloading spacy_legacy-3.0.8-py2.py3-none-any.whl (14 kB)\n",
      "Requirement already satisfied: typing-extensions<4.0.0.0,>=3.7.4 in /home/ec2-user/anaconda3/envs/python3/lib/python3.6/site-packages (from spacy) (3.7.4.3)\n",
      "Collecting typer<0.4.0,>=0.3.0\n",
      "  Downloading typer-0.3.2-py3-none-any.whl (21 kB)\n",
      "Collecting wasabi<1.1.0,>=0.8.1\n",
      "  Downloading wasabi-0.8.2-py3-none-any.whl (23 kB)\n",
      "Requirement already satisfied: tqdm<5.0.0,>=4.38.0 in /home/ec2-user/anaconda3/envs/python3/lib/python3.6/site-packages (from spacy) (4.61.2)\n",
      "Collecting cymem<2.1.0,>=2.0.2\n",
      "  Downloading cymem-2.0.5-cp36-cp36m-manylinux2014_x86_64.whl (35 kB)\n",
      "Requirement already satisfied: setuptools in /home/ec2-user/anaconda3/envs/python3/lib/python3.6/site-packages (from spacy) (49.6.0.post20210108)\n",
      "Collecting murmurhash<1.1.0,>=0.28.0\n",
      "  Downloading murmurhash-1.0.5-cp36-cp36m-manylinux2014_x86_64.whl (20 kB)\n",
      "Requirement already satisfied: requests<3.0.0,>=2.13.0 in /home/ec2-user/anaconda3/envs/python3/lib/python3.6/site-packages (from spacy) (2.25.1)\n",
      "Collecting thinc<8.1.0,>=8.0.8\n",
      "  Downloading thinc-8.0.8-cp36-cp36m-manylinux_2_17_x86_64.manylinux2014_x86_64.whl (622 kB)\n",
      "\u001b[K     |████████████████████████████████| 622 kB 53.5 MB/s eta 0:00:01\n",
      "\u001b[?25hCollecting pydantic!=1.8,!=1.8.1,<1.9.0,>=1.7.4\n",
      "  Downloading pydantic-1.8.2-cp36-cp36m-manylinux2014_x86_64.whl (10.2 MB)\n",
      "\u001b[K     |████████████████████████████████| 10.2 MB 66.2 MB/s eta 0:00:01\n",
      "\u001b[?25hCollecting blis<0.8.0,>=0.4.0\n",
      "  Downloading blis-0.7.4-cp36-cp36m-manylinux2014_x86_64.whl (9.8 MB)\n",
      "\u001b[K     |████████████████████████████████| 9.8 MB 55.9 MB/s eta 0:00:01\n",
      "\u001b[?25hRequirement already satisfied: numpy>=1.15.0 in /home/ec2-user/anaconda3/envs/python3/lib/python3.6/site-packages (from spacy) (1.19.5)\n",
      "Collecting preshed<3.1.0,>=3.0.2\n",
      "  Downloading preshed-3.0.5-cp36-cp36m-manylinux2014_x86_64.whl (126 kB)\n",
      "\u001b[K     |████████████████████████████████| 126 kB 58.7 MB/s eta 0:00:01\n",
      "\u001b[?25hCollecting catalogue<2.1.0,>=2.0.4\n",
      "  Downloading catalogue-2.0.6-py3-none-any.whl (17 kB)\n",
      "Requirement already satisfied: jinja2 in /home/ec2-user/anaconda3/envs/python3/lib/python3.6/site-packages (from spacy) (2.11.3)\n",
      "Collecting pathy>=0.3.5\n",
      "  Downloading pathy-0.6.0-py3-none-any.whl (42 kB)\n",
      "\u001b[K     |████████████████████████████████| 42 kB 402 kB/s  eta 0:00:01\n",
      "\u001b[?25hRequirement already satisfied: packaging>=20.0 in /home/ec2-user/anaconda3/envs/python3/lib/python3.6/site-packages (from spacy) (20.9)\n",
      "Requirement already satisfied: zipp>=0.5 in /home/ec2-user/anaconda3/envs/python3/lib/python3.6/site-packages (from catalogue<2.1.0,>=2.0.4->spacy) (3.4.0)\n",
      "Requirement already satisfied: pyparsing>=2.0.2 in /home/ec2-user/anaconda3/envs/python3/lib/python3.6/site-packages (from packaging>=20.0->spacy) (2.4.7)\n",
      "Requirement already satisfied: smart-open<6.0.0,>=5.0.0 in /home/ec2-user/anaconda3/envs/python3/lib/python3.6/site-packages (from pathy>=0.3.5->spacy) (5.2.0)\n",
      "Requirement already satisfied: dataclasses<1.0,>=0.6 in /home/ec2-user/anaconda3/envs/python3/lib/python3.6/site-packages (from pathy>=0.3.5->spacy) (0.8)\n",
      "Requirement already satisfied: chardet<5,>=3.0.2 in /home/ec2-user/anaconda3/envs/python3/lib/python3.6/site-packages (from requests<3.0.0,>=2.13.0->spacy) (3.0.4)\n",
      "Requirement already satisfied: certifi>=2017.4.17 in /home/ec2-user/anaconda3/envs/python3/lib/python3.6/site-packages (from requests<3.0.0,>=2.13.0->spacy) (2021.5.30)\n",
      "Requirement already satisfied: urllib3<1.27,>=1.21.1 in /home/ec2-user/anaconda3/envs/python3/lib/python3.6/site-packages (from requests<3.0.0,>=2.13.0->spacy) (1.26.6)\n",
      "Requirement already satisfied: idna<3,>=2.5 in /home/ec2-user/anaconda3/envs/python3/lib/python3.6/site-packages (from requests<3.0.0,>=2.13.0->spacy) (2.10)\n",
      "Requirement already satisfied: contextvars<3,>=2.4 in /home/ec2-user/anaconda3/envs/python3/lib/python3.6/site-packages (from thinc<8.1.0,>=8.0.8->spacy) (2.4)\n",
      "Requirement already satisfied: immutables>=0.9 in /home/ec2-user/anaconda3/envs/python3/lib/python3.6/site-packages (from contextvars<3,>=2.4->thinc<8.1.0,>=8.0.8->spacy) (0.15)\n",
      "Requirement already satisfied: click<7.2.0,>=7.1.1 in /home/ec2-user/anaconda3/envs/python3/lib/python3.6/site-packages (from typer<0.4.0,>=0.3.0->spacy) (7.1.2)\n",
      "Requirement already satisfied: MarkupSafe>=0.23 in /home/ec2-user/anaconda3/envs/python3/lib/python3.6/site-packages (from jinja2->spacy) (1.1.1)\n",
      "Installing collected packages: murmurhash, cymem, catalogue, wasabi, typer, srsly, pydantic, preshed, blis, thinc, spacy-legacy, pathy, spacy\n",
      "Successfully installed blis-0.7.4 catalogue-2.0.6 cymem-2.0.5 murmurhash-1.0.5 pathy-0.6.0 preshed-3.0.5 pydantic-1.8.2 spacy-3.1.2 spacy-legacy-3.0.8 srsly-2.4.1 thinc-8.0.8 typer-0.3.2 wasabi-0.8.2\n",
      "\u001b[33mWARNING: You are using pip version 21.1.3; however, version 21.2.4 is available.\n",
      "You should consider upgrading via the '/home/ec2-user/anaconda3/envs/python3/bin/python -m pip install --upgrade pip' command.\u001b[0m\n"
     ]
    }
   ],
   "source": [
    "! pip install spacy"
   ]
  },
  {
   "cell_type": "code",
   "execution_count": 33,
   "id": "46626ea3",
   "metadata": {},
   "outputs": [
    {
     "name": "stdout",
     "output_type": "stream",
     "text": [
      "Collecting textblob\n",
      "  Downloading textblob-0.15.3-py2.py3-none-any.whl (636 kB)\n",
      "\u001b[K     |████████████████████████████████| 636 kB 20.2 MB/s eta 0:00:01\n",
      "\u001b[?25hRequirement already satisfied: nltk>=3.1 in /home/ec2-user/anaconda3/envs/python3/lib/python3.6/site-packages (from textblob) (3.4.4)\n",
      "Requirement already satisfied: six in /home/ec2-user/anaconda3/envs/python3/lib/python3.6/site-packages (from nltk>=3.1->textblob) (1.15.0)\n",
      "Installing collected packages: textblob\n",
      "Successfully installed textblob-0.15.3\n",
      "\u001b[33mWARNING: You are using pip version 21.1.3; however, version 21.2.4 is available.\n",
      "You should consider upgrading via the '/home/ec2-user/anaconda3/envs/python3/bin/python -m pip install --upgrade pip' command.\u001b[0m\n"
     ]
    }
   ],
   "source": [
    "! pip install textblob"
   ]
  },
  {
   "cell_type": "code",
   "execution_count": 34,
   "id": "8d968f78",
   "metadata": {},
   "outputs": [],
   "source": [
    "import nltk\n",
    "import spacy\n",
    "from textblob import TextBlob\n",
    "import re\n",
    "import string\n",
    "import glob\n",
    "import sagemaker"
   ]
  },
  {
   "cell_type": "code",
   "execution_count": 35,
   "id": "5dcda72d",
   "metadata": {},
   "outputs": [],
   "source": [
    "punc_list = string.punctuation #you can self define list of punctuation to remove here\n",
    "def remove_punctuation(text): \n",
    "    \"\"\"\n",
    "    This function takes strings containing self defined punctuations and returns\n",
    "    strings with punctuations removed.\n",
    "    \"\"\"\n",
    "    translator = str.maketrans('', '', punc_list) \n",
    "    return text.translate(translator) "
   ]
  },
  {
   "cell_type": "code",
   "execution_count": 36,
   "id": "20a6a261",
   "metadata": {},
   "outputs": [],
   "source": [
    "def remove_whitespace(text): \n",
    "    '''\n",
    "    This function takes strings containing mentions and returns strings with \n",
    "    whitespaces removed.\n",
    "    '''\n",
    "    return  \" \".join(text.split())"
   ]
  },
  {
   "cell_type": "code",
   "execution_count": 37,
   "id": "4a18e999",
   "metadata": {},
   "outputs": [],
   "source": [
    "def remove_html_tags(text):\n",
    "    \"\"\"Remove html tags from a string\"\"\"\n",
    "    import re\n",
    "    clean = re.compile('<.*?>')\n",
    "    return re.sub(clean, '', text)"
   ]
  },
  {
   "cell_type": "code",
   "execution_count": 38,
   "id": "8ddc6a30",
   "metadata": {},
   "outputs": [
    {
     "data": {
      "text/html": [
       "<div>\n",
       "<style scoped>\n",
       "    .dataframe tbody tr th:only-of-type {\n",
       "        vertical-align: middle;\n",
       "    }\n",
       "\n",
       "    .dataframe tbody tr th {\n",
       "        vertical-align: top;\n",
       "    }\n",
       "\n",
       "    .dataframe thead th {\n",
       "        text-align: right;\n",
       "    }\n",
       "</style>\n",
       "<table border=\"1\" class=\"dataframe\">\n",
       "  <thead>\n",
       "    <tr style=\"text-align: right;\">\n",
       "      <th></th>\n",
       "      <th>category</th>\n",
       "      <th>description</th>\n",
       "      <th>title</th>\n",
       "      <th>cnt_cats</th>\n",
       "      <th>cnt_desc</th>\n",
       "      <th>cat_x2</th>\n",
       "      <th>description_str</th>\n",
       "      <th>cat_x2_code</th>\n",
       "    </tr>\n",
       "  </thead>\n",
       "  <tbody>\n",
       "    <tr>\n",
       "      <th>0</th>\n",
       "      <td>[Books, Children's Books, Growing Up &amp;amp; Fac...</td>\n",
       "      <td>[PreSchool-Grade 2-When Katie's water phobia t...</td>\n",
       "      <td>Katie Catz Makes a Splash (Good Sports)</td>\n",
       "      <td>3</td>\n",
       "      <td>11</td>\n",
       "      <td>Children's Books</td>\n",
       "      <td>PreSchool-Grade 2-When Katie's water phobia th...</td>\n",
       "      <td>4</td>\n",
       "    </tr>\n",
       "    <tr>\n",
       "      <th>1</th>\n",
       "      <td>[Books, Biographies &amp; Memoirs, Historical]</td>\n",
       "      <td>[This brief biography focuses more on the poli...</td>\n",
       "      <td>Andrew Jackson</td>\n",
       "      <td>3</td>\n",
       "      <td>2</td>\n",
       "      <td>Biographies &amp; Memoirs</td>\n",
       "      <td>This brief biography focuses more on the polit...</td>\n",
       "      <td>1</td>\n",
       "    </tr>\n",
       "    <tr>\n",
       "      <th>2</th>\n",
       "      <td>[Books, Literature &amp;amp; Fiction, Genre Fiction]</td>\n",
       "      <td>[Racial and class conflicts simmer in this lac...</td>\n",
       "      <td>The Water Dancers: A Novel</td>\n",
       "      <td>3</td>\n",
       "      <td>4</td>\n",
       "      <td>Literature &amp; Fiction</td>\n",
       "      <td>Racial and class conflicts simmer in this lack...</td>\n",
       "      <td>17</td>\n",
       "    </tr>\n",
       "    <tr>\n",
       "      <th>3</th>\n",
       "      <td>[Books, Christian Books &amp;amp; Bibles, Catholic...</td>\n",
       "      <td>[Spong, an Episcopal bishop and best-selling a...</td>\n",
       "      <td>Born of a Woman: A Bishop Rethinks the Birth o...</td>\n",
       "      <td>3</td>\n",
       "      <td>3</td>\n",
       "      <td>Christian Books &amp; Bibles</td>\n",
       "      <td>Spong, an Episcopal bishop and best-selling au...</td>\n",
       "      <td>5</td>\n",
       "    </tr>\n",
       "    <tr>\n",
       "      <th>4</th>\n",
       "      <td>[Books, History, World]</td>\n",
       "      <td>[Re-creates the world from the second to the f...</td>\n",
       "      <td>Pagans and Christians</td>\n",
       "      <td>3</td>\n",
       "      <td>3</td>\n",
       "      <td>History</td>\n",
       "      <td>Re-creates the world from the second to the fo...</td>\n",
       "      <td>13</td>\n",
       "    </tr>\n",
       "  </tbody>\n",
       "</table>\n",
       "</div>"
      ],
      "text/plain": [
       "                                            category  \\\n",
       "0  [Books, Children's Books, Growing Up &amp; Fac...   \n",
       "1         [Books, Biographies & Memoirs, Historical]   \n",
       "2   [Books, Literature &amp; Fiction, Genre Fiction]   \n",
       "3  [Books, Christian Books &amp; Bibles, Catholic...   \n",
       "4                            [Books, History, World]   \n",
       "\n",
       "                                         description  \\\n",
       "0  [PreSchool-Grade 2-When Katie's water phobia t...   \n",
       "1  [This brief biography focuses more on the poli...   \n",
       "2  [Racial and class conflicts simmer in this lac...   \n",
       "3  [Spong, an Episcopal bishop and best-selling a...   \n",
       "4  [Re-creates the world from the second to the f...   \n",
       "\n",
       "                                               title  cnt_cats  cnt_desc  \\\n",
       "0            Katie Catz Makes a Splash (Good Sports)         3        11   \n",
       "1                                     Andrew Jackson         3         2   \n",
       "2                         The Water Dancers: A Novel         3         4   \n",
       "3  Born of a Woman: A Bishop Rethinks the Birth o...         3         3   \n",
       "4                              Pagans and Christians         3         3   \n",
       "\n",
       "                     cat_x2  \\\n",
       "0          Children's Books   \n",
       "1     Biographies & Memoirs   \n",
       "2      Literature & Fiction   \n",
       "3  Christian Books & Bibles   \n",
       "4                   History   \n",
       "\n",
       "                                     description_str  cat_x2_code  \n",
       "0  PreSchool-Grade 2-When Katie's water phobia th...            4  \n",
       "1  This brief biography focuses more on the polit...            1  \n",
       "2  Racial and class conflicts simmer in this lack...           17  \n",
       "3  Spong, an Episcopal bishop and best-selling au...            5  \n",
       "4  Re-creates the world from the second to the fo...           13  "
      ]
     },
     "execution_count": 38,
     "metadata": {},
     "output_type": "execute_result"
    }
   ],
   "source": [
    "data_subset.head()"
   ]
  },
  {
   "cell_type": "code",
   "execution_count": 39,
   "id": "266c8edd",
   "metadata": {},
   "outputs": [],
   "source": [
    "data_subset[\"description_str\"]=data_subset[\"description_str\"].apply(remove_html_tags)\n",
    "data_subset[\"title\"]=data_subset[\"title\"].apply(remove_html_tags)"
   ]
  },
  {
   "cell_type": "code",
   "execution_count": 40,
   "id": "c7e4e4e9",
   "metadata": {},
   "outputs": [],
   "source": [
    "data_subset[\"description_str\"] = data_subset[\"description_str\"].str.lower()\n",
    "data_subset[\"title\"] = data_subset[\"title\"].str.lower()"
   ]
  },
  {
   "cell_type": "code",
   "execution_count": 41,
   "id": "3caa98e7",
   "metadata": {},
   "outputs": [],
   "source": [
    "data_subset[\"description_str\"]=data_subset[\"description_str\"].apply(remove_whitespace).apply(remove_punctuation).apply(remove_numbers)\n",
    "data_subset[\"title\"]=data_subset[\"title\"].apply(remove_whitespace).apply(remove_punctuation).apply(remove_numbers)\n"
   ]
  },
  {
   "cell_type": "code",
   "execution_count": 42,
   "id": "7575bc48",
   "metadata": {},
   "outputs": [
    {
     "name": "stderr",
     "output_type": "stream",
     "text": [
      "[nltk_data] Downloading package punkt to /home/ec2-user/nltk_data...\n",
      "[nltk_data]   Unzipping tokenizers/punkt.zip.\n"
     ]
    },
    {
     "data": {
      "text/plain": [
       "True"
      ]
     },
     "execution_count": 42,
     "metadata": {},
     "output_type": "execute_result"
    }
   ],
   "source": [
    "nltk.download('punkt')"
   ]
  },
  {
   "cell_type": "code",
   "execution_count": 43,
   "id": "9107d25f",
   "metadata": {},
   "outputs": [],
   "source": [
    "from nltk.tokenize import word_tokenize \n",
    "def tokenize_sent(text): \n",
    "    ''' \n",
    "    This function takes strings and returns tokenized words.\n",
    "    '''\n",
    "    word_tokens = word_tokenize(text)  \n",
    "    return word_tokens "
   ]
  },
  {
   "cell_type": "code",
   "execution_count": 44,
   "id": "ce9b0a01",
   "metadata": {},
   "outputs": [],
   "source": [
    "data_subset[\"description_str_token\"] = data_subset[\"description_str\"].apply(tokenize_sent)"
   ]
  },
  {
   "cell_type": "code",
   "execution_count": 45,
   "id": "0a729f80",
   "metadata": {},
   "outputs": [],
   "source": [
    "data_subset[\"title_token\"] = data_subset[\"title\"].apply(tokenize_sent)"
   ]
  },
  {
   "cell_type": "code",
   "execution_count": 46,
   "id": "2189077b",
   "metadata": {},
   "outputs": [
    {
     "name": "stderr",
     "output_type": "stream",
     "text": [
      "[nltk_data] Downloading package stopwords to\n",
      "[nltk_data]     /home/ec2-user/nltk_data...\n",
      "[nltk_data]   Unzipping corpora/stopwords.zip.\n"
     ]
    }
   ],
   "source": [
    "nltk.download('stopwords')\n",
    "from nltk.corpus import stopwords"
   ]
  },
  {
   "cell_type": "code",
   "execution_count": 47,
   "id": "0b7b00f3",
   "metadata": {},
   "outputs": [],
   "source": [
    "stopwords_list = set(stopwords.words('english'))"
   ]
  },
  {
   "cell_type": "code",
   "execution_count": 48,
   "id": "5381a046",
   "metadata": {},
   "outputs": [
    {
     "data": {
      "text/plain": [
       "[('the', 394618),\n",
       " ('and', 293214),\n",
       " ('of', 252017),\n",
       " ('a', 195739),\n",
       " ('to', 155360),\n",
       " ('in', 131292),\n",
       " ('is', 93090),\n",
       " ('for', 71907),\n",
       " ('with', 64229),\n",
       " ('as', 50946)]"
      ]
     },
     "execution_count": 48,
     "metadata": {},
     "output_type": "execute_result"
    }
   ],
   "source": [
    "from collections import Counter\n",
    "counter = Counter()\n",
    "for word in  [w for sent in data_subset[\"description_str_token\"] for w in sent]:\n",
    "    counter[word] += 1        \n",
    "counter.most_common(10)"
   ]
  },
  {
   "cell_type": "code",
   "execution_count": 49,
   "id": "47c28a3c",
   "metadata": {},
   "outputs": [
    {
     "data": {
      "text/plain": [
       "[('snoozed', 1),\n",
       " ('wwwtaherehbookscom', 1),\n",
       " ('taherehmafi', 1),\n",
       " ('overcaffeinated', 1),\n",
       " ('whichwood', 1),\n",
       " ('memoirashistory', 1),\n",
       " ('jailings', 1),\n",
       " ('righth', 1),\n",
       " ('abernathys', 1)]"
      ]
     },
     "execution_count": 49,
     "metadata": {},
     "output_type": "execute_result"
    }
   ],
   "source": [
    "#least frequent words\n",
    "counter.most_common()[:-10:-1]"
   ]
  },
  {
   "cell_type": "code",
   "execution_count": 50,
   "id": "7f70ef2f",
   "metadata": {},
   "outputs": [],
   "source": [
    "top_n = 10\n",
    "bottom_n = 10\n",
    "stopwords_list |= set([word for (word, count) in counter.most_common(top_n)])\n",
    "stopwords_list |= set([word for (word, count) in counter.most_common()[:-bottom_n:-1]])\n",
    "stopwords_list |= {'thats'}\n",
    "def remove_stopwords(tokenized_text): \n",
    "    '''\n",
    "    This function takes a list of tokenized words from the description and title, removes self-defined stop words from the list,\n",
    "    and returns the list of words with stop words removed\n",
    "    '''\n",
    "    filtered_text = [word for word in tokenized_text if word not in stopwords_list] \n",
    "    return filtered_text"
   ]
  },
  {
   "cell_type": "code",
   "execution_count": 51,
   "id": "a564fb0d",
   "metadata": {},
   "outputs": [],
   "source": [
    "data_subset[\"description_str_token\"] = data_subset[\"description_str_token\"].apply(remove_stopwords)\n",
    "data_subset[\"title_token\"] = data_subset[\"title_token\"].apply(remove_stopwords)"
   ]
  },
  {
   "cell_type": "code",
   "execution_count": 52,
   "id": "db2fee23",
   "metadata": {},
   "outputs": [
    {
     "data": {
      "text/html": [
       "<div>\n",
       "<style scoped>\n",
       "    .dataframe tbody tr th:only-of-type {\n",
       "        vertical-align: middle;\n",
       "    }\n",
       "\n",
       "    .dataframe tbody tr th {\n",
       "        vertical-align: top;\n",
       "    }\n",
       "\n",
       "    .dataframe thead th {\n",
       "        text-align: right;\n",
       "    }\n",
       "</style>\n",
       "<table border=\"1\" class=\"dataframe\">\n",
       "  <thead>\n",
       "    <tr style=\"text-align: right;\">\n",
       "      <th></th>\n",
       "      <th>category</th>\n",
       "      <th>description</th>\n",
       "      <th>title</th>\n",
       "      <th>cnt_cats</th>\n",
       "      <th>cnt_desc</th>\n",
       "      <th>cat_x2</th>\n",
       "      <th>description_str</th>\n",
       "      <th>cat_x2_code</th>\n",
       "      <th>description_str_token</th>\n",
       "      <th>title_token</th>\n",
       "    </tr>\n",
       "  </thead>\n",
       "  <tbody>\n",
       "    <tr>\n",
       "      <th>0</th>\n",
       "      <td>[Books, Children's Books, Growing Up &amp;amp; Fac...</td>\n",
       "      <td>[PreSchool-Grade 2-When Katie's water phobia t...</td>\n",
       "      <td>katie catz makes a splash good sports</td>\n",
       "      <td>3</td>\n",
       "      <td>11</td>\n",
       "      <td>Children's Books</td>\n",
       "      <td>preschoolgrade when katies water phobia threat...</td>\n",
       "      <td>4</td>\n",
       "      <td>[preschoolgrade, katies, water, phobia, threat...</td>\n",
       "      <td>[katie, catz, makes, splash, good, sports]</td>\n",
       "    </tr>\n",
       "    <tr>\n",
       "      <th>1</th>\n",
       "      <td>[Books, Biographies &amp; Memoirs, Historical]</td>\n",
       "      <td>[This brief biography focuses more on the poli...</td>\n",
       "      <td>andrew jackson</td>\n",
       "      <td>3</td>\n",
       "      <td>2</td>\n",
       "      <td>Biographies &amp; Memoirs</td>\n",
       "      <td>this brief biography focuses more on the polit...</td>\n",
       "      <td>1</td>\n",
       "      <td>[brief, biography, focuses, political, career,...</td>\n",
       "      <td>[andrew, jackson]</td>\n",
       "    </tr>\n",
       "    <tr>\n",
       "      <th>2</th>\n",
       "      <td>[Books, Literature &amp;amp; Fiction, Genre Fiction]</td>\n",
       "      <td>[Racial and class conflicts simmer in this lac...</td>\n",
       "      <td>the water dancers a novel</td>\n",
       "      <td>3</td>\n",
       "      <td>4</td>\n",
       "      <td>Literature &amp; Fiction</td>\n",
       "      <td>racial and class conflicts simmer in this lack...</td>\n",
       "      <td>17</td>\n",
       "      <td>[racial, class, conflicts, simmer, lackluster,...</td>\n",
       "      <td>[water, dancers, novel]</td>\n",
       "    </tr>\n",
       "    <tr>\n",
       "      <th>3</th>\n",
       "      <td>[Books, Christian Books &amp;amp; Bibles, Catholic...</td>\n",
       "      <td>[Spong, an Episcopal bishop and best-selling a...</td>\n",
       "      <td>born of a woman a bishop rethinks the birth of...</td>\n",
       "      <td>3</td>\n",
       "      <td>3</td>\n",
       "      <td>Christian Books &amp; Bibles</td>\n",
       "      <td>spong an episcopal bishop and bestselling auth...</td>\n",
       "      <td>5</td>\n",
       "      <td>[spong, episcopal, bishop, bestselling, author...</td>\n",
       "      <td>[born, woman, bishop, rethinks, birth, jesus]</td>\n",
       "    </tr>\n",
       "    <tr>\n",
       "      <th>4</th>\n",
       "      <td>[Books, History, World]</td>\n",
       "      <td>[Re-creates the world from the second to the f...</td>\n",
       "      <td>pagans and christians</td>\n",
       "      <td>3</td>\n",
       "      <td>3</td>\n",
       "      <td>History</td>\n",
       "      <td>recreates the world from the second to the fou...</td>\n",
       "      <td>13</td>\n",
       "      <td>[recreates, world, second, fourth, century, ad...</td>\n",
       "      <td>[pagans, christians]</td>\n",
       "    </tr>\n",
       "  </tbody>\n",
       "</table>\n",
       "</div>"
      ],
      "text/plain": [
       "                                            category  \\\n",
       "0  [Books, Children's Books, Growing Up &amp; Fac...   \n",
       "1         [Books, Biographies & Memoirs, Historical]   \n",
       "2   [Books, Literature &amp; Fiction, Genre Fiction]   \n",
       "3  [Books, Christian Books &amp; Bibles, Catholic...   \n",
       "4                            [Books, History, World]   \n",
       "\n",
       "                                         description  \\\n",
       "0  [PreSchool-Grade 2-When Katie's water phobia t...   \n",
       "1  [This brief biography focuses more on the poli...   \n",
       "2  [Racial and class conflicts simmer in this lac...   \n",
       "3  [Spong, an Episcopal bishop and best-selling a...   \n",
       "4  [Re-creates the world from the second to the f...   \n",
       "\n",
       "                                               title  cnt_cats  cnt_desc  \\\n",
       "0              katie catz makes a splash good sports         3        11   \n",
       "1                                     andrew jackson         3         2   \n",
       "2                          the water dancers a novel         3         4   \n",
       "3  born of a woman a bishop rethinks the birth of...         3         3   \n",
       "4                              pagans and christians         3         3   \n",
       "\n",
       "                     cat_x2  \\\n",
       "0          Children's Books   \n",
       "1     Biographies & Memoirs   \n",
       "2      Literature & Fiction   \n",
       "3  Christian Books & Bibles   \n",
       "4                   History   \n",
       "\n",
       "                                     description_str  cat_x2_code  \\\n",
       "0  preschoolgrade when katies water phobia threat...            4   \n",
       "1  this brief biography focuses more on the polit...            1   \n",
       "2  racial and class conflicts simmer in this lack...           17   \n",
       "3  spong an episcopal bishop and bestselling auth...            5   \n",
       "4  recreates the world from the second to the fou...           13   \n",
       "\n",
       "                               description_str_token  \\\n",
       "0  [preschoolgrade, katies, water, phobia, threat...   \n",
       "1  [brief, biography, focuses, political, career,...   \n",
       "2  [racial, class, conflicts, simmer, lackluster,...   \n",
       "3  [spong, episcopal, bishop, bestselling, author...   \n",
       "4  [recreates, world, second, fourth, century, ad...   \n",
       "\n",
       "                                     title_token  \n",
       "0     [katie, catz, makes, splash, good, sports]  \n",
       "1                              [andrew, jackson]  \n",
       "2                        [water, dancers, novel]  \n",
       "3  [born, woman, bishop, rethinks, birth, jesus]  \n",
       "4                           [pagans, christians]  "
      ]
     },
     "execution_count": 52,
     "metadata": {},
     "output_type": "execute_result"
    }
   ],
   "source": [
    "data_subset.head()"
   ]
  },
  {
   "cell_type": "code",
   "execution_count": 53,
   "id": "4313090a",
   "metadata": {},
   "outputs": [
    {
     "name": "stdout",
     "output_type": "stream",
     "text": [
      "Collecting autocorrect\n",
      "  Downloading autocorrect-2.5.0.tar.gz (622 kB)\n",
      "\u001b[K     |████████████████████████████████| 622 kB 47.3 MB/s eta 0:00:01\n",
      "\u001b[?25hBuilding wheels for collected packages: autocorrect\n",
      "  Building wheel for autocorrect (setup.py) ... \u001b[?25ldone\n",
      "\u001b[?25h  Created wheel for autocorrect: filename=autocorrect-2.5.0-py3-none-any.whl size=621854 sha256=40044dca5d965052160ea821def60d10048655c502b599724cd2e5ed25caa50a\n",
      "  Stored in directory: /home/ec2-user/.cache/pip/wheels/a4/51/6c/f75116aae65b52be7ad1d57e47ad4e89ab818bf45d9093021f\n",
      "Successfully built autocorrect\n",
      "Installing collected packages: autocorrect\n",
      "Successfully installed autocorrect-2.5.0\n",
      "\u001b[33mWARNING: You are using pip version 21.1.3; however, version 21.2.4 is available.\n",
      "You should consider upgrading via the '/home/ec2-user/anaconda3/envs/python3/bin/python -m pip install --upgrade pip' command.\u001b[0m\n"
     ]
    }
   ],
   "source": [
    "! pip install autocorrect"
   ]
  },
  {
   "cell_type": "code",
   "execution_count": 54,
   "id": "de03cc17",
   "metadata": {},
   "outputs": [],
   "source": [
    "from autocorrect import Speller"
   ]
  },
  {
   "cell_type": "code",
   "execution_count": 55,
   "id": "0741e4ed",
   "metadata": {},
   "outputs": [],
   "source": [
    "spell = Speller(lang='en', fast = True)\n",
    "def spelling_correct(tokenized_text):\n",
    "    \"\"\"\n",
    "    This function takes a list of tokenized words from a sentence, spell check every words and returns the \n",
    "    corrected words if applicable. Note that not every wrong spelling words will be identified.\n",
    "    \"\"\"\n",
    "    corrected = [spell(word) for word in tokenized_text] \n",
    "    return corrected"
   ]
  },
  {
   "cell_type": "code",
   "execution_count": 56,
   "id": "a36a8cd8",
   "metadata": {},
   "outputs": [],
   "source": [
    "data_subset[\"description_str_token\"] = data_subset[\"description_str_token\"].apply(spelling_correct)\n",
    "data_subset[\"title_token\"] = data_subset[\"title_token\"].apply(spelling_correct)"
   ]
  },
  {
   "cell_type": "code",
   "execution_count": 57,
   "id": "0662b132",
   "metadata": {},
   "outputs": [],
   "source": [
    "data_subset['description_str'].replace('', np.nan, inplace=True)"
   ]
  },
  {
   "cell_type": "code",
   "execution_count": 58,
   "id": "75cdef69",
   "metadata": {},
   "outputs": [
    {
     "data": {
      "text/html": [
       "<div>\n",
       "<style scoped>\n",
       "    .dataframe tbody tr th:only-of-type {\n",
       "        vertical-align: middle;\n",
       "    }\n",
       "\n",
       "    .dataframe tbody tr th {\n",
       "        vertical-align: top;\n",
       "    }\n",
       "\n",
       "    .dataframe thead th {\n",
       "        text-align: right;\n",
       "    }\n",
       "</style>\n",
       "<table border=\"1\" class=\"dataframe\">\n",
       "  <thead>\n",
       "    <tr style=\"text-align: right;\">\n",
       "      <th></th>\n",
       "      <th>category</th>\n",
       "      <th>description</th>\n",
       "      <th>title</th>\n",
       "      <th>cnt_cats</th>\n",
       "      <th>cnt_desc</th>\n",
       "      <th>cat_x2</th>\n",
       "      <th>description_str</th>\n",
       "      <th>cat_x2_code</th>\n",
       "      <th>description_str_token</th>\n",
       "      <th>title_token</th>\n",
       "    </tr>\n",
       "  </thead>\n",
       "  <tbody>\n",
       "    <tr>\n",
       "      <th>0</th>\n",
       "      <td>[Books, Children's Books, Growing Up &amp;amp; Fac...</td>\n",
       "      <td>[PreSchool-Grade 2-When Katie's water phobia t...</td>\n",
       "      <td>katie catz makes a splash good sports</td>\n",
       "      <td>3</td>\n",
       "      <td>11</td>\n",
       "      <td>Children's Books</td>\n",
       "      <td>preschoolgrade when katies water phobia threat...</td>\n",
       "      <td>4</td>\n",
       "      <td>[preschoolgrade, katie, water, phobia, threate...</td>\n",
       "      <td>[katie, cat, makes, splash, good, sports]</td>\n",
       "    </tr>\n",
       "    <tr>\n",
       "      <th>1</th>\n",
       "      <td>[Books, Biographies &amp; Memoirs, Historical]</td>\n",
       "      <td>[This brief biography focuses more on the poli...</td>\n",
       "      <td>andrew jackson</td>\n",
       "      <td>3</td>\n",
       "      <td>2</td>\n",
       "      <td>Biographies &amp; Memoirs</td>\n",
       "      <td>this brief biography focuses more on the polit...</td>\n",
       "      <td>1</td>\n",
       "      <td>[brief, biography, focuses, political, career,...</td>\n",
       "      <td>[andrew, jackson]</td>\n",
       "    </tr>\n",
       "    <tr>\n",
       "      <th>2</th>\n",
       "      <td>[Books, Literature &amp;amp; Fiction, Genre Fiction]</td>\n",
       "      <td>[Racial and class conflicts simmer in this lac...</td>\n",
       "      <td>the water dancers a novel</td>\n",
       "      <td>3</td>\n",
       "      <td>4</td>\n",
       "      <td>Literature &amp; Fiction</td>\n",
       "      <td>racial and class conflicts simmer in this lack...</td>\n",
       "      <td>17</td>\n",
       "      <td>[racial, class, conflicts, summer, lackluster,...</td>\n",
       "      <td>[water, dancers, novel]</td>\n",
       "    </tr>\n",
       "    <tr>\n",
       "      <th>3</th>\n",
       "      <td>[Books, Christian Books &amp;amp; Bibles, Catholic...</td>\n",
       "      <td>[Spong, an Episcopal bishop and best-selling a...</td>\n",
       "      <td>born of a woman a bishop rethinks the birth of...</td>\n",
       "      <td>3</td>\n",
       "      <td>3</td>\n",
       "      <td>Christian Books &amp; Bibles</td>\n",
       "      <td>spong an episcopal bishop and bestselling auth...</td>\n",
       "      <td>5</td>\n",
       "      <td>[song, episcopal, bishop, bestselling, author,...</td>\n",
       "      <td>[born, woman, bishop, rethink, birth, jesus]</td>\n",
       "    </tr>\n",
       "    <tr>\n",
       "      <th>4</th>\n",
       "      <td>[Books, History, World]</td>\n",
       "      <td>[Re-creates the world from the second to the f...</td>\n",
       "      <td>pagans and christians</td>\n",
       "      <td>3</td>\n",
       "      <td>3</td>\n",
       "      <td>History</td>\n",
       "      <td>recreates the world from the second to the fou...</td>\n",
       "      <td>13</td>\n",
       "      <td>[recreates, world, second, fourth, century, ad...</td>\n",
       "      <td>[pagans, christians]</td>\n",
       "    </tr>\n",
       "  </tbody>\n",
       "</table>\n",
       "</div>"
      ],
      "text/plain": [
       "                                            category  \\\n",
       "0  [Books, Children's Books, Growing Up &amp; Fac...   \n",
       "1         [Books, Biographies & Memoirs, Historical]   \n",
       "2   [Books, Literature &amp; Fiction, Genre Fiction]   \n",
       "3  [Books, Christian Books &amp; Bibles, Catholic...   \n",
       "4                            [Books, History, World]   \n",
       "\n",
       "                                         description  \\\n",
       "0  [PreSchool-Grade 2-When Katie's water phobia t...   \n",
       "1  [This brief biography focuses more on the poli...   \n",
       "2  [Racial and class conflicts simmer in this lac...   \n",
       "3  [Spong, an Episcopal bishop and best-selling a...   \n",
       "4  [Re-creates the world from the second to the f...   \n",
       "\n",
       "                                               title  cnt_cats  cnt_desc  \\\n",
       "0              katie catz makes a splash good sports         3        11   \n",
       "1                                     andrew jackson         3         2   \n",
       "2                          the water dancers a novel         3         4   \n",
       "3  born of a woman a bishop rethinks the birth of...         3         3   \n",
       "4                              pagans and christians         3         3   \n",
       "\n",
       "                     cat_x2  \\\n",
       "0          Children's Books   \n",
       "1     Biographies & Memoirs   \n",
       "2      Literature & Fiction   \n",
       "3  Christian Books & Bibles   \n",
       "4                   History   \n",
       "\n",
       "                                     description_str  cat_x2_code  \\\n",
       "0  preschoolgrade when katies water phobia threat...            4   \n",
       "1  this brief biography focuses more on the polit...            1   \n",
       "2  racial and class conflicts simmer in this lack...           17   \n",
       "3  spong an episcopal bishop and bestselling auth...            5   \n",
       "4  recreates the world from the second to the fou...           13   \n",
       "\n",
       "                               description_str_token  \\\n",
       "0  [preschoolgrade, katie, water, phobia, threate...   \n",
       "1  [brief, biography, focuses, political, career,...   \n",
       "2  [racial, class, conflicts, summer, lackluster,...   \n",
       "3  [song, episcopal, bishop, bestselling, author,...   \n",
       "4  [recreates, world, second, fourth, century, ad...   \n",
       "\n",
       "                                    title_token  \n",
       "0     [katie, cat, makes, splash, good, sports]  \n",
       "1                             [andrew, jackson]  \n",
       "2                       [water, dancers, novel]  \n",
       "3  [born, woman, bishop, rethink, birth, jesus]  \n",
       "4                          [pagans, christians]  "
      ]
     },
     "execution_count": 58,
     "metadata": {},
     "output_type": "execute_result"
    }
   ],
   "source": [
    "data_subset.head()"
   ]
  },
  {
   "cell_type": "code",
   "execution_count": 59,
   "id": "07f51e53",
   "metadata": {},
   "outputs": [],
   "source": [
    "# remove the rows which don't have data\n",
    "data_subset = data_subset.dropna()"
   ]
  },
  {
   "cell_type": "markdown",
   "id": "e32141a9",
   "metadata": {},
   "source": [
    "### Now data has been cleansed, we are ready to train a model"
   ]
  },
  {
   "cell_type": "markdown",
   "id": "c408e72a",
   "metadata": {},
   "source": [
    "We will see when we return a sentence in it's vectorized format, we will have an array of 50 items, as that is the size we have choosen, where this is capturing the semantics of the sentence, and that will enable us to compare 2 sentences and see how similar they are for instance, and for this use-case, to be able to train a classifier. "
   ]
  },
  {
   "cell_type": "code",
   "execution_count": 60,
   "id": "b662f496",
   "metadata": {},
   "outputs": [],
   "source": [
    "model_gensim = FastText(size=50, window=5, min_count=1)"
   ]
  },
  {
   "cell_type": "code",
   "execution_count": 61,
   "id": "e3becf9b",
   "metadata": {},
   "outputs": [
    {
     "data": {
      "text/plain": [
       "0    [preschoolgrade, katie, water, phobia, threate...\n",
       "1    [brief, biography, focuses, political, career,...\n",
       "2    [racial, class, conflicts, summer, lackluster,...\n",
       "3    [song, episcopal, bishop, bestselling, author,...\n",
       "4    [recreates, world, second, fourth, century, ad...\n",
       "dtype: object"
      ]
     },
     "execution_count": 61,
     "metadata": {},
     "output_type": "execute_result"
    }
   ],
   "source": [
    "token_desc = data_subset[\"description_str_token\"] + data_subset[\"title_token\"]\n",
    "token_desc.head()"
   ]
  },
  {
   "cell_type": "code",
   "execution_count": 62,
   "id": "c14ba86e",
   "metadata": {},
   "outputs": [],
   "source": [
    "model_gensim.build_vocab(sentences=token_desc)"
   ]
  },
  {
   "cell_type": "code",
   "execution_count": 63,
   "id": "98761028",
   "metadata": {},
   "outputs": [],
   "source": [
    "model_gensim.train(sentences=token_desc, total_examples=len(token_desc), epochs=50) "
   ]
  },
  {
   "cell_type": "code",
   "execution_count": 64,
   "id": "e107b983",
   "metadata": {},
   "outputs": [],
   "source": [
    "from gensim.test.utils import get_tmpfile\n",
    "fname = get_tmpfile(\"fasttext.model\")\n",
    "\n",
    "model_gensim.save('books_gensim_model.bin')"
   ]
  },
  {
   "cell_type": "code",
   "execution_count": 65,
   "id": "af5f0222",
   "metadata": {},
   "outputs": [],
   "source": [
    "description_str = data_subset[\"description_str\"]"
   ]
  },
  {
   "cell_type": "code",
   "execution_count": 66,
   "id": "bbd22acb",
   "metadata": {},
   "outputs": [],
   "source": [
    "vector_description_str = model_gensim.wv[description_str]"
   ]
  },
  {
   "cell_type": "code",
   "execution_count": 67,
   "id": "3463b8b1",
   "metadata": {},
   "outputs": [],
   "source": [
    "#what happens if I do the wv is made on the token_desc"
   ]
  },
  {
   "cell_type": "code",
   "execution_count": 68,
   "id": "6361a40e",
   "metadata": {},
   "outputs": [
    {
     "data": {
      "text/plain": [
       "35856"
      ]
     },
     "execution_count": 68,
     "metadata": {},
     "output_type": "execute_result"
    }
   ],
   "source": [
    "len(vector_description_str)"
   ]
  },
  {
   "cell_type": "code",
   "execution_count": 147,
   "id": "28c34f12",
   "metadata": {},
   "outputs": [
    {
     "data": {
      "text/plain": [
       "['recreates',\n",
       " 'world',\n",
       " 'second',\n",
       " 'fourth',\n",
       " 'century',\n",
       " 'ad',\n",
       " 'graecoroman',\n",
       " 'gods',\n",
       " 'lost',\n",
       " 'dominion',\n",
       " 'christianity',\n",
       " 'conversion',\n",
       " 'constantine',\n",
       " 'triumphed',\n",
       " 'mediterranean',\n",
       " 'world']"
      ]
     },
     "execution_count": 147,
     "metadata": {},
     "output_type": "execute_result"
    }
   ],
   "source": [
    "data_subset[\"description_str_token\"][4]"
   ]
  },
  {
   "cell_type": "code",
   "execution_count": 148,
   "id": "d235de0b",
   "metadata": {},
   "outputs": [
    {
     "data": {
      "text/plain": [
       "'recreates the world from the second to the fourth century ad when the graecoroman gods lost their dominion and christianity with the conversion of constantine triumphed in the mediterranean world'"
      ]
     },
     "execution_count": 148,
     "metadata": {},
     "output_type": "execute_result"
    }
   ],
   "source": [
    "description_str[4]"
   ]
  },
  {
   "cell_type": "code",
   "execution_count": 149,
   "id": "14452e4e",
   "metadata": {},
   "outputs": [
    {
     "data": {
      "text/plain": [
       "array([[-0.01796775, -0.32192793,  0.4427467 ,  1.01180661, -0.34540969,\n",
       "         0.19013038,  0.27239057,  0.34442747, -0.87200141,  0.39073905,\n",
       "        -1.11305904,  0.15815021, -0.28595585, -0.67114389, -0.29362822,\n",
       "         0.52312618, -0.48540148, -0.23456573,  0.16478145, -1.10297   ,\n",
       "        -0.11184762, -0.36203459,  0.52202058, -0.24631335,  0.07348673,\n",
       "         0.43191677, -0.02977397,  0.2740055 , -1.282076  , -0.1733315 ,\n",
       "         0.46160921, -0.36126369,  0.36206457,  0.39822555,  0.03307921,\n",
       "        -0.3936322 ,  0.82833076,  0.55542183, -0.37598661, -0.68967819,\n",
       "         0.15875748, -0.17870745, -0.38433194, -0.41593724,  0.00131598,\n",
       "        -0.13523583,  0.79293609,  0.46883106,  1.0133872 ,  0.27109554]])"
      ]
     },
     "execution_count": 149,
     "metadata": {},
     "output_type": "execute_result"
    }
   ],
   "source": [
    "vector_description_str[4]"
   ]
  },
  {
   "cell_type": "code",
   "execution_count": 72,
   "id": "9506b334",
   "metadata": {},
   "outputs": [],
   "source": [
    "vector_description_str = np.split(vector_description_str,len(vector_description_str))"
   ]
  },
  {
   "cell_type": "code",
   "execution_count": 73,
   "id": "57d044f4",
   "metadata": {},
   "outputs": [
    {
     "data": {
      "text/plain": [
       "(1, 50)"
      ]
     },
     "execution_count": 73,
     "metadata": {},
     "output_type": "execute_result"
    }
   ],
   "source": [
    "vector_description_str[1].shape"
   ]
  },
  {
   "cell_type": "code",
   "execution_count": 74,
   "id": "ce1fbcba",
   "metadata": {},
   "outputs": [],
   "source": [
    "title_str = data_subset[\"title\"]"
   ]
  },
  {
   "cell_type": "code",
   "execution_count": 75,
   "id": "4a057f17",
   "metadata": {},
   "outputs": [],
   "source": [
    "vector_title_str = model_gensim.wv[title_str]"
   ]
  },
  {
   "cell_type": "code",
   "execution_count": 76,
   "id": "7cf48ded",
   "metadata": {},
   "outputs": [
    {
     "data": {
      "text/plain": [
       "35856"
      ]
     },
     "execution_count": 76,
     "metadata": {},
     "output_type": "execute_result"
    }
   ],
   "source": [
    "len(vector_title_str)"
   ]
  },
  {
   "cell_type": "code",
   "execution_count": 77,
   "id": "86f85734",
   "metadata": {},
   "outputs": [
    {
     "data": {
      "text/plain": [
       "(35856, 50)"
      ]
     },
     "execution_count": 77,
     "metadata": {},
     "output_type": "execute_result"
    }
   ],
   "source": [
    "vector_title_str.shape"
   ]
  },
  {
   "cell_type": "code",
   "execution_count": 78,
   "id": "ede1955a",
   "metadata": {},
   "outputs": [],
   "source": [
    "vector_title_str = np.split(vector_title_str,len(vector_title_str))"
   ]
  },
  {
   "cell_type": "code",
   "execution_count": 79,
   "id": "76061d2b",
   "metadata": {},
   "outputs": [],
   "source": [
    "vector_desc_title = np.concatenate((vector_title_str, vector_description_str), axis=1)"
   ]
  },
  {
   "cell_type": "code",
   "execution_count": 80,
   "id": "955e55ee",
   "metadata": {},
   "outputs": [
    {
     "data": {
      "text/plain": [
       "array([[-0.11389955, -0.17884767, -0.04533883,  0.7479725 , -0.6620094 ,\n",
       "         0.2998545 ,  0.6683462 , -0.67709017, -0.00276513, -0.01161655,\n",
       "        -0.43439627,  0.6503054 ,  0.12595864,  0.62316966,  0.43913954,\n",
       "         0.10223692, -0.00877468,  0.5330663 ,  0.14419468, -0.4775471 ,\n",
       "         0.3600916 , -0.35590523,  0.11081461, -0.9129674 ,  0.25066143,\n",
       "        -0.29290995,  0.548772  , -0.15917143,  0.03620967, -0.02649642,\n",
       "        -0.3584182 ,  0.10806427,  0.40827608,  0.20630829,  0.13886416,\n",
       "         0.42032284,  0.2844103 ,  0.41912055,  0.10839075,  0.1459674 ,\n",
       "         0.5091885 ,  0.12314051,  0.38874978,  0.2753711 ,  0.4628218 ,\n",
       "         0.7065846 , -0.2159911 ,  0.534624  ,  0.6421197 , -0.01627837]],\n",
       "      dtype=float32)"
      ]
     },
     "execution_count": 80,
     "metadata": {},
     "output_type": "execute_result"
    }
   ],
   "source": [
    "vector_title_str[0]"
   ]
  },
  {
   "cell_type": "code",
   "execution_count": 81,
   "id": "0e2d276f",
   "metadata": {},
   "outputs": [
    {
     "data": {
      "text/plain": [
       "array([[ 0.21512936, -0.27270401,  0.09654656,  0.80286735, -0.43365952,\n",
       "         0.12777027,  0.54810727,  0.01851196, -0.57441145,  0.13433439,\n",
       "        -0.6212936 ,  0.37913698,  0.08904486,  0.19478741, -0.17652661,\n",
       "         0.01280498, -0.16443644, -0.01446998,  0.01062257, -0.50620121,\n",
       "         0.21986067, -0.29872182,  0.36526218, -0.09799331,  0.34898707,\n",
       "        -0.04536806,  0.29148313,  0.3266516 , -0.39401016,  0.08060693,\n",
       "        -0.10553125, -0.0111227 ,  0.28406581, -0.13413872,  0.25219336,\n",
       "        -0.0949575 ,  0.73573917,  0.37018463,  0.36154485, -0.05152865,\n",
       "         0.11773488,  0.09467947,  0.00430389, -0.17713252,  0.01171682,\n",
       "         0.32209581,  0.62795264,  0.89702249, -0.02891457, -0.04578722]])"
      ]
     },
     "execution_count": 81,
     "metadata": {},
     "output_type": "execute_result"
    }
   ],
   "source": [
    "vector_description_str[0]"
   ]
  },
  {
   "cell_type": "code",
   "execution_count": 82,
   "id": "54a7d981",
   "metadata": {},
   "outputs": [
    {
     "data": {
      "text/plain": [
       "array([[-0.11389955, -0.17884767, -0.04533883,  0.74797249, -0.66200942,\n",
       "         0.29985449,  0.66834623, -0.67709017, -0.00276513, -0.01161655,\n",
       "        -0.43439627,  0.65030539,  0.12595864,  0.62316966,  0.43913954,\n",
       "         0.10223692, -0.00877468,  0.53306627,  0.14419468, -0.47754711,\n",
       "         0.3600916 , -0.35590523,  0.11081461, -0.91296738,  0.25066143,\n",
       "        -0.29290995,  0.54877198, -0.15917143,  0.03620967, -0.02649642,\n",
       "        -0.3584182 ,  0.10806427,  0.40827608,  0.20630829,  0.13886416,\n",
       "         0.42032284,  0.2844103 ,  0.41912055,  0.10839075,  0.14596739,\n",
       "         0.50918847,  0.12314051,  0.38874978,  0.2753711 ,  0.46282181,\n",
       "         0.70658457, -0.21599109,  0.53462398,  0.64211971, -0.01627837],\n",
       "       [ 0.21512936, -0.27270401,  0.09654656,  0.80286735, -0.43365952,\n",
       "         0.12777027,  0.54810727,  0.01851196, -0.57441145,  0.13433439,\n",
       "        -0.6212936 ,  0.37913698,  0.08904486,  0.19478741, -0.17652661,\n",
       "         0.01280498, -0.16443644, -0.01446998,  0.01062257, -0.50620121,\n",
       "         0.21986067, -0.29872182,  0.36526218, -0.09799331,  0.34898707,\n",
       "        -0.04536806,  0.29148313,  0.3266516 , -0.39401016,  0.08060693,\n",
       "        -0.10553125, -0.0111227 ,  0.28406581, -0.13413872,  0.25219336,\n",
       "        -0.0949575 ,  0.73573917,  0.37018463,  0.36154485, -0.05152865,\n",
       "         0.11773488,  0.09467947,  0.00430389, -0.17713252,  0.01171682,\n",
       "         0.32209581,  0.62795264,  0.89702249, -0.02891457, -0.04578722]])"
      ]
     },
     "execution_count": 82,
     "metadata": {},
     "output_type": "execute_result"
    }
   ],
   "source": [
    "vector_desc_title[0]"
   ]
  },
  {
   "cell_type": "code",
   "execution_count": 83,
   "id": "ccdb094b",
   "metadata": {},
   "outputs": [
    {
     "data": {
      "text/plain": [
       "(35856, 2, 50)"
      ]
     },
     "execution_count": 83,
     "metadata": {},
     "output_type": "execute_result"
    }
   ],
   "source": [
    "vector_desc_title.shape"
   ]
  },
  {
   "cell_type": "markdown",
   "id": "c2405f8a",
   "metadata": {},
   "source": [
    "We want to reshape the vector into a 2D with same number of rows and concatenating the data"
   ]
  },
  {
   "cell_type": "code",
   "execution_count": 84,
   "id": "9fe1c468",
   "metadata": {},
   "outputs": [],
   "source": [
    "big_vector_title_descr = vector_desc_title.reshape(len(vector_title_str),100)"
   ]
  },
  {
   "cell_type": "code",
   "execution_count": 85,
   "id": "9f285fd3",
   "metadata": {},
   "outputs": [
    {
     "data": {
      "text/plain": [
       "(35856, 100)"
      ]
     },
     "execution_count": 85,
     "metadata": {},
     "output_type": "execute_result"
    }
   ],
   "source": [
    "big_vector_title_descr.shape"
   ]
  },
  {
   "cell_type": "code",
   "execution_count": 86,
   "id": "c51a13cf",
   "metadata": {},
   "outputs": [
    {
     "data": {
      "text/html": [
       "<div>\n",
       "<style scoped>\n",
       "    .dataframe tbody tr th:only-of-type {\n",
       "        vertical-align: middle;\n",
       "    }\n",
       "\n",
       "    .dataframe tbody tr th {\n",
       "        vertical-align: top;\n",
       "    }\n",
       "\n",
       "    .dataframe thead th {\n",
       "        text-align: right;\n",
       "    }\n",
       "</style>\n",
       "<table border=\"1\" class=\"dataframe\">\n",
       "  <thead>\n",
       "    <tr style=\"text-align: right;\">\n",
       "      <th></th>\n",
       "      <th>category</th>\n",
       "      <th>description</th>\n",
       "      <th>title</th>\n",
       "      <th>cnt_cats</th>\n",
       "      <th>cnt_desc</th>\n",
       "      <th>cat_x2</th>\n",
       "      <th>description_str</th>\n",
       "      <th>cat_x2_code</th>\n",
       "      <th>description_str_token</th>\n",
       "      <th>title_token</th>\n",
       "    </tr>\n",
       "  </thead>\n",
       "  <tbody>\n",
       "    <tr>\n",
       "      <th>0</th>\n",
       "      <td>[Books, Children's Books, Growing Up &amp;amp; Fac...</td>\n",
       "      <td>[PreSchool-Grade 2-When Katie's water phobia t...</td>\n",
       "      <td>katie catz makes a splash good sports</td>\n",
       "      <td>3</td>\n",
       "      <td>11</td>\n",
       "      <td>Children's Books</td>\n",
       "      <td>preschoolgrade when katies water phobia threat...</td>\n",
       "      <td>4</td>\n",
       "      <td>[preschoolgrade, katie, water, phobia, threate...</td>\n",
       "      <td>[katie, cat, makes, splash, good, sports]</td>\n",
       "    </tr>\n",
       "    <tr>\n",
       "      <th>1</th>\n",
       "      <td>[Books, Biographies &amp; Memoirs, Historical]</td>\n",
       "      <td>[This brief biography focuses more on the poli...</td>\n",
       "      <td>andrew jackson</td>\n",
       "      <td>3</td>\n",
       "      <td>2</td>\n",
       "      <td>Biographies &amp; Memoirs</td>\n",
       "      <td>this brief biography focuses more on the polit...</td>\n",
       "      <td>1</td>\n",
       "      <td>[brief, biography, focuses, political, career,...</td>\n",
       "      <td>[andrew, jackson]</td>\n",
       "    </tr>\n",
       "    <tr>\n",
       "      <th>2</th>\n",
       "      <td>[Books, Literature &amp;amp; Fiction, Genre Fiction]</td>\n",
       "      <td>[Racial and class conflicts simmer in this lac...</td>\n",
       "      <td>the water dancers a novel</td>\n",
       "      <td>3</td>\n",
       "      <td>4</td>\n",
       "      <td>Literature &amp; Fiction</td>\n",
       "      <td>racial and class conflicts simmer in this lack...</td>\n",
       "      <td>17</td>\n",
       "      <td>[racial, class, conflicts, summer, lackluster,...</td>\n",
       "      <td>[water, dancers, novel]</td>\n",
       "    </tr>\n",
       "    <tr>\n",
       "      <th>3</th>\n",
       "      <td>[Books, Christian Books &amp;amp; Bibles, Catholic...</td>\n",
       "      <td>[Spong, an Episcopal bishop and best-selling a...</td>\n",
       "      <td>born of a woman a bishop rethinks the birth of...</td>\n",
       "      <td>3</td>\n",
       "      <td>3</td>\n",
       "      <td>Christian Books &amp; Bibles</td>\n",
       "      <td>spong an episcopal bishop and bestselling auth...</td>\n",
       "      <td>5</td>\n",
       "      <td>[song, episcopal, bishop, bestselling, author,...</td>\n",
       "      <td>[born, woman, bishop, rethink, birth, jesus]</td>\n",
       "    </tr>\n",
       "    <tr>\n",
       "      <th>4</th>\n",
       "      <td>[Books, History, World]</td>\n",
       "      <td>[Re-creates the world from the second to the f...</td>\n",
       "      <td>pagans and christians</td>\n",
       "      <td>3</td>\n",
       "      <td>3</td>\n",
       "      <td>History</td>\n",
       "      <td>recreates the world from the second to the fou...</td>\n",
       "      <td>13</td>\n",
       "      <td>[recreates, world, second, fourth, century, ad...</td>\n",
       "      <td>[pagans, christians]</td>\n",
       "    </tr>\n",
       "  </tbody>\n",
       "</table>\n",
       "</div>"
      ],
      "text/plain": [
       "                                            category  \\\n",
       "0  [Books, Children's Books, Growing Up &amp; Fac...   \n",
       "1         [Books, Biographies & Memoirs, Historical]   \n",
       "2   [Books, Literature &amp; Fiction, Genre Fiction]   \n",
       "3  [Books, Christian Books &amp; Bibles, Catholic...   \n",
       "4                            [Books, History, World]   \n",
       "\n",
       "                                         description  \\\n",
       "0  [PreSchool-Grade 2-When Katie's water phobia t...   \n",
       "1  [This brief biography focuses more on the poli...   \n",
       "2  [Racial and class conflicts simmer in this lac...   \n",
       "3  [Spong, an Episcopal bishop and best-selling a...   \n",
       "4  [Re-creates the world from the second to the f...   \n",
       "\n",
       "                                               title  cnt_cats  cnt_desc  \\\n",
       "0              katie catz makes a splash good sports         3        11   \n",
       "1                                     andrew jackson         3         2   \n",
       "2                          the water dancers a novel         3         4   \n",
       "3  born of a woman a bishop rethinks the birth of...         3         3   \n",
       "4                              pagans and christians         3         3   \n",
       "\n",
       "                     cat_x2  \\\n",
       "0          Children's Books   \n",
       "1     Biographies & Memoirs   \n",
       "2      Literature & Fiction   \n",
       "3  Christian Books & Bibles   \n",
       "4                   History   \n",
       "\n",
       "                                     description_str  cat_x2_code  \\\n",
       "0  preschoolgrade when katies water phobia threat...            4   \n",
       "1  this brief biography focuses more on the polit...            1   \n",
       "2  racial and class conflicts simmer in this lack...           17   \n",
       "3  spong an episcopal bishop and bestselling auth...            5   \n",
       "4  recreates the world from the second to the fou...           13   \n",
       "\n",
       "                               description_str_token  \\\n",
       "0  [preschoolgrade, katie, water, phobia, threate...   \n",
       "1  [brief, biography, focuses, political, career,...   \n",
       "2  [racial, class, conflicts, summer, lackluster,...   \n",
       "3  [song, episcopal, bishop, bestselling, author,...   \n",
       "4  [recreates, world, second, fourth, century, ad...   \n",
       "\n",
       "                                    title_token  \n",
       "0     [katie, cat, makes, splash, good, sports]  \n",
       "1                             [andrew, jackson]  \n",
       "2                       [water, dancers, novel]  \n",
       "3  [born, woman, bishop, rethink, birth, jesus]  \n",
       "4                          [pagans, christians]  "
      ]
     },
     "execution_count": 86,
     "metadata": {},
     "output_type": "execute_result"
    }
   ],
   "source": [
    "data_subset.head()"
   ]
  },
  {
   "cell_type": "code",
   "execution_count": 87,
   "id": "4601e320",
   "metadata": {},
   "outputs": [
    {
     "data": {
      "text/plain": [
       "35856"
      ]
     },
     "execution_count": 87,
     "metadata": {},
     "output_type": "execute_result"
    }
   ],
   "source": [
    "len(data_subset)"
   ]
  },
  {
   "cell_type": "code",
   "execution_count": 88,
   "id": "a002fe54",
   "metadata": {},
   "outputs": [],
   "source": [
    "df_big_vector_title_descr = pd.DataFrame(data=big_vector_title_descr)"
   ]
  },
  {
   "cell_type": "code",
   "execution_count": 89,
   "id": "90b3238d",
   "metadata": {},
   "outputs": [
    {
     "data": {
      "text/html": [
       "<div>\n",
       "<style scoped>\n",
       "    .dataframe tbody tr th:only-of-type {\n",
       "        vertical-align: middle;\n",
       "    }\n",
       "\n",
       "    .dataframe tbody tr th {\n",
       "        vertical-align: top;\n",
       "    }\n",
       "\n",
       "    .dataframe thead th {\n",
       "        text-align: right;\n",
       "    }\n",
       "</style>\n",
       "<table border=\"1\" class=\"dataframe\">\n",
       "  <thead>\n",
       "    <tr style=\"text-align: right;\">\n",
       "      <th></th>\n",
       "      <th>0</th>\n",
       "      <th>1</th>\n",
       "      <th>2</th>\n",
       "      <th>3</th>\n",
       "      <th>4</th>\n",
       "      <th>5</th>\n",
       "      <th>6</th>\n",
       "      <th>7</th>\n",
       "      <th>8</th>\n",
       "      <th>9</th>\n",
       "      <th>...</th>\n",
       "      <th>90</th>\n",
       "      <th>91</th>\n",
       "      <th>92</th>\n",
       "      <th>93</th>\n",
       "      <th>94</th>\n",
       "      <th>95</th>\n",
       "      <th>96</th>\n",
       "      <th>97</th>\n",
       "      <th>98</th>\n",
       "      <th>99</th>\n",
       "    </tr>\n",
       "  </thead>\n",
       "  <tbody>\n",
       "    <tr>\n",
       "      <th>0</th>\n",
       "      <td>-0.113900</td>\n",
       "      <td>-0.178848</td>\n",
       "      <td>-0.045339</td>\n",
       "      <td>0.747972</td>\n",
       "      <td>-0.662009</td>\n",
       "      <td>0.299854</td>\n",
       "      <td>0.668346</td>\n",
       "      <td>-0.677090</td>\n",
       "      <td>-0.002765</td>\n",
       "      <td>-0.011617</td>\n",
       "      <td>...</td>\n",
       "      <td>0.117735</td>\n",
       "      <td>0.094679</td>\n",
       "      <td>0.004304</td>\n",
       "      <td>-0.177133</td>\n",
       "      <td>0.011717</td>\n",
       "      <td>0.322096</td>\n",
       "      <td>0.627953</td>\n",
       "      <td>0.897022</td>\n",
       "      <td>-0.028915</td>\n",
       "      <td>-0.045787</td>\n",
       "    </tr>\n",
       "    <tr>\n",
       "      <th>1</th>\n",
       "      <td>-1.901171</td>\n",
       "      <td>0.966746</td>\n",
       "      <td>0.800008</td>\n",
       "      <td>1.095033</td>\n",
       "      <td>0.101101</td>\n",
       "      <td>0.258321</td>\n",
       "      <td>-0.849448</td>\n",
       "      <td>-0.399141</td>\n",
       "      <td>-0.033316</td>\n",
       "      <td>-1.279748</td>\n",
       "      <td>...</td>\n",
       "      <td>0.200965</td>\n",
       "      <td>-0.490044</td>\n",
       "      <td>0.204726</td>\n",
       "      <td>-0.386321</td>\n",
       "      <td>0.275710</td>\n",
       "      <td>0.116053</td>\n",
       "      <td>0.806538</td>\n",
       "      <td>0.755876</td>\n",
       "      <td>0.783512</td>\n",
       "      <td>0.026197</td>\n",
       "    </tr>\n",
       "    <tr>\n",
       "      <th>2</th>\n",
       "      <td>0.245467</td>\n",
       "      <td>1.100971</td>\n",
       "      <td>-0.250720</td>\n",
       "      <td>1.757939</td>\n",
       "      <td>-0.022062</td>\n",
       "      <td>0.596411</td>\n",
       "      <td>1.154969</td>\n",
       "      <td>0.210083</td>\n",
       "      <td>-1.066611</td>\n",
       "      <td>-0.287484</td>\n",
       "      <td>...</td>\n",
       "      <td>0.082629</td>\n",
       "      <td>-0.125232</td>\n",
       "      <td>-0.167305</td>\n",
       "      <td>-0.067108</td>\n",
       "      <td>0.105600</td>\n",
       "      <td>0.187292</td>\n",
       "      <td>0.311070</td>\n",
       "      <td>0.562679</td>\n",
       "      <td>0.393484</td>\n",
       "      <td>-0.067186</td>\n",
       "    </tr>\n",
       "    <tr>\n",
       "      <th>3</th>\n",
       "      <td>0.494056</td>\n",
       "      <td>-0.334348</td>\n",
       "      <td>0.303605</td>\n",
       "      <td>0.427710</td>\n",
       "      <td>-0.208441</td>\n",
       "      <td>0.157509</td>\n",
       "      <td>-0.659632</td>\n",
       "      <td>0.802170</td>\n",
       "      <td>-0.178103</td>\n",
       "      <td>-0.485869</td>\n",
       "      <td>...</td>\n",
       "      <td>0.207267</td>\n",
       "      <td>-0.347520</td>\n",
       "      <td>-0.006677</td>\n",
       "      <td>-0.645979</td>\n",
       "      <td>0.118257</td>\n",
       "      <td>-0.173144</td>\n",
       "      <td>1.493761</td>\n",
       "      <td>1.180336</td>\n",
       "      <td>0.389957</td>\n",
       "      <td>-0.333253</td>\n",
       "    </tr>\n",
       "    <tr>\n",
       "      <th>4</th>\n",
       "      <td>0.423756</td>\n",
       "      <td>-0.589404</td>\n",
       "      <td>1.486319</td>\n",
       "      <td>0.376148</td>\n",
       "      <td>-1.256931</td>\n",
       "      <td>0.041691</td>\n",
       "      <td>-0.721385</td>\n",
       "      <td>0.905591</td>\n",
       "      <td>-1.418775</td>\n",
       "      <td>1.202415</td>\n",
       "      <td>...</td>\n",
       "      <td>0.158757</td>\n",
       "      <td>-0.178707</td>\n",
       "      <td>-0.384332</td>\n",
       "      <td>-0.415937</td>\n",
       "      <td>0.001316</td>\n",
       "      <td>-0.135236</td>\n",
       "      <td>0.792936</td>\n",
       "      <td>0.468831</td>\n",
       "      <td>1.013387</td>\n",
       "      <td>0.271096</td>\n",
       "    </tr>\n",
       "  </tbody>\n",
       "</table>\n",
       "<p>5 rows × 100 columns</p>\n",
       "</div>"
      ],
      "text/plain": [
       "         0         1         2         3         4         5         6   \\\n",
       "0 -0.113900 -0.178848 -0.045339  0.747972 -0.662009  0.299854  0.668346   \n",
       "1 -1.901171  0.966746  0.800008  1.095033  0.101101  0.258321 -0.849448   \n",
       "2  0.245467  1.100971 -0.250720  1.757939 -0.022062  0.596411  1.154969   \n",
       "3  0.494056 -0.334348  0.303605  0.427710 -0.208441  0.157509 -0.659632   \n",
       "4  0.423756 -0.589404  1.486319  0.376148 -1.256931  0.041691 -0.721385   \n",
       "\n",
       "         7         8         9   ...        90        91        92        93  \\\n",
       "0 -0.677090 -0.002765 -0.011617  ...  0.117735  0.094679  0.004304 -0.177133   \n",
       "1 -0.399141 -0.033316 -1.279748  ...  0.200965 -0.490044  0.204726 -0.386321   \n",
       "2  0.210083 -1.066611 -0.287484  ...  0.082629 -0.125232 -0.167305 -0.067108   \n",
       "3  0.802170 -0.178103 -0.485869  ...  0.207267 -0.347520 -0.006677 -0.645979   \n",
       "4  0.905591 -1.418775  1.202415  ...  0.158757 -0.178707 -0.384332 -0.415937   \n",
       "\n",
       "         94        95        96        97        98        99  \n",
       "0  0.011717  0.322096  0.627953  0.897022 -0.028915 -0.045787  \n",
       "1  0.275710  0.116053  0.806538  0.755876  0.783512  0.026197  \n",
       "2  0.105600  0.187292  0.311070  0.562679  0.393484 -0.067186  \n",
       "3  0.118257 -0.173144  1.493761  1.180336  0.389957 -0.333253  \n",
       "4  0.001316 -0.135236  0.792936  0.468831  1.013387  0.271096  \n",
       "\n",
       "[5 rows x 100 columns]"
      ]
     },
     "execution_count": 89,
     "metadata": {},
     "output_type": "execute_result"
    }
   ],
   "source": [
    "df_big_vector_title_descr.head()"
   ]
  },
  {
   "cell_type": "markdown",
   "id": "c15260e8",
   "metadata": {},
   "source": [
    "Our index on both these DataFrames wont align anymore, so we need to reset the index so we can do that."
   ]
  },
  {
   "cell_type": "code",
   "execution_count": 90,
   "id": "64a06e2a",
   "metadata": {},
   "outputs": [],
   "source": [
    "data_subset = data_subset.reset_index()"
   ]
  },
  {
   "cell_type": "code",
   "execution_count": 91,
   "id": "f9c36c76",
   "metadata": {},
   "outputs": [
    {
     "data": {
      "text/html": [
       "<div>\n",
       "<style scoped>\n",
       "    .dataframe tbody tr th:only-of-type {\n",
       "        vertical-align: middle;\n",
       "    }\n",
       "\n",
       "    .dataframe tbody tr th {\n",
       "        vertical-align: top;\n",
       "    }\n",
       "\n",
       "    .dataframe thead th {\n",
       "        text-align: right;\n",
       "    }\n",
       "</style>\n",
       "<table border=\"1\" class=\"dataframe\">\n",
       "  <thead>\n",
       "    <tr style=\"text-align: right;\">\n",
       "      <th></th>\n",
       "      <th>index</th>\n",
       "      <th>category</th>\n",
       "      <th>description</th>\n",
       "      <th>title</th>\n",
       "      <th>cnt_cats</th>\n",
       "      <th>cnt_desc</th>\n",
       "      <th>cat_x2</th>\n",
       "      <th>description_str</th>\n",
       "      <th>cat_x2_code</th>\n",
       "      <th>description_str_token</th>\n",
       "      <th>title_token</th>\n",
       "    </tr>\n",
       "  </thead>\n",
       "  <tbody>\n",
       "    <tr>\n",
       "      <th>0</th>\n",
       "      <td>0</td>\n",
       "      <td>[Books, Children's Books, Growing Up &amp;amp; Fac...</td>\n",
       "      <td>[PreSchool-Grade 2-When Katie's water phobia t...</td>\n",
       "      <td>katie catz makes a splash good sports</td>\n",
       "      <td>3</td>\n",
       "      <td>11</td>\n",
       "      <td>Children's Books</td>\n",
       "      <td>preschoolgrade when katies water phobia threat...</td>\n",
       "      <td>4</td>\n",
       "      <td>[preschoolgrade, katie, water, phobia, threate...</td>\n",
       "      <td>[katie, cat, makes, splash, good, sports]</td>\n",
       "    </tr>\n",
       "    <tr>\n",
       "      <th>1</th>\n",
       "      <td>1</td>\n",
       "      <td>[Books, Biographies &amp; Memoirs, Historical]</td>\n",
       "      <td>[This brief biography focuses more on the poli...</td>\n",
       "      <td>andrew jackson</td>\n",
       "      <td>3</td>\n",
       "      <td>2</td>\n",
       "      <td>Biographies &amp; Memoirs</td>\n",
       "      <td>this brief biography focuses more on the polit...</td>\n",
       "      <td>1</td>\n",
       "      <td>[brief, biography, focuses, political, career,...</td>\n",
       "      <td>[andrew, jackson]</td>\n",
       "    </tr>\n",
       "    <tr>\n",
       "      <th>2</th>\n",
       "      <td>2</td>\n",
       "      <td>[Books, Literature &amp;amp; Fiction, Genre Fiction]</td>\n",
       "      <td>[Racial and class conflicts simmer in this lac...</td>\n",
       "      <td>the water dancers a novel</td>\n",
       "      <td>3</td>\n",
       "      <td>4</td>\n",
       "      <td>Literature &amp; Fiction</td>\n",
       "      <td>racial and class conflicts simmer in this lack...</td>\n",
       "      <td>17</td>\n",
       "      <td>[racial, class, conflicts, summer, lackluster,...</td>\n",
       "      <td>[water, dancers, novel]</td>\n",
       "    </tr>\n",
       "    <tr>\n",
       "      <th>3</th>\n",
       "      <td>3</td>\n",
       "      <td>[Books, Christian Books &amp;amp; Bibles, Catholic...</td>\n",
       "      <td>[Spong, an Episcopal bishop and best-selling a...</td>\n",
       "      <td>born of a woman a bishop rethinks the birth of...</td>\n",
       "      <td>3</td>\n",
       "      <td>3</td>\n",
       "      <td>Christian Books &amp; Bibles</td>\n",
       "      <td>spong an episcopal bishop and bestselling auth...</td>\n",
       "      <td>5</td>\n",
       "      <td>[song, episcopal, bishop, bestselling, author,...</td>\n",
       "      <td>[born, woman, bishop, rethink, birth, jesus]</td>\n",
       "    </tr>\n",
       "    <tr>\n",
       "      <th>4</th>\n",
       "      <td>4</td>\n",
       "      <td>[Books, History, World]</td>\n",
       "      <td>[Re-creates the world from the second to the f...</td>\n",
       "      <td>pagans and christians</td>\n",
       "      <td>3</td>\n",
       "      <td>3</td>\n",
       "      <td>History</td>\n",
       "      <td>recreates the world from the second to the fou...</td>\n",
       "      <td>13</td>\n",
       "      <td>[recreates, world, second, fourth, century, ad...</td>\n",
       "      <td>[pagans, christians]</td>\n",
       "    </tr>\n",
       "  </tbody>\n",
       "</table>\n",
       "</div>"
      ],
      "text/plain": [
       "   index                                           category  \\\n",
       "0      0  [Books, Children's Books, Growing Up &amp; Fac...   \n",
       "1      1         [Books, Biographies & Memoirs, Historical]   \n",
       "2      2   [Books, Literature &amp; Fiction, Genre Fiction]   \n",
       "3      3  [Books, Christian Books &amp; Bibles, Catholic...   \n",
       "4      4                            [Books, History, World]   \n",
       "\n",
       "                                         description  \\\n",
       "0  [PreSchool-Grade 2-When Katie's water phobia t...   \n",
       "1  [This brief biography focuses more on the poli...   \n",
       "2  [Racial and class conflicts simmer in this lac...   \n",
       "3  [Spong, an Episcopal bishop and best-selling a...   \n",
       "4  [Re-creates the world from the second to the f...   \n",
       "\n",
       "                                               title  cnt_cats  cnt_desc  \\\n",
       "0              katie catz makes a splash good sports         3        11   \n",
       "1                                     andrew jackson         3         2   \n",
       "2                          the water dancers a novel         3         4   \n",
       "3  born of a woman a bishop rethinks the birth of...         3         3   \n",
       "4                              pagans and christians         3         3   \n",
       "\n",
       "                     cat_x2  \\\n",
       "0          Children's Books   \n",
       "1     Biographies & Memoirs   \n",
       "2      Literature & Fiction   \n",
       "3  Christian Books & Bibles   \n",
       "4                   History   \n",
       "\n",
       "                                     description_str  cat_x2_code  \\\n",
       "0  preschoolgrade when katies water phobia threat...            4   \n",
       "1  this brief biography focuses more on the polit...            1   \n",
       "2  racial and class conflicts simmer in this lack...           17   \n",
       "3  spong an episcopal bishop and bestselling auth...            5   \n",
       "4  recreates the world from the second to the fou...           13   \n",
       "\n",
       "                               description_str_token  \\\n",
       "0  [preschoolgrade, katie, water, phobia, threate...   \n",
       "1  [brief, biography, focuses, political, career,...   \n",
       "2  [racial, class, conflicts, summer, lackluster,...   \n",
       "3  [song, episcopal, bishop, bestselling, author,...   \n",
       "4  [recreates, world, second, fourth, century, ad...   \n",
       "\n",
       "                                    title_token  \n",
       "0     [katie, cat, makes, splash, good, sports]  \n",
       "1                             [andrew, jackson]  \n",
       "2                       [water, dancers, novel]  \n",
       "3  [born, woman, bishop, rethink, birth, jesus]  \n",
       "4                          [pagans, christians]  "
      ]
     },
     "execution_count": 91,
     "metadata": {},
     "output_type": "execute_result"
    }
   ],
   "source": [
    "data_subset.head()"
   ]
  },
  {
   "cell_type": "code",
   "execution_count": 92,
   "id": "5df91c39",
   "metadata": {},
   "outputs": [],
   "source": [
    "data_subset_2 = pd.concat([data_subset, df_big_vector_title_descr], axis=1)"
   ]
  },
  {
   "cell_type": "code",
   "execution_count": 93,
   "id": "70da8f8b",
   "metadata": {},
   "outputs": [
    {
     "data": {
      "text/html": [
       "<div>\n",
       "<style scoped>\n",
       "    .dataframe tbody tr th:only-of-type {\n",
       "        vertical-align: middle;\n",
       "    }\n",
       "\n",
       "    .dataframe tbody tr th {\n",
       "        vertical-align: top;\n",
       "    }\n",
       "\n",
       "    .dataframe thead th {\n",
       "        text-align: right;\n",
       "    }\n",
       "</style>\n",
       "<table border=\"1\" class=\"dataframe\">\n",
       "  <thead>\n",
       "    <tr style=\"text-align: right;\">\n",
       "      <th></th>\n",
       "      <th>index</th>\n",
       "      <th>category</th>\n",
       "      <th>description</th>\n",
       "      <th>title</th>\n",
       "      <th>cnt_cats</th>\n",
       "      <th>cnt_desc</th>\n",
       "      <th>cat_x2</th>\n",
       "      <th>description_str</th>\n",
       "      <th>cat_x2_code</th>\n",
       "      <th>description_str_token</th>\n",
       "      <th>...</th>\n",
       "      <th>90</th>\n",
       "      <th>91</th>\n",
       "      <th>92</th>\n",
       "      <th>93</th>\n",
       "      <th>94</th>\n",
       "      <th>95</th>\n",
       "      <th>96</th>\n",
       "      <th>97</th>\n",
       "      <th>98</th>\n",
       "      <th>99</th>\n",
       "    </tr>\n",
       "  </thead>\n",
       "  <tbody>\n",
       "    <tr>\n",
       "      <th>0</th>\n",
       "      <td>0</td>\n",
       "      <td>[Books, Children's Books, Growing Up &amp;amp; Fac...</td>\n",
       "      <td>[PreSchool-Grade 2-When Katie's water phobia t...</td>\n",
       "      <td>katie catz makes a splash good sports</td>\n",
       "      <td>3</td>\n",
       "      <td>11</td>\n",
       "      <td>Children's Books</td>\n",
       "      <td>preschoolgrade when katies water phobia threat...</td>\n",
       "      <td>4</td>\n",
       "      <td>[preschoolgrade, katie, water, phobia, threate...</td>\n",
       "      <td>...</td>\n",
       "      <td>0.117735</td>\n",
       "      <td>0.094679</td>\n",
       "      <td>0.004304</td>\n",
       "      <td>-0.177133</td>\n",
       "      <td>0.011717</td>\n",
       "      <td>0.322096</td>\n",
       "      <td>0.627953</td>\n",
       "      <td>0.897022</td>\n",
       "      <td>-0.028915</td>\n",
       "      <td>-0.045787</td>\n",
       "    </tr>\n",
       "    <tr>\n",
       "      <th>1</th>\n",
       "      <td>1</td>\n",
       "      <td>[Books, Biographies &amp; Memoirs, Historical]</td>\n",
       "      <td>[This brief biography focuses more on the poli...</td>\n",
       "      <td>andrew jackson</td>\n",
       "      <td>3</td>\n",
       "      <td>2</td>\n",
       "      <td>Biographies &amp; Memoirs</td>\n",
       "      <td>this brief biography focuses more on the polit...</td>\n",
       "      <td>1</td>\n",
       "      <td>[brief, biography, focuses, political, career,...</td>\n",
       "      <td>...</td>\n",
       "      <td>0.200965</td>\n",
       "      <td>-0.490044</td>\n",
       "      <td>0.204726</td>\n",
       "      <td>-0.386321</td>\n",
       "      <td>0.275710</td>\n",
       "      <td>0.116053</td>\n",
       "      <td>0.806538</td>\n",
       "      <td>0.755876</td>\n",
       "      <td>0.783512</td>\n",
       "      <td>0.026197</td>\n",
       "    </tr>\n",
       "    <tr>\n",
       "      <th>2</th>\n",
       "      <td>2</td>\n",
       "      <td>[Books, Literature &amp;amp; Fiction, Genre Fiction]</td>\n",
       "      <td>[Racial and class conflicts simmer in this lac...</td>\n",
       "      <td>the water dancers a novel</td>\n",
       "      <td>3</td>\n",
       "      <td>4</td>\n",
       "      <td>Literature &amp; Fiction</td>\n",
       "      <td>racial and class conflicts simmer in this lack...</td>\n",
       "      <td>17</td>\n",
       "      <td>[racial, class, conflicts, summer, lackluster,...</td>\n",
       "      <td>...</td>\n",
       "      <td>0.082629</td>\n",
       "      <td>-0.125232</td>\n",
       "      <td>-0.167305</td>\n",
       "      <td>-0.067108</td>\n",
       "      <td>0.105600</td>\n",
       "      <td>0.187292</td>\n",
       "      <td>0.311070</td>\n",
       "      <td>0.562679</td>\n",
       "      <td>0.393484</td>\n",
       "      <td>-0.067186</td>\n",
       "    </tr>\n",
       "    <tr>\n",
       "      <th>3</th>\n",
       "      <td>3</td>\n",
       "      <td>[Books, Christian Books &amp;amp; Bibles, Catholic...</td>\n",
       "      <td>[Spong, an Episcopal bishop and best-selling a...</td>\n",
       "      <td>born of a woman a bishop rethinks the birth of...</td>\n",
       "      <td>3</td>\n",
       "      <td>3</td>\n",
       "      <td>Christian Books &amp; Bibles</td>\n",
       "      <td>spong an episcopal bishop and bestselling auth...</td>\n",
       "      <td>5</td>\n",
       "      <td>[song, episcopal, bishop, bestselling, author,...</td>\n",
       "      <td>...</td>\n",
       "      <td>0.207267</td>\n",
       "      <td>-0.347520</td>\n",
       "      <td>-0.006677</td>\n",
       "      <td>-0.645979</td>\n",
       "      <td>0.118257</td>\n",
       "      <td>-0.173144</td>\n",
       "      <td>1.493761</td>\n",
       "      <td>1.180336</td>\n",
       "      <td>0.389957</td>\n",
       "      <td>-0.333253</td>\n",
       "    </tr>\n",
       "    <tr>\n",
       "      <th>4</th>\n",
       "      <td>4</td>\n",
       "      <td>[Books, History, World]</td>\n",
       "      <td>[Re-creates the world from the second to the f...</td>\n",
       "      <td>pagans and christians</td>\n",
       "      <td>3</td>\n",
       "      <td>3</td>\n",
       "      <td>History</td>\n",
       "      <td>recreates the world from the second to the fou...</td>\n",
       "      <td>13</td>\n",
       "      <td>[recreates, world, second, fourth, century, ad...</td>\n",
       "      <td>...</td>\n",
       "      <td>0.158757</td>\n",
       "      <td>-0.178707</td>\n",
       "      <td>-0.384332</td>\n",
       "      <td>-0.415937</td>\n",
       "      <td>0.001316</td>\n",
       "      <td>-0.135236</td>\n",
       "      <td>0.792936</td>\n",
       "      <td>0.468831</td>\n",
       "      <td>1.013387</td>\n",
       "      <td>0.271096</td>\n",
       "    </tr>\n",
       "  </tbody>\n",
       "</table>\n",
       "<p>5 rows × 111 columns</p>\n",
       "</div>"
      ],
      "text/plain": [
       "   index                                           category  \\\n",
       "0      0  [Books, Children's Books, Growing Up &amp; Fac...   \n",
       "1      1         [Books, Biographies & Memoirs, Historical]   \n",
       "2      2   [Books, Literature &amp; Fiction, Genre Fiction]   \n",
       "3      3  [Books, Christian Books &amp; Bibles, Catholic...   \n",
       "4      4                            [Books, History, World]   \n",
       "\n",
       "                                         description  \\\n",
       "0  [PreSchool-Grade 2-When Katie's water phobia t...   \n",
       "1  [This brief biography focuses more on the poli...   \n",
       "2  [Racial and class conflicts simmer in this lac...   \n",
       "3  [Spong, an Episcopal bishop and best-selling a...   \n",
       "4  [Re-creates the world from the second to the f...   \n",
       "\n",
       "                                               title  cnt_cats  cnt_desc  \\\n",
       "0              katie catz makes a splash good sports         3        11   \n",
       "1                                     andrew jackson         3         2   \n",
       "2                          the water dancers a novel         3         4   \n",
       "3  born of a woman a bishop rethinks the birth of...         3         3   \n",
       "4                              pagans and christians         3         3   \n",
       "\n",
       "                     cat_x2  \\\n",
       "0          Children's Books   \n",
       "1     Biographies & Memoirs   \n",
       "2      Literature & Fiction   \n",
       "3  Christian Books & Bibles   \n",
       "4                   History   \n",
       "\n",
       "                                     description_str  cat_x2_code  \\\n",
       "0  preschoolgrade when katies water phobia threat...            4   \n",
       "1  this brief biography focuses more on the polit...            1   \n",
       "2  racial and class conflicts simmer in this lack...           17   \n",
       "3  spong an episcopal bishop and bestselling auth...            5   \n",
       "4  recreates the world from the second to the fou...           13   \n",
       "\n",
       "                               description_str_token  ...        90        91  \\\n",
       "0  [preschoolgrade, katie, water, phobia, threate...  ...  0.117735  0.094679   \n",
       "1  [brief, biography, focuses, political, career,...  ...  0.200965 -0.490044   \n",
       "2  [racial, class, conflicts, summer, lackluster,...  ...  0.082629 -0.125232   \n",
       "3  [song, episcopal, bishop, bestselling, author,...  ...  0.207267 -0.347520   \n",
       "4  [recreates, world, second, fourth, century, ad...  ...  0.158757 -0.178707   \n",
       "\n",
       "         92        93        94        95        96        97        98  \\\n",
       "0  0.004304 -0.177133  0.011717  0.322096  0.627953  0.897022 -0.028915   \n",
       "1  0.204726 -0.386321  0.275710  0.116053  0.806538  0.755876  0.783512   \n",
       "2 -0.167305 -0.067108  0.105600  0.187292  0.311070  0.562679  0.393484   \n",
       "3 -0.006677 -0.645979  0.118257 -0.173144  1.493761  1.180336  0.389957   \n",
       "4 -0.384332 -0.415937  0.001316 -0.135236  0.792936  0.468831  1.013387   \n",
       "\n",
       "         99  \n",
       "0 -0.045787  \n",
       "1  0.026197  \n",
       "2 -0.067186  \n",
       "3 -0.333253  \n",
       "4  0.271096  \n",
       "\n",
       "[5 rows x 111 columns]"
      ]
     },
     "execution_count": 93,
     "metadata": {},
     "output_type": "execute_result"
    }
   ],
   "source": [
    "data_subset_2.head()"
   ]
  },
  {
   "cell_type": "markdown",
   "id": "c79f3edd",
   "metadata": {},
   "source": [
    "### We want to check the count of each of the classes to check for class imbalance"
   ]
  },
  {
   "cell_type": "markdown",
   "id": "2bd8f8dc",
   "metadata": {},
   "source": [
    "With another version of XGBoost, we can supply the weights as a vector as a parameter for the training which will improve the model training to help the model be less bias because of the class imbalance"
   ]
  },
  {
   "cell_type": "code",
   "execution_count": 94,
   "id": "e55f74f8",
   "metadata": {},
   "outputs": [
    {
     "data": {
      "text/plain": [
       "array([ 4,  1, 17,  5, 13,  2, 20, 12,  9, 26, 18, 14, 25, 30, 11, 28, 29,\n",
       "       19,  8,  0, 24, 22, 32,  6, 21, 27, 23,  7, 16, 10, 15, 31,  3],\n",
       "      dtype=int8)"
      ]
     },
     "execution_count": 94,
     "metadata": {},
     "output_type": "execute_result"
    }
   ],
   "source": [
    "data_subset_2['cat_x2_code'].unique()"
   ]
  },
  {
   "cell_type": "code",
   "execution_count": 95,
   "id": "c4367d7f",
   "metadata": {},
   "outputs": [
    {
     "name": "stdout",
     "output_type": "stream",
     "text": [
      "cat_x2_code\n",
      "0     1304\n",
      "1     1707\n",
      "2     1655\n",
      "3        8\n",
      "4     6299\n",
      "5      803\n",
      "6      133\n",
      "7      327\n",
      "8      949\n",
      "9      720\n",
      "10     309\n",
      "11    1048\n",
      "12     705\n",
      "13    1421\n",
      "14     706\n",
      "15      50\n",
      "16      41\n",
      "17    6230\n",
      "18     307\n",
      "19    1566\n",
      "20    1049\n",
      "21     164\n",
      "22    1150\n",
      "23     921\n",
      "24     673\n",
      "25     475\n",
      "26     980\n",
      "27     548\n",
      "28     519\n",
      "29     517\n",
      "30    2174\n",
      "31      12\n",
      "32     386\n",
      "Name: index, dtype: int64\n"
     ]
    }
   ],
   "source": [
    "data_subset_2_cat_x2_agg = data_subset_2.groupby(by=['cat_x2_code']).count()['index']\n",
    "print(data_subset_2_cat_x2_agg)"
   ]
  },
  {
   "cell_type": "markdown",
   "id": "7bc1c9ad",
   "metadata": {},
   "source": [
    "Get the data in the format ready for fasttext too"
   ]
  },
  {
   "cell_type": "code",
   "execution_count": 96,
   "id": "cbbea61a",
   "metadata": {},
   "outputs": [],
   "source": [
    "data_subset_2[\"fastText_label\"] = '__label__' + data_subset[\"cat_x2_code\"].astype(str) "
   ]
  },
  {
   "cell_type": "markdown",
   "id": "c94ea99e",
   "metadata": {},
   "source": [
    "We have our data in a format that we like now, but for the training, we can select a few columns for this."
   ]
  },
  {
   "cell_type": "code",
   "execution_count": 97,
   "id": "5270a71a",
   "metadata": {},
   "outputs": [
    {
     "data": {
      "text/html": [
       "<div>\n",
       "<style scoped>\n",
       "    .dataframe tbody tr th:only-of-type {\n",
       "        vertical-align: middle;\n",
       "    }\n",
       "\n",
       "    .dataframe tbody tr th {\n",
       "        vertical-align: top;\n",
       "    }\n",
       "\n",
       "    .dataframe thead th {\n",
       "        text-align: right;\n",
       "    }\n",
       "</style>\n",
       "<table border=\"1\" class=\"dataframe\">\n",
       "  <thead>\n",
       "    <tr style=\"text-align: right;\">\n",
       "      <th></th>\n",
       "      <th>index</th>\n",
       "      <th>category</th>\n",
       "      <th>description</th>\n",
       "      <th>title</th>\n",
       "      <th>cnt_cats</th>\n",
       "      <th>cnt_desc</th>\n",
       "      <th>cat_x2</th>\n",
       "      <th>description_str</th>\n",
       "      <th>cat_x2_code</th>\n",
       "      <th>description_str_token</th>\n",
       "      <th>...</th>\n",
       "      <th>91</th>\n",
       "      <th>92</th>\n",
       "      <th>93</th>\n",
       "      <th>94</th>\n",
       "      <th>95</th>\n",
       "      <th>96</th>\n",
       "      <th>97</th>\n",
       "      <th>98</th>\n",
       "      <th>99</th>\n",
       "      <th>fastText_label</th>\n",
       "    </tr>\n",
       "  </thead>\n",
       "  <tbody>\n",
       "    <tr>\n",
       "      <th>0</th>\n",
       "      <td>0</td>\n",
       "      <td>[Books, Children's Books, Growing Up &amp;amp; Fac...</td>\n",
       "      <td>[PreSchool-Grade 2-When Katie's water phobia t...</td>\n",
       "      <td>katie catz makes a splash good sports</td>\n",
       "      <td>3</td>\n",
       "      <td>11</td>\n",
       "      <td>Children's Books</td>\n",
       "      <td>preschoolgrade when katies water phobia threat...</td>\n",
       "      <td>4</td>\n",
       "      <td>[preschoolgrade, katie, water, phobia, threate...</td>\n",
       "      <td>...</td>\n",
       "      <td>0.094679</td>\n",
       "      <td>0.004304</td>\n",
       "      <td>-0.177133</td>\n",
       "      <td>0.011717</td>\n",
       "      <td>0.322096</td>\n",
       "      <td>0.627953</td>\n",
       "      <td>0.897022</td>\n",
       "      <td>-0.028915</td>\n",
       "      <td>-0.045787</td>\n",
       "      <td>__label__4</td>\n",
       "    </tr>\n",
       "    <tr>\n",
       "      <th>1</th>\n",
       "      <td>1</td>\n",
       "      <td>[Books, Biographies &amp; Memoirs, Historical]</td>\n",
       "      <td>[This brief biography focuses more on the poli...</td>\n",
       "      <td>andrew jackson</td>\n",
       "      <td>3</td>\n",
       "      <td>2</td>\n",
       "      <td>Biographies &amp; Memoirs</td>\n",
       "      <td>this brief biography focuses more on the polit...</td>\n",
       "      <td>1</td>\n",
       "      <td>[brief, biography, focuses, political, career,...</td>\n",
       "      <td>...</td>\n",
       "      <td>-0.490044</td>\n",
       "      <td>0.204726</td>\n",
       "      <td>-0.386321</td>\n",
       "      <td>0.275710</td>\n",
       "      <td>0.116053</td>\n",
       "      <td>0.806538</td>\n",
       "      <td>0.755876</td>\n",
       "      <td>0.783512</td>\n",
       "      <td>0.026197</td>\n",
       "      <td>__label__1</td>\n",
       "    </tr>\n",
       "    <tr>\n",
       "      <th>2</th>\n",
       "      <td>2</td>\n",
       "      <td>[Books, Literature &amp;amp; Fiction, Genre Fiction]</td>\n",
       "      <td>[Racial and class conflicts simmer in this lac...</td>\n",
       "      <td>the water dancers a novel</td>\n",
       "      <td>3</td>\n",
       "      <td>4</td>\n",
       "      <td>Literature &amp; Fiction</td>\n",
       "      <td>racial and class conflicts simmer in this lack...</td>\n",
       "      <td>17</td>\n",
       "      <td>[racial, class, conflicts, summer, lackluster,...</td>\n",
       "      <td>...</td>\n",
       "      <td>-0.125232</td>\n",
       "      <td>-0.167305</td>\n",
       "      <td>-0.067108</td>\n",
       "      <td>0.105600</td>\n",
       "      <td>0.187292</td>\n",
       "      <td>0.311070</td>\n",
       "      <td>0.562679</td>\n",
       "      <td>0.393484</td>\n",
       "      <td>-0.067186</td>\n",
       "      <td>__label__17</td>\n",
       "    </tr>\n",
       "    <tr>\n",
       "      <th>3</th>\n",
       "      <td>3</td>\n",
       "      <td>[Books, Christian Books &amp;amp; Bibles, Catholic...</td>\n",
       "      <td>[Spong, an Episcopal bishop and best-selling a...</td>\n",
       "      <td>born of a woman a bishop rethinks the birth of...</td>\n",
       "      <td>3</td>\n",
       "      <td>3</td>\n",
       "      <td>Christian Books &amp; Bibles</td>\n",
       "      <td>spong an episcopal bishop and bestselling auth...</td>\n",
       "      <td>5</td>\n",
       "      <td>[song, episcopal, bishop, bestselling, author,...</td>\n",
       "      <td>...</td>\n",
       "      <td>-0.347520</td>\n",
       "      <td>-0.006677</td>\n",
       "      <td>-0.645979</td>\n",
       "      <td>0.118257</td>\n",
       "      <td>-0.173144</td>\n",
       "      <td>1.493761</td>\n",
       "      <td>1.180336</td>\n",
       "      <td>0.389957</td>\n",
       "      <td>-0.333253</td>\n",
       "      <td>__label__5</td>\n",
       "    </tr>\n",
       "    <tr>\n",
       "      <th>4</th>\n",
       "      <td>4</td>\n",
       "      <td>[Books, History, World]</td>\n",
       "      <td>[Re-creates the world from the second to the f...</td>\n",
       "      <td>pagans and christians</td>\n",
       "      <td>3</td>\n",
       "      <td>3</td>\n",
       "      <td>History</td>\n",
       "      <td>recreates the world from the second to the fou...</td>\n",
       "      <td>13</td>\n",
       "      <td>[recreates, world, second, fourth, century, ad...</td>\n",
       "      <td>...</td>\n",
       "      <td>-0.178707</td>\n",
       "      <td>-0.384332</td>\n",
       "      <td>-0.415937</td>\n",
       "      <td>0.001316</td>\n",
       "      <td>-0.135236</td>\n",
       "      <td>0.792936</td>\n",
       "      <td>0.468831</td>\n",
       "      <td>1.013387</td>\n",
       "      <td>0.271096</td>\n",
       "      <td>__label__13</td>\n",
       "    </tr>\n",
       "  </tbody>\n",
       "</table>\n",
       "<p>5 rows × 112 columns</p>\n",
       "</div>"
      ],
      "text/plain": [
       "   index                                           category  \\\n",
       "0      0  [Books, Children's Books, Growing Up &amp; Fac...   \n",
       "1      1         [Books, Biographies & Memoirs, Historical]   \n",
       "2      2   [Books, Literature &amp; Fiction, Genre Fiction]   \n",
       "3      3  [Books, Christian Books &amp; Bibles, Catholic...   \n",
       "4      4                            [Books, History, World]   \n",
       "\n",
       "                                         description  \\\n",
       "0  [PreSchool-Grade 2-When Katie's water phobia t...   \n",
       "1  [This brief biography focuses more on the poli...   \n",
       "2  [Racial and class conflicts simmer in this lac...   \n",
       "3  [Spong, an Episcopal bishop and best-selling a...   \n",
       "4  [Re-creates the world from the second to the f...   \n",
       "\n",
       "                                               title  cnt_cats  cnt_desc  \\\n",
       "0              katie catz makes a splash good sports         3        11   \n",
       "1                                     andrew jackson         3         2   \n",
       "2                          the water dancers a novel         3         4   \n",
       "3  born of a woman a bishop rethinks the birth of...         3         3   \n",
       "4                              pagans and christians         3         3   \n",
       "\n",
       "                     cat_x2  \\\n",
       "0          Children's Books   \n",
       "1     Biographies & Memoirs   \n",
       "2      Literature & Fiction   \n",
       "3  Christian Books & Bibles   \n",
       "4                   History   \n",
       "\n",
       "                                     description_str  cat_x2_code  \\\n",
       "0  preschoolgrade when katies water phobia threat...            4   \n",
       "1  this brief biography focuses more on the polit...            1   \n",
       "2  racial and class conflicts simmer in this lack...           17   \n",
       "3  spong an episcopal bishop and bestselling auth...            5   \n",
       "4  recreates the world from the second to the fou...           13   \n",
       "\n",
       "                               description_str_token  ...        91        92  \\\n",
       "0  [preschoolgrade, katie, water, phobia, threate...  ...  0.094679  0.004304   \n",
       "1  [brief, biography, focuses, political, career,...  ... -0.490044  0.204726   \n",
       "2  [racial, class, conflicts, summer, lackluster,...  ... -0.125232 -0.167305   \n",
       "3  [song, episcopal, bishop, bestselling, author,...  ... -0.347520 -0.006677   \n",
       "4  [recreates, world, second, fourth, century, ad...  ... -0.178707 -0.384332   \n",
       "\n",
       "         93        94        95        96        97        98        99  \\\n",
       "0 -0.177133  0.011717  0.322096  0.627953  0.897022 -0.028915 -0.045787   \n",
       "1 -0.386321  0.275710  0.116053  0.806538  0.755876  0.783512  0.026197   \n",
       "2 -0.067108  0.105600  0.187292  0.311070  0.562679  0.393484 -0.067186   \n",
       "3 -0.645979  0.118257 -0.173144  1.493761  1.180336  0.389957 -0.333253   \n",
       "4 -0.415937  0.001316 -0.135236  0.792936  0.468831  1.013387  0.271096   \n",
       "\n",
       "   fastText_label  \n",
       "0      __label__4  \n",
       "1      __label__1  \n",
       "2     __label__17  \n",
       "3      __label__5  \n",
       "4     __label__13  \n",
       "\n",
       "[5 rows x 112 columns]"
      ]
     },
     "execution_count": 97,
     "metadata": {},
     "output_type": "execute_result"
    }
   ],
   "source": [
    "data_subset_2.head()"
   ]
  },
  {
   "cell_type": "markdown",
   "id": "fc1f2567",
   "metadata": {},
   "source": [
    "Might be better to pick the columns, rather than drop so many, lets look at the head"
   ]
  },
  {
   "cell_type": "code",
   "execution_count": 98,
   "id": "4a1a645a",
   "metadata": {},
   "outputs": [],
   "source": [
    "#create a new dataframe before saving the data as CSV\n",
    "df_gensim_xgb_sampleweight = data_subset_2.drop(columns=['index','category','description','title','cnt_cats','cnt_desc','cat_x2','description_str','description_str_token','title_token','fastText_label'])\n",
    "df_fasttext = data_subset_2[['fastText_label','description_str_token', 'title_token']]"
   ]
  },
  {
   "cell_type": "code",
   "execution_count": 99,
   "id": "29b0d85e",
   "metadata": {},
   "outputs": [
    {
     "name": "stderr",
     "output_type": "stream",
     "text": [
      "/home/ec2-user/anaconda3/envs/python3/lib/python3.6/site-packages/ipykernel/__main__.py:1: SettingWithCopyWarning: \n",
      "A value is trying to be set on a copy of a slice from a DataFrame.\n",
      "Try using .loc[row_indexer,col_indexer] = value instead\n",
      "\n",
      "See the caveats in the documentation: https://pandas.pydata.org/pandas-docs/stable/user_guide/indexing.html#returning-a-view-versus-a-copy\n",
      "  if __name__ == '__main__':\n"
     ]
    }
   ],
   "source": [
    "df_fasttext['token_sentence'] = df_fasttext['description_str_token'] + df_fasttext['title_token']"
   ]
  },
  {
   "cell_type": "code",
   "execution_count": 100,
   "id": "3b91ffc2",
   "metadata": {},
   "outputs": [
    {
     "name": "stderr",
     "output_type": "stream",
     "text": [
      "/home/ec2-user/anaconda3/envs/python3/lib/python3.6/site-packages/ipykernel/__main__.py:1: SettingWithCopyWarning: \n",
      "A value is trying to be set on a copy of a slice from a DataFrame.\n",
      "Try using .loc[row_indexer,col_indexer] = value instead\n",
      "\n",
      "See the caveats in the documentation: https://pandas.pydata.org/pandas-docs/stable/user_guide/indexing.html#returning-a-view-versus-a-copy\n",
      "  if __name__ == '__main__':\n"
     ]
    }
   ],
   "source": [
    "df_fasttext['untoken'] = [' '.join(map(str, l)) for l in df_fasttext['token_sentence']]"
   ]
  },
  {
   "cell_type": "code",
   "execution_count": 101,
   "id": "317363ca",
   "metadata": {},
   "outputs": [
    {
     "name": "stderr",
     "output_type": "stream",
     "text": [
      "/home/ec2-user/anaconda3/envs/python3/lib/python3.6/site-packages/ipykernel/__main__.py:1: SettingWithCopyWarning: \n",
      "A value is trying to be set on a copy of a slice from a DataFrame.\n",
      "Try using .loc[row_indexer,col_indexer] = value instead\n",
      "\n",
      "See the caveats in the documentation: https://pandas.pydata.org/pandas-docs/stable/user_guide/indexing.html#returning-a-view-versus-a-copy\n",
      "  if __name__ == '__main__':\n"
     ]
    }
   ],
   "source": [
    "df_fasttext['full'] = df_fasttext['fastText_label'] + ' ' + df_fasttext['untoken'] "
   ]
  },
  {
   "cell_type": "code",
   "execution_count": 102,
   "id": "670f9d51",
   "metadata": {},
   "outputs": [
    {
     "data": {
      "text/html": [
       "<div>\n",
       "<style scoped>\n",
       "    .dataframe tbody tr th:only-of-type {\n",
       "        vertical-align: middle;\n",
       "    }\n",
       "\n",
       "    .dataframe tbody tr th {\n",
       "        vertical-align: top;\n",
       "    }\n",
       "\n",
       "    .dataframe thead th {\n",
       "        text-align: right;\n",
       "    }\n",
       "</style>\n",
       "<table border=\"1\" class=\"dataframe\">\n",
       "  <thead>\n",
       "    <tr style=\"text-align: right;\">\n",
       "      <th></th>\n",
       "      <th>fastText_label</th>\n",
       "      <th>description_str_token</th>\n",
       "      <th>title_token</th>\n",
       "      <th>token_sentence</th>\n",
       "      <th>untoken</th>\n",
       "      <th>full</th>\n",
       "    </tr>\n",
       "  </thead>\n",
       "  <tbody>\n",
       "    <tr>\n",
       "      <th>0</th>\n",
       "      <td>__label__4</td>\n",
       "      <td>[preschoolgrade, katie, water, phobia, threate...</td>\n",
       "      <td>[katie, cat, makes, splash, good, sports]</td>\n",
       "      <td>[preschoolgrade, katie, water, phobia, threate...</td>\n",
       "      <td>preschoolgrade katie water phobia threatens ex...</td>\n",
       "      <td>__label__4 preschoolgrade katie water phobia t...</td>\n",
       "    </tr>\n",
       "    <tr>\n",
       "      <th>1</th>\n",
       "      <td>__label__1</td>\n",
       "      <td>[brief, biography, focuses, political, career,...</td>\n",
       "      <td>[andrew, jackson]</td>\n",
       "      <td>[brief, biography, focuses, political, career,...</td>\n",
       "      <td>brief biography focuses political career andre...</td>\n",
       "      <td>__label__1 brief biography focuses political c...</td>\n",
       "    </tr>\n",
       "    <tr>\n",
       "      <th>2</th>\n",
       "      <td>__label__17</td>\n",
       "      <td>[racial, class, conflicts, summer, lackluster,...</td>\n",
       "      <td>[water, dancers, novel]</td>\n",
       "      <td>[racial, class, conflicts, summer, lackluster,...</td>\n",
       "      <td>racial class conflicts summer lackluster first...</td>\n",
       "      <td>__label__17 racial class conflicts summer lack...</td>\n",
       "    </tr>\n",
       "    <tr>\n",
       "      <th>3</th>\n",
       "      <td>__label__5</td>\n",
       "      <td>[song, episcopal, bishop, bestselling, author,...</td>\n",
       "      <td>[born, woman, bishop, rethink, birth, jesus]</td>\n",
       "      <td>[song, episcopal, bishop, bestselling, author,...</td>\n",
       "      <td>song episcopal bishop bestselling author rescu...</td>\n",
       "      <td>__label__5 song episcopal bishop bestselling a...</td>\n",
       "    </tr>\n",
       "    <tr>\n",
       "      <th>4</th>\n",
       "      <td>__label__13</td>\n",
       "      <td>[recreates, world, second, fourth, century, ad...</td>\n",
       "      <td>[pagans, christians]</td>\n",
       "      <td>[recreates, world, second, fourth, century, ad...</td>\n",
       "      <td>recreates world second fourth century ad graec...</td>\n",
       "      <td>__label__13 recreates world second fourth cent...</td>\n",
       "    </tr>\n",
       "  </tbody>\n",
       "</table>\n",
       "</div>"
      ],
      "text/plain": [
       "  fastText_label                              description_str_token  \\\n",
       "0     __label__4  [preschoolgrade, katie, water, phobia, threate...   \n",
       "1     __label__1  [brief, biography, focuses, political, career,...   \n",
       "2    __label__17  [racial, class, conflicts, summer, lackluster,...   \n",
       "3     __label__5  [song, episcopal, bishop, bestselling, author,...   \n",
       "4    __label__13  [recreates, world, second, fourth, century, ad...   \n",
       "\n",
       "                                    title_token  \\\n",
       "0     [katie, cat, makes, splash, good, sports]   \n",
       "1                             [andrew, jackson]   \n",
       "2                       [water, dancers, novel]   \n",
       "3  [born, woman, bishop, rethink, birth, jesus]   \n",
       "4                          [pagans, christians]   \n",
       "\n",
       "                                      token_sentence  \\\n",
       "0  [preschoolgrade, katie, water, phobia, threate...   \n",
       "1  [brief, biography, focuses, political, career,...   \n",
       "2  [racial, class, conflicts, summer, lackluster,...   \n",
       "3  [song, episcopal, bishop, bestselling, author,...   \n",
       "4  [recreates, world, second, fourth, century, ad...   \n",
       "\n",
       "                                             untoken  \\\n",
       "0  preschoolgrade katie water phobia threatens ex...   \n",
       "1  brief biography focuses political career andre...   \n",
       "2  racial class conflicts summer lackluster first...   \n",
       "3  song episcopal bishop bestselling author rescu...   \n",
       "4  recreates world second fourth century ad graec...   \n",
       "\n",
       "                                                full  \n",
       "0  __label__4 preschoolgrade katie water phobia t...  \n",
       "1  __label__1 brief biography focuses political c...  \n",
       "2  __label__17 racial class conflicts summer lack...  \n",
       "3  __label__5 song episcopal bishop bestselling a...  \n",
       "4  __label__13 recreates world second fourth cent...  "
      ]
     },
     "execution_count": 102,
     "metadata": {},
     "output_type": "execute_result"
    }
   ],
   "source": [
    "df_fasttext.head()"
   ]
  },
  {
   "cell_type": "code",
   "execution_count": 103,
   "id": "5780898e",
   "metadata": {},
   "outputs": [
    {
     "data": {
      "text/html": [
       "<div>\n",
       "<style scoped>\n",
       "    .dataframe tbody tr th:only-of-type {\n",
       "        vertical-align: middle;\n",
       "    }\n",
       "\n",
       "    .dataframe tbody tr th {\n",
       "        vertical-align: top;\n",
       "    }\n",
       "\n",
       "    .dataframe thead th {\n",
       "        text-align: right;\n",
       "    }\n",
       "</style>\n",
       "<table border=\"1\" class=\"dataframe\">\n",
       "  <thead>\n",
       "    <tr style=\"text-align: right;\">\n",
       "      <th></th>\n",
       "      <th>cat_x2_code</th>\n",
       "      <th>0</th>\n",
       "      <th>1</th>\n",
       "      <th>2</th>\n",
       "      <th>3</th>\n",
       "      <th>4</th>\n",
       "      <th>5</th>\n",
       "      <th>6</th>\n",
       "      <th>7</th>\n",
       "      <th>8</th>\n",
       "      <th>...</th>\n",
       "      <th>90</th>\n",
       "      <th>91</th>\n",
       "      <th>92</th>\n",
       "      <th>93</th>\n",
       "      <th>94</th>\n",
       "      <th>95</th>\n",
       "      <th>96</th>\n",
       "      <th>97</th>\n",
       "      <th>98</th>\n",
       "      <th>99</th>\n",
       "    </tr>\n",
       "  </thead>\n",
       "  <tbody>\n",
       "    <tr>\n",
       "      <th>0</th>\n",
       "      <td>4</td>\n",
       "      <td>-0.113900</td>\n",
       "      <td>-0.178848</td>\n",
       "      <td>-0.045339</td>\n",
       "      <td>0.747972</td>\n",
       "      <td>-0.662009</td>\n",
       "      <td>0.299854</td>\n",
       "      <td>0.668346</td>\n",
       "      <td>-0.677090</td>\n",
       "      <td>-0.002765</td>\n",
       "      <td>...</td>\n",
       "      <td>0.117735</td>\n",
       "      <td>0.094679</td>\n",
       "      <td>0.004304</td>\n",
       "      <td>-0.177133</td>\n",
       "      <td>0.011717</td>\n",
       "      <td>0.322096</td>\n",
       "      <td>0.627953</td>\n",
       "      <td>0.897022</td>\n",
       "      <td>-0.028915</td>\n",
       "      <td>-0.045787</td>\n",
       "    </tr>\n",
       "    <tr>\n",
       "      <th>1</th>\n",
       "      <td>1</td>\n",
       "      <td>-1.901171</td>\n",
       "      <td>0.966746</td>\n",
       "      <td>0.800008</td>\n",
       "      <td>1.095033</td>\n",
       "      <td>0.101101</td>\n",
       "      <td>0.258321</td>\n",
       "      <td>-0.849448</td>\n",
       "      <td>-0.399141</td>\n",
       "      <td>-0.033316</td>\n",
       "      <td>...</td>\n",
       "      <td>0.200965</td>\n",
       "      <td>-0.490044</td>\n",
       "      <td>0.204726</td>\n",
       "      <td>-0.386321</td>\n",
       "      <td>0.275710</td>\n",
       "      <td>0.116053</td>\n",
       "      <td>0.806538</td>\n",
       "      <td>0.755876</td>\n",
       "      <td>0.783512</td>\n",
       "      <td>0.026197</td>\n",
       "    </tr>\n",
       "    <tr>\n",
       "      <th>2</th>\n",
       "      <td>17</td>\n",
       "      <td>0.245467</td>\n",
       "      <td>1.100971</td>\n",
       "      <td>-0.250720</td>\n",
       "      <td>1.757939</td>\n",
       "      <td>-0.022062</td>\n",
       "      <td>0.596411</td>\n",
       "      <td>1.154969</td>\n",
       "      <td>0.210083</td>\n",
       "      <td>-1.066611</td>\n",
       "      <td>...</td>\n",
       "      <td>0.082629</td>\n",
       "      <td>-0.125232</td>\n",
       "      <td>-0.167305</td>\n",
       "      <td>-0.067108</td>\n",
       "      <td>0.105600</td>\n",
       "      <td>0.187292</td>\n",
       "      <td>0.311070</td>\n",
       "      <td>0.562679</td>\n",
       "      <td>0.393484</td>\n",
       "      <td>-0.067186</td>\n",
       "    </tr>\n",
       "    <tr>\n",
       "      <th>3</th>\n",
       "      <td>5</td>\n",
       "      <td>0.494056</td>\n",
       "      <td>-0.334348</td>\n",
       "      <td>0.303605</td>\n",
       "      <td>0.427710</td>\n",
       "      <td>-0.208441</td>\n",
       "      <td>0.157509</td>\n",
       "      <td>-0.659632</td>\n",
       "      <td>0.802170</td>\n",
       "      <td>-0.178103</td>\n",
       "      <td>...</td>\n",
       "      <td>0.207267</td>\n",
       "      <td>-0.347520</td>\n",
       "      <td>-0.006677</td>\n",
       "      <td>-0.645979</td>\n",
       "      <td>0.118257</td>\n",
       "      <td>-0.173144</td>\n",
       "      <td>1.493761</td>\n",
       "      <td>1.180336</td>\n",
       "      <td>0.389957</td>\n",
       "      <td>-0.333253</td>\n",
       "    </tr>\n",
       "    <tr>\n",
       "      <th>4</th>\n",
       "      <td>13</td>\n",
       "      <td>0.423756</td>\n",
       "      <td>-0.589404</td>\n",
       "      <td>1.486319</td>\n",
       "      <td>0.376148</td>\n",
       "      <td>-1.256931</td>\n",
       "      <td>0.041691</td>\n",
       "      <td>-0.721385</td>\n",
       "      <td>0.905591</td>\n",
       "      <td>-1.418775</td>\n",
       "      <td>...</td>\n",
       "      <td>0.158757</td>\n",
       "      <td>-0.178707</td>\n",
       "      <td>-0.384332</td>\n",
       "      <td>-0.415937</td>\n",
       "      <td>0.001316</td>\n",
       "      <td>-0.135236</td>\n",
       "      <td>0.792936</td>\n",
       "      <td>0.468831</td>\n",
       "      <td>1.013387</td>\n",
       "      <td>0.271096</td>\n",
       "    </tr>\n",
       "  </tbody>\n",
       "</table>\n",
       "<p>5 rows × 101 columns</p>\n",
       "</div>"
      ],
      "text/plain": [
       "   cat_x2_code         0         1         2         3         4         5  \\\n",
       "0            4 -0.113900 -0.178848 -0.045339  0.747972 -0.662009  0.299854   \n",
       "1            1 -1.901171  0.966746  0.800008  1.095033  0.101101  0.258321   \n",
       "2           17  0.245467  1.100971 -0.250720  1.757939 -0.022062  0.596411   \n",
       "3            5  0.494056 -0.334348  0.303605  0.427710 -0.208441  0.157509   \n",
       "4           13  0.423756 -0.589404  1.486319  0.376148 -1.256931  0.041691   \n",
       "\n",
       "          6         7         8  ...        90        91        92        93  \\\n",
       "0  0.668346 -0.677090 -0.002765  ...  0.117735  0.094679  0.004304 -0.177133   \n",
       "1 -0.849448 -0.399141 -0.033316  ...  0.200965 -0.490044  0.204726 -0.386321   \n",
       "2  1.154969  0.210083 -1.066611  ...  0.082629 -0.125232 -0.167305 -0.067108   \n",
       "3 -0.659632  0.802170 -0.178103  ...  0.207267 -0.347520 -0.006677 -0.645979   \n",
       "4 -0.721385  0.905591 -1.418775  ...  0.158757 -0.178707 -0.384332 -0.415937   \n",
       "\n",
       "         94        95        96        97        98        99  \n",
       "0  0.011717  0.322096  0.627953  0.897022 -0.028915 -0.045787  \n",
       "1  0.275710  0.116053  0.806538  0.755876  0.783512  0.026197  \n",
       "2  0.105600  0.187292  0.311070  0.562679  0.393484 -0.067186  \n",
       "3  0.118257 -0.173144  1.493761  1.180336  0.389957 -0.333253  \n",
       "4  0.001316 -0.135236  0.792936  0.468831  1.013387  0.271096  \n",
       "\n",
       "[5 rows x 101 columns]"
      ]
     },
     "execution_count": 103,
     "metadata": {},
     "output_type": "execute_result"
    }
   ],
   "source": [
    "df_gensim_xgb_sampleweight.head()"
   ]
  },
  {
   "cell_type": "markdown",
   "id": "0b1eeb1a",
   "metadata": {},
   "source": [
    "### For this version of XGBoost, we need to supply 3 arguments to the model which are the features, labels and optionally the sample weight which is going to help improve the performance of the model as we have an imbalanced dataset"
   ]
  },
  {
   "cell_type": "code",
   "execution_count": 104,
   "id": "ad3b51af",
   "metadata": {},
   "outputs": [],
   "source": [
    "X = df_gensim_xgb_sampleweight.drop(['cat_x2_code'], axis=1).values\n",
    "y = df_gensim_xgb_sampleweight['cat_x2_code'].values\n"
   ]
  },
  {
   "cell_type": "code",
   "execution_count": 105,
   "id": "8272b232",
   "metadata": {},
   "outputs": [],
   "source": [
    "\n",
    "from sklearn.model_selection import train_test_split\n",
    "\n",
    "X_train, X_test, y_train, y_test = train_test_split(X, y, test_size=0.33, random_state=42, stratify=y)\n",
    "yX_train = np.column_stack((y_train, X_train))\n",
    "yX_test = np.column_stack((y_test, X_test))\n",
    "np.savetxt(\"book_gensim_train_v1.csv\", yX_train, delimiter=\",\", fmt='%0.3f')\n",
    "np.savetxt(\"book_gensim_test_v1.csv\", yX_test, delimiter=\",\", fmt='%0.3f')"
   ]
  },
  {
   "cell_type": "code",
   "execution_count": 106,
   "id": "a3cb4a21",
   "metadata": {},
   "outputs": [
    {
     "name": "stdout",
     "output_type": "stream",
     "text": [
      "(11833,)\n"
     ]
    }
   ],
   "source": [
    "print(y_test.shape)"
   ]
  },
  {
   "cell_type": "code",
   "execution_count": 107,
   "id": "cb4694dc",
   "metadata": {},
   "outputs": [],
   "source": [
    "# Upload the dataset to an S3 bucket\n",
    "input_train = sagemaker_session.upload_data(path='book_gensim_train_v1.csv', key_prefix='%s/data' % prefix_gensim)\n",
    "input_validation = sagemaker_session.upload_data(path='book_gensim_test_v1.csv', key_prefix='%s/data' % prefix_gensim)"
   ]
  },
  {
   "cell_type": "code",
   "execution_count": 108,
   "id": "1a2b1cf7",
   "metadata": {},
   "outputs": [],
   "source": [
    "#from sagemaker.inputs import TrainingInput\n",
    "\n",
    "train_data = sagemaker.inputs.TrainingInput(s3_data=input_train,content_type=\"csv\")\n",
    "validation_data = sagemaker.inputs.TrainingInput(s3_data=input_validation,content_type=\"csv\")"
   ]
  },
  {
   "cell_type": "markdown",
   "id": "4b1dccfa",
   "metadata": {},
   "source": [
    "In our training script, we have a parser that is expecting the hyper-parameters below."
   ]
  },
  {
   "cell_type": "code",
   "execution_count": 109,
   "id": "e419f00b",
   "metadata": {},
   "outputs": [],
   "source": [
    "hyperparams = {\n",
    "        \"n_estimators\": \"300\", \n",
    "        \"n_jobs\":\"4\",\n",
    "        \"max_depth\":\"10\",\n",
    "#        \"min_child_weight\": \"6\",\n",
    "        \"learning_rate\": \"0.1\", \n",
    "        \"objective\":'multi:softmax', \n",
    "#        \"reg_alpha\": \"10\",\n",
    "        \"gamma\": \"4\"\n",
    "}\n",
    "\n",
    "instance_type = \"ml.m5.2xlarge\""
   ]
  },
  {
   "cell_type": "markdown",
   "id": "6e56858f",
   "metadata": {},
   "source": [
    "Below is our estimator using the XGBoost framework and using our training script which is using another version of the XGB algorithm, not the SageMaker built-in algorithm."
   ]
  },
  {
   "cell_type": "code",
   "execution_count": 110,
   "id": "a896fba1",
   "metadata": {},
   "outputs": [],
   "source": [
    "# updated XGBoost to XGBClassifier https://sagemaker.readthedocs.io/en/stable/frameworks/xgboost/using_xgboost.html#train-a-model-with-open-source-xgboost\n",
    "from sagemaker import get_execution_role\n",
    "from sagemaker.xgboost.estimator import XGBoost\n",
    "\n",
    "role = get_execution_role()\n",
    "\n",
    "xgb_estimator = XGBoost(\n",
    "    entry_point=\"train.py\",\n",
    "    hyperparameters=hyperparams,\n",
    "    role=role,\n",
    "    instance_count=1,\n",
    "    instance_type='ml.m5.4xlarge',\n",
    "    framework_version=\"1.2-1\",\n",
    "    eval_metric=\"merror\",\n",
    ")"
   ]
  },
  {
   "cell_type": "code",
   "execution_count": 111,
   "id": "ad9cc6c0",
   "metadata": {},
   "outputs": [
    {
     "name": "stdout",
     "output_type": "stream",
     "text": [
      "2021-08-25 08:06:02 Starting - Starting the training job...\n",
      "2021-08-25 08:06:25 Starting - Launching requested ML instancesProfilerReport-1629878761: InProgress\n",
      "...\n",
      "2021-08-25 08:06:53 Starting - Preparing the instances for training......\n",
      "2021-08-25 08:07:54 Downloading - Downloading input data...\n",
      "2021-08-25 08:08:25 Training - Downloading the training image..\u001b[34m[2021-08-25 08:08:40.380 ip-10-0-241-122.eu-west-1.compute.internal:1 INFO utils.py:27] RULE_JOB_STOP_SIGNAL_FILENAME: None\u001b[0m\n",
      "\u001b[34mINFO:sagemaker-containers:Imported framework sagemaker_xgboost_container.training\u001b[0m\n",
      "\u001b[34mINFO:sagemaker-containers:No GPUs detected (normal if no gpus installed)\u001b[0m\n",
      "\u001b[34mINFO:sagemaker_xgboost_container.training:Invoking user training script.\u001b[0m\n",
      "\u001b[34mINFO:sagemaker-containers:Module train does not provide a setup.py. \u001b[0m\n",
      "\u001b[34mGenerating setup.py\u001b[0m\n",
      "\u001b[34mINFO:sagemaker-containers:Generating setup.cfg\u001b[0m\n",
      "\u001b[34mINFO:sagemaker-containers:Generating MANIFEST.in\u001b[0m\n",
      "\u001b[34mINFO:sagemaker-containers:Installing module with the following command:\u001b[0m\n",
      "\u001b[34m/miniconda3/bin/python3 -m pip install . \u001b[0m\n",
      "\u001b[34mProcessing /opt/ml/code\u001b[0m\n",
      "\u001b[34mBuilding wheels for collected packages: train\n",
      "  Building wheel for train (setup.py): started\n",
      "  Building wheel for train (setup.py): finished with status 'done'\n",
      "  Created wheel for train: filename=train-1.0.0-py2.py3-none-any.whl size=6445 sha256=181b02723d323e056db5e7f7e82cc308dd453f50fbc2816a1d616014598602df\n",
      "  Stored in directory: /home/model-server/tmp/pip-ephem-wheel-cache-200xs17x/wheels/3e/0f/51/2f1df833dd0412c1bc2f5ee56baac195b5be563353d111dca6\u001b[0m\n",
      "\u001b[34mSuccessfully built train\u001b[0m\n",
      "\u001b[34mInstalling collected packages: train\u001b[0m\n",
      "\u001b[34mSuccessfully installed train-1.0.0\u001b[0m\n",
      "\u001b[34mINFO:sagemaker-containers:No GPUs detected (normal if no gpus installed)\u001b[0m\n",
      "\u001b[34mINFO:sagemaker-containers:Invoking user script\n",
      "\u001b[0m\n",
      "\u001b[34mTraining Env:\n",
      "\u001b[0m\n",
      "\u001b[34m{\n",
      "    \"additional_framework_parameters\": {},\n",
      "    \"channel_input_dirs\": {\n",
      "        \"validation\": \"/opt/ml/input/data/validation\",\n",
      "        \"train\": \"/opt/ml/input/data/train\"\n",
      "    },\n",
      "    \"current_host\": \"algo-1\",\n",
      "    \"framework_module\": \"sagemaker_xgboost_container.training:main\",\n",
      "    \"hosts\": [\n",
      "        \"algo-1\"\n",
      "    ],\n",
      "    \"hyperparameters\": {\n",
      "        \"max_depth\": \"10\",\n",
      "        \"n_jobs\": \"4\",\n",
      "        \"n_estimators\": \"300\",\n",
      "        \"learning_rate\": \"0.1\",\n",
      "        \"gamma\": \"4\",\n",
      "        \"objective\": \"multi:softmax\"\n",
      "    },\n",
      "    \"input_config_dir\": \"/opt/ml/input/config\",\n",
      "    \"input_data_config\": {\n",
      "        \"validation\": {\n",
      "            \"ContentType\": \"csv\",\n",
      "            \"TrainingInputMode\": \"File\",\n",
      "            \"S3DistributionType\": \"FullyReplicated\",\n",
      "            \"RecordWrapperType\": \"None\"\n",
      "        },\n",
      "        \"train\": {\n",
      "            \"ContentType\": \"csv\",\n",
      "            \"TrainingInputMode\": \"File\",\n",
      "            \"S3DistributionType\": \"FullyReplicated\",\n",
      "            \"RecordWrapperType\": \"None\"\n",
      "        }\n",
      "    },\n",
      "    \"input_dir\": \"/opt/ml/input\",\n",
      "    \"is_master\": true,\n",
      "    \"job_name\": \"sagemaker-xgboost-2021-08-25-08-06-01-467\",\n",
      "    \"log_level\": 20,\n",
      "    \"master_hostname\": \"algo-1\",\n",
      "    \"model_dir\": \"/opt/ml/model\",\n",
      "    \"module_dir\": \"s3://sagemaker-eu-west-1-367410344098/sagemaker-xgboost-2021-08-25-08-06-01-467/source/sourcedir.tar.gz\",\n",
      "    \"module_name\": \"train\",\n",
      "    \"network_interface_name\": \"eth0\",\n",
      "    \"num_cpus\": 16,\n",
      "    \"num_gpus\": 0,\n",
      "    \"output_data_dir\": \"/opt/ml/output/data\",\n",
      "    \"output_dir\": \"/opt/ml/output\",\n",
      "    \"output_intermediate_dir\": \"/opt/ml/output/intermediate\",\n",
      "    \"resource_config\": {\n",
      "        \"current_host\": \"algo-1\",\n",
      "        \"hosts\": [\n",
      "            \"algo-1\"\n",
      "        ],\n",
      "        \"network_interface_name\": \"eth0\"\n",
      "    },\n",
      "    \"user_entry_point\": \"train.py\"\u001b[0m\n",
      "\u001b[34m}\n",
      "\u001b[0m\n",
      "\u001b[34mEnvironment variables:\n",
      "\u001b[0m\n",
      "\u001b[34mSM_HOSTS=[\"algo-1\"]\u001b[0m\n",
      "\u001b[34mSM_NETWORK_INTERFACE_NAME=eth0\u001b[0m\n",
      "\u001b[34mSM_HPS={\"gamma\":\"4\",\"learning_rate\":\"0.1\",\"max_depth\":\"10\",\"n_estimators\":\"300\",\"n_jobs\":\"4\",\"objective\":\"multi:softmax\"}\u001b[0m\n",
      "\u001b[34mSM_USER_ENTRY_POINT=train.py\u001b[0m\n",
      "\u001b[34mSM_FRAMEWORK_PARAMS={}\u001b[0m\n",
      "\u001b[34mSM_RESOURCE_CONFIG={\"current_host\":\"algo-1\",\"hosts\":[\"algo-1\"],\"network_interface_name\":\"eth0\"}\u001b[0m\n",
      "\u001b[34mSM_INPUT_DATA_CONFIG={\"train\":{\"ContentType\":\"csv\",\"RecordWrapperType\":\"None\",\"S3DistributionType\":\"FullyReplicated\",\"TrainingInputMode\":\"File\"},\"validation\":{\"ContentType\":\"csv\",\"RecordWrapperType\":\"None\",\"S3DistributionType\":\"FullyReplicated\",\"TrainingInputMode\":\"File\"}}\u001b[0m\n",
      "\u001b[34mSM_OUTPUT_DATA_DIR=/opt/ml/output/data\u001b[0m\n",
      "\u001b[34mSM_CHANNELS=[\"train\",\"validation\"]\u001b[0m\n",
      "\u001b[34mSM_CURRENT_HOST=algo-1\u001b[0m\n",
      "\u001b[34mSM_MODULE_NAME=train\u001b[0m\n",
      "\u001b[34mSM_LOG_LEVEL=20\u001b[0m\n",
      "\u001b[34mSM_FRAMEWORK_MODULE=sagemaker_xgboost_container.training:main\u001b[0m\n",
      "\u001b[34mSM_INPUT_DIR=/opt/ml/input\u001b[0m\n",
      "\u001b[34mSM_INPUT_CONFIG_DIR=/opt/ml/input/config\u001b[0m\n",
      "\u001b[34mSM_OUTPUT_DIR=/opt/ml/output\u001b[0m\n",
      "\u001b[34mSM_NUM_CPUS=16\u001b[0m\n",
      "\u001b[34mSM_NUM_GPUS=0\u001b[0m\n",
      "\u001b[34mSM_MODEL_DIR=/opt/ml/model\u001b[0m\n",
      "\u001b[34mSM_MODULE_DIR=s3://sagemaker-eu-west-1-367410344098/sagemaker-xgboost-2021-08-25-08-06-01-467/source/sourcedir.tar.gz\u001b[0m\n",
      "\u001b[34mSM_TRAINING_ENV={\"additional_framework_parameters\":{},\"channel_input_dirs\":{\"train\":\"/opt/ml/input/data/train\",\"validation\":\"/opt/ml/input/data/validation\"},\"current_host\":\"algo-1\",\"framework_module\":\"sagemaker_xgboost_container.training:main\",\"hosts\":[\"algo-1\"],\"hyperparameters\":{\"gamma\":\"4\",\"learning_rate\":\"0.1\",\"max_depth\":\"10\",\"n_estimators\":\"300\",\"n_jobs\":\"4\",\"objective\":\"multi:softmax\"},\"input_config_dir\":\"/opt/ml/input/config\",\"input_data_config\":{\"train\":{\"ContentType\":\"csv\",\"RecordWrapperType\":\"None\",\"S3DistributionType\":\"FullyReplicated\",\"TrainingInputMode\":\"File\"},\"validation\":{\"ContentType\":\"csv\",\"RecordWrapperType\":\"None\",\"S3DistributionType\":\"FullyReplicated\",\"TrainingInputMode\":\"File\"}},\"input_dir\":\"/opt/ml/input\",\"is_master\":true,\"job_name\":\"sagemaker-xgboost-2021-08-25-08-06-01-467\",\"log_level\":20,\"master_hostname\":\"algo-1\",\"model_dir\":\"/opt/ml/model\",\"module_dir\":\"s3://sagemaker-eu-west-1-367410344098/sagemaker-xgboost-2021-08-25-08-06-01-467/source/sourcedir.tar.gz\",\"module_name\":\"train\",\"network_interface_name\":\"eth0\",\"num_cpus\":16,\"num_gpus\":0,\"output_data_dir\":\"/opt/ml/output/data\",\"output_dir\":\"/opt/ml/output\",\"output_intermediate_dir\":\"/opt/ml/output/intermediate\",\"resource_config\":{\"current_host\":\"algo-1\",\"hosts\":[\"algo-1\"],\"network_interface_name\":\"eth0\"},\"user_entry_point\":\"train.py\"}\u001b[0m\n",
      "\u001b[34mSM_USER_ARGS=[\"--gamma\",\"4\",\"--learning_rate\",\"0.1\",\"--max_depth\",\"10\",\"--n_estimators\",\"300\",\"--n_jobs\",\"4\",\"--objective\",\"multi:softmax\"]\u001b[0m\n",
      "\u001b[34mSM_OUTPUT_INTERMEDIATE_DIR=/opt/ml/output/intermediate\u001b[0m\n",
      "\u001b[34mSM_CHANNEL_VALIDATION=/opt/ml/input/data/validation\u001b[0m\n",
      "\u001b[34mSM_CHANNEL_TRAIN=/opt/ml/input/data/train\u001b[0m\n",
      "\u001b[34mSM_HP_MAX_DEPTH=10\u001b[0m\n",
      "\u001b[34mSM_HP_N_JOBS=4\u001b[0m\n",
      "\u001b[34mSM_HP_N_ESTIMATORS=300\u001b[0m\n",
      "\u001b[34mSM_HP_LEARNING_RATE=0.1\u001b[0m\n",
      "\u001b[34mSM_HP_GAMMA=4\u001b[0m\n",
      "\u001b[34mSM_HP_OBJECTIVE=multi:softmax\u001b[0m\n",
      "\u001b[34mPYTHONPATH=/miniconda3/bin:/:/miniconda3/lib/python/site-packages/xgboost/dmlc-core/tracker:/miniconda3/lib/python37.zip:/miniconda3/lib/python3.7:/miniconda3/lib/python3.7/lib-dynload:/miniconda3/lib/python3.7/site-packages\n",
      "\u001b[0m\n",
      "\u001b[34mInvoking script with the following command:\n",
      "\u001b[0m\n",
      "\u001b[34m/miniconda3/bin/python3 -m train --gamma 4 --learning_rate 0.1 --max_depth 10 --n_estimators 300 --n_jobs 4 --objective multi:softmax\n",
      "\n",
      "\u001b[0m\n",
      "\n",
      "2021-08-25 08:08:45 Training - Training image download completed. Training in progress.\u001b[34m[0]#011validation_0-merror:0.43641#011validation_1-merror:0.65537\u001b[0m\n",
      "\u001b[34m[1]#011validation_0-merror:0.35866#011validation_1-merror:0.61058\u001b[0m\n",
      "\u001b[34m[2]#011validation_0-merror:0.30771#011validation_1-merror:0.58819\u001b[0m\n",
      "\u001b[34m[3]#011validation_0-merror:0.27128#011validation_1-merror:0.57272\u001b[0m\n",
      "\u001b[34m[4]#011validation_0-merror:0.24497#011validation_1-merror:0.55937\u001b[0m\n",
      "\u001b[34m[5]#011validation_0-merror:0.22599#011validation_1-merror:0.54788\u001b[0m\n",
      "\u001b[34m[6]#011validation_0-merror:0.21042#011validation_1-merror:0.54010\u001b[0m\n",
      "\u001b[34m[7]#011validation_0-merror:0.19906#011validation_1-merror:0.53444\u001b[0m\n",
      "\u001b[34m[8]#011validation_0-merror:0.18707#011validation_1-merror:0.52886\u001b[0m\n",
      "\u001b[34m[9]#011validation_0-merror:0.17679#011validation_1-merror:0.52269\u001b[0m\n",
      "\u001b[34m[10]#011validation_0-merror:0.16909#011validation_1-merror:0.51948\u001b[0m\n",
      "\u001b[34m[11]#011validation_0-merror:0.16151#011validation_1-merror:0.51365\u001b[0m\n",
      "\u001b[34m[12]#011validation_0-merror:0.15539#011validation_1-merror:0.50866\u001b[0m\n",
      "\u001b[34m[13]#011validation_0-merror:0.14802#011validation_1-merror:0.50401\u001b[0m\n",
      "\u001b[34m[14]#011validation_0-merror:0.14203#011validation_1-merror:0.50123\u001b[0m\n",
      "\u001b[34m[15]#011validation_0-merror:0.13699#011validation_1-merror:0.49861\u001b[0m\n",
      "\u001b[34m[16]#011validation_0-merror:0.13204#011validation_1-merror:0.49717\u001b[0m\n",
      "\u001b[34m[17]#011validation_0-merror:0.12621#011validation_1-merror:0.49556\u001b[0m\n",
      "\u001b[34m[18]#011validation_0-merror:0.12230#011validation_1-merror:0.49269\u001b[0m\n",
      "\u001b[34m[19]#011validation_0-merror:0.11764#011validation_1-merror:0.48982\u001b[0m\n",
      "\u001b[34m[20]#011validation_0-merror:0.11385#011validation_1-merror:0.48669\u001b[0m\n",
      "\u001b[34m[21]#011validation_0-merror:0.10990#011validation_1-merror:0.48508\u001b[0m\n",
      "\u001b[34m[22]#011validation_0-merror:0.10602#011validation_1-merror:0.48382\u001b[0m\n",
      "\u001b[34m[23]#011validation_0-merror:0.10303#011validation_1-merror:0.48162\u001b[0m\n",
      "\u001b[34m[24]#011validation_0-merror:0.09961#011validation_1-merror:0.47908\u001b[0m\n",
      "\u001b[34m[25]#011validation_0-merror:0.09695#011validation_1-merror:0.47562\u001b[0m\n",
      "\u001b[34m[26]#011validation_0-merror:0.09362#011validation_1-merror:0.47291\u001b[0m\n",
      "\u001b[34m[27]#011validation_0-merror:0.09016#011validation_1-merror:0.47190\u001b[0m\n",
      "\u001b[34m[28]#011validation_0-merror:0.08733#011validation_1-merror:0.46979\u001b[0m\n",
      "\u001b[34m[29]#011validation_0-merror:0.08434#011validation_1-merror:0.46979\u001b[0m\n",
      "\u001b[34m[30]#011validation_0-merror:0.08205#011validation_1-merror:0.46742\u001b[0m\n",
      "\u001b[34m[31]#011validation_0-merror:0.07855#011validation_1-merror:0.46590\u001b[0m\n",
      "\u001b[34m[32]#011validation_0-merror:0.07622#011validation_1-merror:0.46277\u001b[0m\n",
      "\u001b[34m[33]#011validation_0-merror:0.07385#011validation_1-merror:0.46100\u001b[0m\n",
      "\u001b[34m[34]#011validation_0-merror:0.07064#011validation_1-merror:0.46066\u001b[0m\n",
      "\u001b[34m[35]#011validation_0-merror:0.06868#011validation_1-merror:0.45880\u001b[0m\n",
      "\u001b[34m[36]#011validation_0-merror:0.06564#011validation_1-merror:0.45660\u001b[0m\n",
      "\u001b[34m[37]#011validation_0-merror:0.06344#011validation_1-merror:0.45601\u001b[0m\n",
      "\u001b[34m[38]#011validation_0-merror:0.06148#011validation_1-merror:0.45449\u001b[0m\n",
      "\u001b[34m[39]#011validation_0-merror:0.05949#011validation_1-merror:0.45246\u001b[0m\n",
      "\u001b[34m[40]#011validation_0-merror:0.05740#011validation_1-merror:0.45170\u001b[0m\n",
      "\u001b[34m[41]#011validation_0-merror:0.05495#011validation_1-merror:0.44993\u001b[0m\n",
      "\u001b[34m[42]#011validation_0-merror:0.05320#011validation_1-merror:0.44782\u001b[0m\n",
      "\u001b[34m[43]#011validation_0-merror:0.05062#011validation_1-merror:0.44807\u001b[0m\n",
      "\u001b[34m[44]#011validation_0-merror:0.04870#011validation_1-merror:0.44553\u001b[0m\n",
      "\u001b[34m[45]#011validation_0-merror:0.04675#011validation_1-merror:0.44469\u001b[0m\n",
      "\u001b[34m[46]#011validation_0-merror:0.04525#011validation_1-merror:0.44401\u001b[0m\n",
      "\u001b[34m[47]#011validation_0-merror:0.04371#011validation_1-merror:0.44283\u001b[0m\n",
      "\u001b[34m[48]#011validation_0-merror:0.04208#011validation_1-merror:0.44224\u001b[0m\n",
      "\u001b[34m[49]#011validation_0-merror:0.04075#011validation_1-merror:0.44021\u001b[0m\n",
      "\u001b[34m[50]#011validation_0-merror:0.03925#011validation_1-merror:0.43996\u001b[0m\n",
      "\u001b[34m[51]#011validation_0-merror:0.03775#011validation_1-merror:0.43742\u001b[0m\n",
      "\u001b[34m[52]#011validation_0-merror:0.03605#011validation_1-merror:0.43649\u001b[0m\n",
      "\u001b[34m[53]#011validation_0-merror:0.03459#011validation_1-merror:0.43539\u001b[0m\n",
      "\u001b[34m[54]#011validation_0-merror:0.03376#011validation_1-merror:0.43489\u001b[0m\n",
      "\u001b[34m[55]#011validation_0-merror:0.03280#011validation_1-merror:0.43522\u001b[0m\n",
      "\u001b[34m[56]#011validation_0-merror:0.03147#011validation_1-merror:0.43379\u001b[0m\n",
      "\u001b[34m[57]#011validation_0-merror:0.03047#011validation_1-merror:0.43379\u001b[0m\n",
      "\u001b[34m[58]#011validation_0-merror:0.02931#011validation_1-merror:0.43370\u001b[0m\n",
      "\u001b[34m[59]#011validation_0-merror:0.02814#011validation_1-merror:0.43260\u001b[0m\n",
      "\u001b[34m[60]#011validation_0-merror:0.02739#011validation_1-merror:0.43235\u001b[0m\n",
      "\u001b[34m[61]#011validation_0-merror:0.02602#011validation_1-merror:0.43184\u001b[0m\n",
      "\u001b[34m[62]#011validation_0-merror:0.02493#011validation_1-merror:0.43066\u001b[0m\n",
      "\u001b[34m[63]#011validation_0-merror:0.02394#011validation_1-merror:0.43007\u001b[0m\n",
      "\u001b[34m[64]#011validation_0-merror:0.02323#011validation_1-merror:0.42956\u001b[0m\n",
      "\u001b[34m[65]#011validation_0-merror:0.02223#011validation_1-merror:0.42804\u001b[0m\n",
      "\u001b[34m[66]#011validation_0-merror:0.02127#011validation_1-merror:0.42804\u001b[0m\n",
      "\u001b[34m[67]#011validation_0-merror:0.02073#011validation_1-merror:0.42753\u001b[0m\n",
      "\u001b[34m[68]#011validation_0-merror:0.01969#011validation_1-merror:0.42719\u001b[0m\n",
      "\u001b[34m[69]#011validation_0-merror:0.01886#011validation_1-merror:0.42593\u001b[0m\n",
      "\u001b[34m[70]#011validation_0-merror:0.01807#011validation_1-merror:0.42508\u001b[0m\n",
      "\u001b[34m[71]#011validation_0-merror:0.01752#011validation_1-merror:0.42508\u001b[0m\n",
      "\u001b[34m[72]#011validation_0-merror:0.01673#011validation_1-merror:0.42432\u001b[0m\n",
      "\u001b[34m[73]#011validation_0-merror:0.01594#011validation_1-merror:0.42373\u001b[0m\n",
      "\u001b[34m[74]#011validation_0-merror:0.01540#011validation_1-merror:0.42356\u001b[0m\n",
      "\u001b[34m[75]#011validation_0-merror:0.01507#011validation_1-merror:0.42246\u001b[0m\n",
      "\u001b[34m[76]#011validation_0-merror:0.01482#011validation_1-merror:0.42263\u001b[0m\n",
      "\u001b[34m[77]#011validation_0-merror:0.01428#011validation_1-merror:0.42162\u001b[0m\n",
      "\u001b[34m[78]#011validation_0-merror:0.01378#011validation_1-merror:0.42119\u001b[0m\n",
      "\u001b[34m[79]#011validation_0-merror:0.01332#011validation_1-merror:0.42103\u001b[0m\n",
      "\u001b[34m[80]#011validation_0-merror:0.01278#011validation_1-merror:0.42077\u001b[0m\n",
      "\u001b[34m[81]#011validation_0-merror:0.01232#011validation_1-merror:0.41993\u001b[0m\n",
      "\u001b[34m[82]#011validation_0-merror:0.01186#011validation_1-merror:0.41925\u001b[0m\n",
      "\u001b[34m[83]#011validation_0-merror:0.01136#011validation_1-merror:0.41908\u001b[0m\n",
      "\u001b[34m[84]#011validation_0-merror:0.01116#011validation_1-merror:0.41908\u001b[0m\n",
      "\u001b[34m[85]#011validation_0-merror:0.01049#011validation_1-merror:0.41883\u001b[0m\n",
      "\u001b[34m[86]#011validation_0-merror:0.00978#011validation_1-merror:0.41781\u001b[0m\n",
      "\u001b[34m[87]#011validation_0-merror:0.00932#011validation_1-merror:0.41841\u001b[0m\n",
      "\u001b[34m[88]#011validation_0-merror:0.00882#011validation_1-merror:0.41832\u001b[0m\n",
      "\u001b[34m[89]#011validation_0-merror:0.00866#011validation_1-merror:0.41773\u001b[0m\n",
      "\u001b[34m[90]#011validation_0-merror:0.00833#011validation_1-merror:0.41841\u001b[0m\n",
      "\u001b[34m[91]#011validation_0-merror:0.00812#011validation_1-merror:0.41748\u001b[0m\n",
      "\u001b[34m[92]#011validation_0-merror:0.00762#011validation_1-merror:0.41714\u001b[0m\n",
      "\u001b[34m[93]#011validation_0-merror:0.00741#011validation_1-merror:0.41604\u001b[0m\n",
      "\u001b[34m[94]#011validation_0-merror:0.00716#011validation_1-merror:0.41629\u001b[0m\n",
      "\u001b[34m[95]#011validation_0-merror:0.00695#011validation_1-merror:0.41596\u001b[0m\n",
      "\u001b[34m[96]#011validation_0-merror:0.00670#011validation_1-merror:0.41579\u001b[0m\n",
      "\u001b[34m[97]#011validation_0-merror:0.00645#011validation_1-merror:0.41511\u001b[0m\n",
      "\u001b[34m[98]#011validation_0-merror:0.00612#011validation_1-merror:0.41494\u001b[0m\n",
      "\u001b[34m[99]#011validation_0-merror:0.00579#011validation_1-merror:0.41469\u001b[0m\n",
      "\u001b[34m[100]#011validation_0-merror:0.00541#011validation_1-merror:0.41477\u001b[0m\n",
      "\u001b[34m[101]#011validation_0-merror:0.00520#011validation_1-merror:0.41393\u001b[0m\n",
      "\u001b[34m[102]#011validation_0-merror:0.00475#011validation_1-merror:0.41443\u001b[0m\n",
      "\u001b[34m[103]#011validation_0-merror:0.00445#011validation_1-merror:0.41401\u001b[0m\n",
      "\u001b[34m[104]#011validation_0-merror:0.00429#011validation_1-merror:0.41359\u001b[0m\n",
      "\u001b[34m[105]#011validation_0-merror:0.00420#011validation_1-merror:0.41342\u001b[0m\n",
      "\u001b[34m[106]#011validation_0-merror:0.00412#011validation_1-merror:0.41351\u001b[0m\n",
      "\u001b[34m[107]#011validation_0-merror:0.00387#011validation_1-merror:0.41342\u001b[0m\n",
      "\u001b[34m[108]#011validation_0-merror:0.00379#011validation_1-merror:0.41300\u001b[0m\n",
      "\u001b[34m[109]#011validation_0-merror:0.00375#011validation_1-merror:0.41325\u001b[0m\n",
      "\u001b[34m[110]#011validation_0-merror:0.00358#011validation_1-merror:0.41283\u001b[0m\n",
      "\u001b[34m[111]#011validation_0-merror:0.00341#011validation_1-merror:0.41283\u001b[0m\n",
      "\u001b[34m[112]#011validation_0-merror:0.00325#011validation_1-merror:0.41249\u001b[0m\n",
      "\u001b[34m[113]#011validation_0-merror:0.00325#011validation_1-merror:0.41173\u001b[0m\n",
      "\u001b[34m[114]#011validation_0-merror:0.00320#011validation_1-merror:0.41207\u001b[0m\n",
      "\u001b[34m[115]#011validation_0-merror:0.00316#011validation_1-merror:0.41215\u001b[0m\n",
      "\u001b[34m[116]#011validation_0-merror:0.00304#011validation_1-merror:0.41232\u001b[0m\n",
      "\u001b[34m[117]#011validation_0-merror:0.00287#011validation_1-merror:0.41274\u001b[0m\n",
      "\u001b[34m[118]#011validation_0-merror:0.00266#011validation_1-merror:0.41215\u001b[0m\n",
      "\u001b[34m[119]#011validation_0-merror:0.00254#011validation_1-merror:0.41224\u001b[0m\n",
      "\u001b[34m[120]#011validation_0-merror:0.00241#011validation_1-merror:0.41190\u001b[0m\n",
      "\u001b[34m[121]#011validation_0-merror:0.00225#011validation_1-merror:0.41190\u001b[0m\n",
      "\u001b[34m[122]#011validation_0-merror:0.00216#011validation_1-merror:0.41097\u001b[0m\n",
      "\u001b[34m[123]#011validation_0-merror:0.00208#011validation_1-merror:0.41114\u001b[0m\n",
      "\u001b[34m[124]#011validation_0-merror:0.00208#011validation_1-merror:0.41097\u001b[0m\n",
      "\u001b[34m[125]#011validation_0-merror:0.00196#011validation_1-merror:0.41080\u001b[0m\n",
      "\u001b[34m[126]#011validation_0-merror:0.00196#011validation_1-merror:0.41080\u001b[0m\n",
      "\u001b[34m[127]#011validation_0-merror:0.00187#011validation_1-merror:0.41080\u001b[0m\n",
      "\u001b[34m[128]#011validation_0-merror:0.00179#011validation_1-merror:0.41080\u001b[0m\n",
      "\u001b[34m[129]#011validation_0-merror:0.00167#011validation_1-merror:0.41139\u001b[0m\n",
      "\u001b[34m[130]#011validation_0-merror:0.00162#011validation_1-merror:0.41072\u001b[0m\n",
      "\u001b[34m[131]#011validation_0-merror:0.00158#011validation_1-merror:0.41072\u001b[0m\n",
      "\u001b[34m[132]#011validation_0-merror:0.00150#011validation_1-merror:0.41097\u001b[0m\n",
      "\u001b[34m[133]#011validation_0-merror:0.00150#011validation_1-merror:0.41004\u001b[0m\n",
      "\u001b[34m[134]#011validation_0-merror:0.00142#011validation_1-merror:0.40987\u001b[0m\n",
      "\u001b[34m[135]#011validation_0-merror:0.00137#011validation_1-merror:0.40928\u001b[0m\n",
      "\u001b[34m[136]#011validation_0-merror:0.00133#011validation_1-merror:0.40903\u001b[0m\n",
      "\u001b[34m[137]#011validation_0-merror:0.00133#011validation_1-merror:0.40911\u001b[0m\n",
      "\u001b[34m[138]#011validation_0-merror:0.00133#011validation_1-merror:0.40953\u001b[0m\n",
      "\u001b[34m[139]#011validation_0-merror:0.00133#011validation_1-merror:0.41012\u001b[0m\n",
      "\u001b[34m[140]#011validation_0-merror:0.00133#011validation_1-merror:0.40962\u001b[0m\n",
      "\u001b[34m[141]#011validation_0-merror:0.00129#011validation_1-merror:0.40936\u001b[0m\n",
      "\u001b[34m[142]#011validation_0-merror:0.00129#011validation_1-merror:0.40928\u001b[0m\n",
      "\u001b[34m[143]#011validation_0-merror:0.00129#011validation_1-merror:0.40919\u001b[0m\n",
      "\u001b[34m[144]#011validation_0-merror:0.00129#011validation_1-merror:0.40877\u001b[0m\n",
      "\u001b[34m[145]#011validation_0-merror:0.00129#011validation_1-merror:0.40835\u001b[0m\n",
      "\u001b[34m[146]#011validation_0-merror:0.00125#011validation_1-merror:0.40835\u001b[0m\n",
      "\u001b[34m[147]#011validation_0-merror:0.00121#011validation_1-merror:0.40852\u001b[0m\n",
      "\u001b[34m[148]#011validation_0-merror:0.00121#011validation_1-merror:0.40826\u001b[0m\n",
      "\u001b[34m[149]#011validation_0-merror:0.00117#011validation_1-merror:0.40776\u001b[0m\n",
      "\u001b[34m[150]#011validation_0-merror:0.00117#011validation_1-merror:0.40801\u001b[0m\n",
      "\u001b[34m[151]#011validation_0-merror:0.00117#011validation_1-merror:0.40826\u001b[0m\n",
      "\u001b[34m[152]#011validation_0-merror:0.00117#011validation_1-merror:0.40793\u001b[0m\n",
      "\u001b[34m[153]#011validation_0-merror:0.00117#011validation_1-merror:0.40776\u001b[0m\n",
      "\u001b[34m[154]#011validation_0-merror:0.00117#011validation_1-merror:0.40767\u001b[0m\n",
      "\u001b[34m[155]#011validation_0-merror:0.00112#011validation_1-merror:0.40759\u001b[0m\n",
      "\u001b[34m[156]#011validation_0-merror:0.00112#011validation_1-merror:0.40767\u001b[0m\n",
      "\u001b[34m[157]#011validation_0-merror:0.00112#011validation_1-merror:0.40700\u001b[0m\n",
      "\u001b[34m[158]#011validation_0-merror:0.00108#011validation_1-merror:0.40666\u001b[0m\n",
      "\u001b[34m[159]#011validation_0-merror:0.00108#011validation_1-merror:0.40658\u001b[0m\n",
      "\u001b[34m[160]#011validation_0-merror:0.00108#011validation_1-merror:0.40624\u001b[0m\n",
      "\u001b[34m[161]#011validation_0-merror:0.00108#011validation_1-merror:0.40564\u001b[0m\n",
      "\u001b[34m[162]#011validation_0-merror:0.00108#011validation_1-merror:0.40649\u001b[0m\n",
      "\u001b[34m[163]#011validation_0-merror:0.00104#011validation_1-merror:0.40632\u001b[0m\n",
      "\u001b[34m[164]#011validation_0-merror:0.00104#011validation_1-merror:0.40649\u001b[0m\n",
      "\u001b[34m[165]#011validation_0-merror:0.00104#011validation_1-merror:0.40658\u001b[0m\n",
      "\u001b[34m[166]#011validation_0-merror:0.00104#011validation_1-merror:0.40598\u001b[0m\n",
      "\u001b[34m[167]#011validation_0-merror:0.00100#011validation_1-merror:0.40556\u001b[0m\n",
      "\u001b[34m[168]#011validation_0-merror:0.00100#011validation_1-merror:0.40607\u001b[0m\n",
      "\u001b[34m[169]#011validation_0-merror:0.00100#011validation_1-merror:0.40539\u001b[0m\n",
      "\u001b[34m[170]#011validation_0-merror:0.00100#011validation_1-merror:0.40514\u001b[0m\n",
      "\u001b[34m[171]#011validation_0-merror:0.00100#011validation_1-merror:0.40488\u001b[0m\n",
      "\u001b[34m[172]#011validation_0-merror:0.00096#011validation_1-merror:0.40505\u001b[0m\n",
      "\u001b[34m[173]#011validation_0-merror:0.00096#011validation_1-merror:0.40404\u001b[0m\n",
      "\u001b[34m[174]#011validation_0-merror:0.00096#011validation_1-merror:0.40421\u001b[0m\n",
      "\u001b[34m[175]#011validation_0-merror:0.00096#011validation_1-merror:0.40497\u001b[0m\n",
      "\u001b[34m[176]#011validation_0-merror:0.00096#011validation_1-merror:0.40421\u001b[0m\n",
      "\u001b[34m[177]#011validation_0-merror:0.00096#011validation_1-merror:0.40421\u001b[0m\n",
      "\u001b[34m[178]#011validation_0-merror:0.00096#011validation_1-merror:0.40412\u001b[0m\n",
      "\u001b[34m[179]#011validation_0-merror:0.00096#011validation_1-merror:0.40396\u001b[0m\n",
      "\u001b[34m[180]#011validation_0-merror:0.00096#011validation_1-merror:0.40396\u001b[0m\n",
      "\u001b[34m[181]#011validation_0-merror:0.00092#011validation_1-merror:0.40438\u001b[0m\n",
      "\u001b[34m[182]#011validation_0-merror:0.00087#011validation_1-merror:0.40387\u001b[0m\n",
      "\u001b[34m[183]#011validation_0-merror:0.00087#011validation_1-merror:0.40412\u001b[0m\n",
      "\u001b[34m[184]#011validation_0-merror:0.00087#011validation_1-merror:0.40370\u001b[0m\n",
      "\u001b[34m[185]#011validation_0-merror:0.00087#011validation_1-merror:0.40379\u001b[0m\n",
      "\u001b[34m[186]#011validation_0-merror:0.00079#011validation_1-merror:0.40319\u001b[0m\n",
      "\u001b[34m[187]#011validation_0-merror:0.00079#011validation_1-merror:0.40294\u001b[0m\n",
      "\u001b[34m[188]#011validation_0-merror:0.00079#011validation_1-merror:0.40319\u001b[0m\n",
      "\u001b[34m[189]#011validation_0-merror:0.00075#011validation_1-merror:0.40319\u001b[0m\n",
      "\u001b[34m[190]#011validation_0-merror:0.00075#011validation_1-merror:0.40277\u001b[0m\n",
      "\u001b[34m[191]#011validation_0-merror:0.00071#011validation_1-merror:0.40319\u001b[0m\n",
      "\u001b[34m[192]#011validation_0-merror:0.00071#011validation_1-merror:0.40286\u001b[0m\n",
      "\u001b[34m[193]#011validation_0-merror:0.00067#011validation_1-merror:0.40269\u001b[0m\n",
      "\u001b[34m[194]#011validation_0-merror:0.00067#011validation_1-merror:0.40286\u001b[0m\n",
      "\u001b[34m[195]#011validation_0-merror:0.00067#011validation_1-merror:0.40277\u001b[0m\n",
      "\u001b[34m[196]#011validation_0-merror:0.00067#011validation_1-merror:0.40252\u001b[0m\n",
      "\u001b[34m[197]#011validation_0-merror:0.00067#011validation_1-merror:0.40294\u001b[0m\n",
      "\u001b[34m[198]#011validation_0-merror:0.00067#011validation_1-merror:0.40260\u001b[0m\n",
      "\u001b[34m[199]#011validation_0-merror:0.00067#011validation_1-merror:0.40243\u001b[0m\n",
      "\u001b[34m[200]#011validation_0-merror:0.00067#011validation_1-merror:0.40235\u001b[0m\n",
      "\u001b[34m[201]#011validation_0-merror:0.00067#011validation_1-merror:0.40184\u001b[0m\n",
      "\u001b[34m[202]#011validation_0-merror:0.00062#011validation_1-merror:0.40218\u001b[0m\n",
      "\u001b[34m[203]#011validation_0-merror:0.00062#011validation_1-merror:0.40210\u001b[0m\n",
      "\u001b[34m[204]#011validation_0-merror:0.00062#011validation_1-merror:0.40235\u001b[0m\n",
      "\u001b[34m[205]#011validation_0-merror:0.00062#011validation_1-merror:0.40243\u001b[0m\n",
      "\u001b[34m[206]#011validation_0-merror:0.00062#011validation_1-merror:0.40243\u001b[0m\n",
      "\u001b[34m[207]#011validation_0-merror:0.00062#011validation_1-merror:0.40235\u001b[0m\n",
      "\u001b[34m[208]#011validation_0-merror:0.00062#011validation_1-merror:0.40243\u001b[0m\n",
      "\u001b[34m[209]#011validation_0-merror:0.00062#011validation_1-merror:0.40142\u001b[0m\n",
      "\u001b[34m[210]#011validation_0-merror:0.00062#011validation_1-merror:0.40133\u001b[0m\n",
      "\u001b[34m[211]#011validation_0-merror:0.00062#011validation_1-merror:0.40167\u001b[0m\n",
      "\u001b[34m[212]#011validation_0-merror:0.00062#011validation_1-merror:0.40125\u001b[0m\n",
      "\u001b[34m[213]#011validation_0-merror:0.00062#011validation_1-merror:0.40125\u001b[0m\n",
      "\u001b[34m[214]#011validation_0-merror:0.00062#011validation_1-merror:0.40167\u001b[0m\n",
      "\u001b[34m[215]#011validation_0-merror:0.00062#011validation_1-merror:0.40184\u001b[0m\n",
      "\u001b[34m[216]#011validation_0-merror:0.00062#011validation_1-merror:0.40150\u001b[0m\n",
      "\u001b[34m[217]#011validation_0-merror:0.00062#011validation_1-merror:0.40133\u001b[0m\n",
      "\u001b[34m[218]#011validation_0-merror:0.00062#011validation_1-merror:0.40159\u001b[0m\n",
      "\u001b[34m[219]#011validation_0-merror:0.00062#011validation_1-merror:0.40125\u001b[0m\n",
      "\u001b[34m[220]#011validation_0-merror:0.00062#011validation_1-merror:0.40117\u001b[0m\n",
      "\u001b[34m[221]#011validation_0-merror:0.00062#011validation_1-merror:0.40125\u001b[0m\n",
      "\u001b[34m[222]#011validation_0-merror:0.00062#011validation_1-merror:0.40100\u001b[0m\n",
      "\u001b[34m[223]#011validation_0-merror:0.00062#011validation_1-merror:0.40167\u001b[0m\n",
      "\u001b[34m[224]#011validation_0-merror:0.00062#011validation_1-merror:0.40117\u001b[0m\n",
      "\u001b[34m[225]#011validation_0-merror:0.00062#011validation_1-merror:0.40058\u001b[0m\n",
      "\u001b[34m[226]#011validation_0-merror:0.00062#011validation_1-merror:0.40024\u001b[0m\n",
      "\u001b[34m[227]#011validation_0-merror:0.00062#011validation_1-merror:0.40066\u001b[0m\n",
      "\u001b[34m[228]#011validation_0-merror:0.00062#011validation_1-merror:0.40058\u001b[0m\n",
      "\u001b[34m[229]#011validation_0-merror:0.00062#011validation_1-merror:0.40049\u001b[0m\n",
      "\u001b[34m[230]#011validation_0-merror:0.00062#011validation_1-merror:0.40049\u001b[0m\n",
      "\u001b[34m[231]#011validation_0-merror:0.00062#011validation_1-merror:0.40015\u001b[0m\n",
      "\u001b[34m[232]#011validation_0-merror:0.00062#011validation_1-merror:0.40007\u001b[0m\n",
      "\u001b[34m[233]#011validation_0-merror:0.00058#011validation_1-merror:0.39981\u001b[0m\n",
      "\u001b[34m[234]#011validation_0-merror:0.00058#011validation_1-merror:0.40041\u001b[0m\n",
      "\u001b[34m[235]#011validation_0-merror:0.00058#011validation_1-merror:0.40091\u001b[0m\n",
      "\u001b[34m[236]#011validation_0-merror:0.00058#011validation_1-merror:0.40133\u001b[0m\n",
      "\u001b[34m[237]#011validation_0-merror:0.00058#011validation_1-merror:0.40066\u001b[0m\n",
      "\u001b[34m[238]#011validation_0-merror:0.00058#011validation_1-merror:0.40066\u001b[0m\n",
      "\u001b[34m[239]#011validation_0-merror:0.00058#011validation_1-merror:0.40041\u001b[0m\n",
      "\u001b[34m[240]#011validation_0-merror:0.00058#011validation_1-merror:0.40049\u001b[0m\n",
      "\u001b[34m[241]#011validation_0-merror:0.00058#011validation_1-merror:0.40024\u001b[0m\n",
      "\u001b[34m[242]#011validation_0-merror:0.00054#011validation_1-merror:0.40058\u001b[0m\n",
      "\u001b[34m[243]#011validation_0-merror:0.00054#011validation_1-merror:0.40015\u001b[0m\n",
      "\u001b[34m[244]#011validation_0-merror:0.00054#011validation_1-merror:0.39973\u001b[0m\n",
      "\u001b[34m[245]#011validation_0-merror:0.00054#011validation_1-merror:0.39990\u001b[0m\n",
      "\u001b[34m[246]#011validation_0-merror:0.00054#011validation_1-merror:0.39948\u001b[0m\n",
      "\u001b[34m[247]#011validation_0-merror:0.00054#011validation_1-merror:0.39973\u001b[0m\n",
      "\u001b[34m[248]#011validation_0-merror:0.00054#011validation_1-merror:0.39964\u001b[0m\n",
      "\u001b[34m[249]#011validation_0-merror:0.00054#011validation_1-merror:0.39939\u001b[0m\n",
      "\u001b[34m[250]#011validation_0-merror:0.00054#011validation_1-merror:0.39964\u001b[0m\n",
      "\u001b[34m[251]#011validation_0-merror:0.00054#011validation_1-merror:0.39956\u001b[0m\n",
      "\u001b[34m[252]#011validation_0-merror:0.00054#011validation_1-merror:0.39981\u001b[0m\n",
      "\u001b[34m[253]#011validation_0-merror:0.00054#011validation_1-merror:0.39990\u001b[0m\n",
      "\u001b[34m[254]#011validation_0-merror:0.00054#011validation_1-merror:0.39990\u001b[0m\n",
      "\u001b[34m[255]#011validation_0-merror:0.00054#011validation_1-merror:0.39964\u001b[0m\n",
      "\u001b[34m[256]#011validation_0-merror:0.00054#011validation_1-merror:0.39981\u001b[0m\n",
      "\u001b[34m[257]#011validation_0-merror:0.00054#011validation_1-merror:0.39939\u001b[0m\n",
      "\u001b[34m[258]#011validation_0-merror:0.00054#011validation_1-merror:0.39956\u001b[0m\n",
      "\u001b[34m[259]#011validation_0-merror:0.00054#011validation_1-merror:0.39973\u001b[0m\n",
      "\u001b[34m[260]#011validation_0-merror:0.00054#011validation_1-merror:0.39964\u001b[0m\n",
      "\u001b[34m[261]#011validation_0-merror:0.00054#011validation_1-merror:0.39922\u001b[0m\n",
      "\u001b[34m[262]#011validation_0-merror:0.00054#011validation_1-merror:0.39914\u001b[0m\n",
      "\u001b[34m[263]#011validation_0-merror:0.00054#011validation_1-merror:0.39931\u001b[0m\n",
      "\u001b[34m[264]#011validation_0-merror:0.00054#011validation_1-merror:0.39888\u001b[0m\n",
      "\u001b[34m[265]#011validation_0-merror:0.00054#011validation_1-merror:0.39888\u001b[0m\n",
      "\u001b[34m[266]#011validation_0-merror:0.00054#011validation_1-merror:0.39880\u001b[0m\n",
      "\u001b[34m[267]#011validation_0-merror:0.00054#011validation_1-merror:0.39888\u001b[0m\n",
      "\u001b[34m[268]#011validation_0-merror:0.00054#011validation_1-merror:0.39922\u001b[0m\n",
      "\u001b[34m[269]#011validation_0-merror:0.00054#011validation_1-merror:0.39871\u001b[0m\n",
      "\u001b[34m[270]#011validation_0-merror:0.00054#011validation_1-merror:0.39880\u001b[0m\n",
      "\u001b[34m[271]#011validation_0-merror:0.00054#011validation_1-merror:0.39863\u001b[0m\n",
      "\u001b[34m[272]#011validation_0-merror:0.00054#011validation_1-merror:0.39863\u001b[0m\n",
      "\u001b[34m[273]#011validation_0-merror:0.00054#011validation_1-merror:0.39863\u001b[0m\n",
      "\u001b[34m[274]#011validation_0-merror:0.00054#011validation_1-merror:0.39855\u001b[0m\n",
      "\u001b[34m[275]#011validation_0-merror:0.00054#011validation_1-merror:0.39863\u001b[0m\n",
      "\u001b[34m[276]#011validation_0-merror:0.00054#011validation_1-merror:0.39855\u001b[0m\n",
      "\u001b[34m[277]#011validation_0-merror:0.00054#011validation_1-merror:0.39871\u001b[0m\n",
      "\u001b[34m[278]#011validation_0-merror:0.00054#011validation_1-merror:0.39855\u001b[0m\n",
      "\u001b[34m[279]#011validation_0-merror:0.00054#011validation_1-merror:0.39855\u001b[0m\n",
      "\u001b[34m[280]#011validation_0-merror:0.00054#011validation_1-merror:0.39829\u001b[0m\n",
      "\u001b[34m[281]#011validation_0-merror:0.00054#011validation_1-merror:0.39821\u001b[0m\n",
      "\u001b[34m[282]#011validation_0-merror:0.00054#011validation_1-merror:0.39829\u001b[0m\n",
      "\u001b[34m[283]#011validation_0-merror:0.00054#011validation_1-merror:0.39829\u001b[0m\n",
      "\u001b[34m[284]#011validation_0-merror:0.00054#011validation_1-merror:0.39838\u001b[0m\n",
      "\u001b[34m[285]#011validation_0-merror:0.00054#011validation_1-merror:0.39829\u001b[0m\n",
      "\u001b[34m[286]#011validation_0-merror:0.00054#011validation_1-merror:0.39855\u001b[0m\n",
      "\u001b[34m[287]#011validation_0-merror:0.00054#011validation_1-merror:0.39871\u001b[0m\n",
      "\u001b[34m[288]#011validation_0-merror:0.00054#011validation_1-merror:0.39846\u001b[0m\n",
      "\u001b[34m[289]#011validation_0-merror:0.00054#011validation_1-merror:0.39838\u001b[0m\n",
      "\u001b[34m[290]#011validation_0-merror:0.00054#011validation_1-merror:0.39855\u001b[0m\n",
      "\u001b[34m[291]#011validation_0-merror:0.00054#011validation_1-merror:0.39880\u001b[0m\n",
      "\u001b[34m[292]#011validation_0-merror:0.00054#011validation_1-merror:0.39914\u001b[0m\n",
      "\u001b[34m[293]#011validation_0-merror:0.00054#011validation_1-merror:0.39922\u001b[0m\n",
      "\u001b[34m[294]#011validation_0-merror:0.00054#011validation_1-merror:0.39863\u001b[0m\n",
      "\u001b[34m[295]#011validation_0-merror:0.00054#011validation_1-merror:0.39871\u001b[0m\n",
      "\u001b[34m[296]#011validation_0-merror:0.00054#011validation_1-merror:0.39846\u001b[0m\n",
      "\u001b[34m[297]#011validation_0-merror:0.00054#011validation_1-merror:0.39871\u001b[0m\n",
      "\u001b[34m[298]#011validation_0-merror:0.00054#011validation_1-merror:0.39897\u001b[0m\n",
      "\u001b[34m[299]#011validation_0-merror:0.00054#011validation_1-merror:0.39863\u001b[0m\n",
      "\n",
      "2021-08-25 08:19:07 Uploading - Uploading generated training model\n",
      "2021-08-25 08:19:07 Completed - Training job completed\n",
      "Training seconds: 667\n",
      "Billable seconds: 667\n"
     ]
    }
   ],
   "source": [
    "xgb_estimator.fit({'train': train_data, 'validation': validation_data })"
   ]
  },
  {
   "cell_type": "code",
   "execution_count": 112,
   "id": "e680cfb1",
   "metadata": {},
   "outputs": [
    {
     "name": "stdout",
     "output_type": "stream",
     "text": [
      "-------------!"
     ]
    }
   ],
   "source": [
    "xgb_predictor_gensim = xgb_estimator.deploy(\n",
    "    initial_instance_count=1,\n",
    "    instance_type=\"ml.m5.2xlarge\"\n",
    ")"
   ]
  },
  {
   "cell_type": "code",
   "execution_count": 113,
   "id": "8c06b0f2",
   "metadata": {},
   "outputs": [
    {
     "name": "stdout",
     "output_type": "stream",
     "text": [
      "<sagemaker.xgboost.model.XGBoostPredictor object at 0x7f4d6123e400>\n"
     ]
    }
   ],
   "source": [
    "print(xgb_predictor_gensim)"
   ]
  },
  {
   "cell_type": "code",
   "execution_count": 114,
   "id": "8d843bbb",
   "metadata": {},
   "outputs": [],
   "source": [
    "from sagemaker.serializers import CSVSerializer\n",
    "from sagemaker.deserializers import NumpyDeserializer\n",
    "csv_serializer = CSVSerializer()\n",
    "np_deserializer = NumpyDeserializer()\n",
    "\n",
    "xgb_predictor_gensim.serializer = csv_serializer\n",
    "xgb_predictor_gensim.deserializer = np_deserializer\n",
    "\n"
   ]
  },
  {
   "cell_type": "code",
   "execution_count": 115,
   "id": "1d6317c1",
   "metadata": {},
   "outputs": [
    {
     "name": "stdout",
     "output_type": "stream",
     "text": [
      "F1 Score(micro): 60.1\n"
     ]
    }
   ],
   "source": [
    "from sklearn.metrics import f1_score\n",
    "from sklearn.metrics import classification_report\n",
    "\n",
    "predictions_test_xgb_weighted = [ float(xgb_predictor_gensim.predict(x)) for x in X_test]  \n",
    "score = f1_score(y_test,predictions_test_xgb_weighted,labels=np.unique(y),average='micro')\n",
    "\n",
    "print('F1 Score(micro): %.1f' % (score * 100.0))"
   ]
  },
  {
   "cell_type": "code",
   "execution_count": 116,
   "id": "a1567181",
   "metadata": {},
   "outputs": [],
   "source": [
    "# xgb_predictor_gensim.delete_endpoint()"
   ]
  },
  {
   "cell_type": "markdown",
   "id": "14b3280a",
   "metadata": {},
   "source": [
    "### In the next steps, we will use the built-in XGBoost which doesn't allow you to set the weights for the classes and see how the results differ."
   ]
  },
  {
   "cell_type": "markdown",
   "id": "b991d71f",
   "metadata": {},
   "source": [
    "If we use the XGBClassifer, then we are going to need to divide our training data into 3 files, X =features, y=Labels, and W=weights - all the same length. \n",
    "\n",
    "We are going to need to cerate a map to class to add the weight. "
   ]
  },
  {
   "cell_type": "code",
   "execution_count": 117,
   "id": "bec3ca71",
   "metadata": {},
   "outputs": [],
   "source": [
    "import boto3\n",
    "container_uri = sagemaker.image_uris.retrieve('xgboost', boto3.Session().region_name, version='1.0-1')\n",
    "\n",
    "# Create the estimator\n",
    "xgb_bi = sagemaker.estimator.Estimator(container_uri,\n",
    "                                    role, \n",
    "                                    instance_count=1, \n",
    "                                    instance_type='ml.m4.4xlarge',\n",
    "                                    output_path='s3://{}/{}/output'.format(bucket, prefix_gensim),\n",
    "                                    sagemaker_session=sagemaker_session)\n",
    "# Set the hyperparameters\n",
    "xgb_bi.set_hyperparameters(eta=0.1,\n",
    "                        max_depth=10,\n",
    "                        gamma=4,\n",
    "                        num_class=len(np.unique(y)),\n",
    "                        alpha=10,\n",
    "                        min_child_weight=6,\n",
    "                        silent=0,\n",
    "                        objective='multi:softmax',\n",
    "                        num_round=300)"
   ]
  },
  {
   "cell_type": "code",
   "execution_count": 118,
   "id": "26bda171",
   "metadata": {
    "scrolled": true
   },
   "outputs": [
    {
     "name": "stdout",
     "output_type": "stream",
     "text": [
      "2021-08-25 08:28:23 Starting - Starting the training job...\n",
      "2021-08-25 08:28:46 Starting - Launching requested ML instancesProfilerReport-1629880103: InProgress\n",
      "......\n",
      "2021-08-25 08:29:46 Starting - Preparing the instances for training......\n",
      "2021-08-25 08:30:54 Downloading - Downloading input data\n",
      "2021-08-25 08:30:54 Training - Downloading the training image...\n",
      "2021-08-25 08:31:15 Training - Training image download completed. Training in progress..\u001b[34mINFO:sagemaker-containers:Imported framework sagemaker_xgboost_container.training\u001b[0m\n",
      "\u001b[34mINFO:sagemaker-containers:Failed to parse hyperparameter objective value multi:softmax to Json.\u001b[0m\n",
      "\u001b[34mReturning the value itself\u001b[0m\n",
      "\u001b[34mINFO:sagemaker-containers:No GPUs detected (normal if no gpus installed)\u001b[0m\n",
      "\u001b[34mINFO:sagemaker_xgboost_container.training:Running XGBoost Sagemaker in algorithm mode\u001b[0m\n",
      "\u001b[34mINFO:root:Determined delimiter of CSV input is ','\u001b[0m\n",
      "\u001b[34mINFO:root:Determined delimiter of CSV input is ','\u001b[0m\n",
      "\u001b[34mINFO:root:Determined delimiter of CSV input is ','\u001b[0m\n",
      "\u001b[34m[08:31:17] 24023x100 matrix with 2402300 entries loaded from /opt/ml/input/data/train?format=csv&label_column=0&delimiter=,\u001b[0m\n",
      "\u001b[34mINFO:root:Determined delimiter of CSV input is ','\u001b[0m\n",
      "\u001b[34m[08:31:17] 11833x100 matrix with 1183300 entries loaded from /opt/ml/input/data/validation?format=csv&label_column=0&delimiter=,\u001b[0m\n",
      "\u001b[34mINFO:root:Single node training.\u001b[0m\n",
      "\u001b[34mINFO:root:Train matrix has 24023 rows\u001b[0m\n",
      "\u001b[34mINFO:root:Validation matrix has 11833 rows\u001b[0m\n",
      "\u001b[34m[08:31:17] WARNING: /workspace/src/learner.cc:328: \u001b[0m\n",
      "\u001b[34mParameters: { num_round, silent } might not be used.\n",
      "\n",
      "  This may not be accurate due to some parameters are only used in language bindings but\n",
      "  passed down to XGBoost core.  Or some parameters are not used but slip through this\n",
      "  verification. Please open an issue if you find above cases.\n",
      "\n",
      "\u001b[0m\n",
      "\u001b[34m[0]#011train-merror:0.48724#011validation-merror:0.56613\u001b[0m\n",
      "\u001b[34m[1]#011train-merror:0.45606#011validation-merror:0.54331\u001b[0m\n",
      "\u001b[34m[2]#011train-merror:0.43625#011validation-merror:0.52489\u001b[0m\n",
      "\u001b[34m[3]#011train-merror:0.41943#011validation-merror:0.51306\u001b[0m\n",
      "\u001b[34m[4]#011train-merror:0.40819#011validation-merror:0.50562\u001b[0m\n",
      "\u001b[34m[5]#011train-merror:0.40053#011validation-merror:0.49962\u001b[0m\n",
      "\u001b[34m[6]#011train-merror:0.39504#011validation-merror:0.49725\u001b[0m\n",
      "\u001b[34m[7]#011train-merror:0.38884#011validation-merror:0.49294\u001b[0m\n",
      "\u001b[34m[8]#011train-merror:0.38455#011validation-merror:0.49007\u001b[0m\n",
      "\u001b[34m[9]#011train-merror:0.37839#011validation-merror:0.48568\u001b[0m\n",
      "\u001b[34m[10]#011train-merror:0.37418#011validation-merror:0.48356\u001b[0m\n",
      "\u001b[34m[11]#011train-merror:0.36960#011validation-merror:0.48128\u001b[0m\n",
      "\u001b[34m[12]#011train-merror:0.36632#011validation-merror:0.48145\u001b[0m\n",
      "\u001b[34m[13]#011train-merror:0.36261#011validation-merror:0.47883\u001b[0m\n",
      "\u001b[34m[14]#011train-merror:0.35924#011validation-merror:0.47655\u001b[0m\n",
      "\u001b[34m[15]#011train-merror:0.35516#011validation-merror:0.47342\u001b[0m\n",
      "\u001b[34m[16]#011train-merror:0.35300#011validation-merror:0.47368\u001b[0m\n",
      "\u001b[34m[17]#011train-merror:0.34996#011validation-merror:0.47190\u001b[0m\n",
      "\u001b[34m[18]#011train-merror:0.34675#011validation-merror:0.47055\u001b[0m\n",
      "\u001b[34m[19]#011train-merror:0.34371#011validation-merror:0.46920\u001b[0m\n",
      "\u001b[34m[20]#011train-merror:0.34180#011validation-merror:0.46725\u001b[0m\n",
      "\u001b[34m[21]#011train-merror:0.33876#011validation-merror:0.46539\u001b[0m\n",
      "\u001b[34m[22]#011train-merror:0.33738#011validation-merror:0.46489\u001b[0m\n",
      "\u001b[34m[23]#011train-merror:0.33410#011validation-merror:0.46379\u001b[0m\n",
      "\u001b[34m[24]#011train-merror:0.33176#011validation-merror:0.46168\u001b[0m\n",
      "\u001b[34m[25]#011train-merror:0.32964#011validation-merror:0.46142\u001b[0m\n",
      "\u001b[34m[26]#011train-merror:0.32852#011validation-merror:0.46049\u001b[0m\n",
      "\u001b[34m[27]#011train-merror:0.32619#011validation-merror:0.46058\u001b[0m\n",
      "\u001b[34m[28]#011train-merror:0.32440#011validation-merror:0.45931\u001b[0m\n",
      "\u001b[34m[29]#011train-merror:0.32286#011validation-merror:0.45804\u001b[0m\n",
      "\u001b[34m[30]#011train-merror:0.32194#011validation-merror:0.45703\u001b[0m\n",
      "\u001b[34m[31]#011train-merror:0.31965#011validation-merror:0.45593\u001b[0m\n",
      "\u001b[34m[32]#011train-merror:0.31657#011validation-merror:0.45475\u001b[0m\n",
      "\u001b[34m[33]#011train-merror:0.31474#011validation-merror:0.45441\u001b[0m\n",
      "\u001b[34m[34]#011train-merror:0.31341#011validation-merror:0.45491\u001b[0m\n",
      "\u001b[34m[35]#011train-merror:0.31253#011validation-merror:0.45331\u001b[0m\n",
      "\u001b[34m[36]#011train-merror:0.31099#011validation-merror:0.45415\u001b[0m\n",
      "\u001b[34m[37]#011train-merror:0.30937#011validation-merror:0.45162\u001b[0m\n",
      "\u001b[34m[38]#011train-merror:0.30829#011validation-merror:0.45187\u001b[0m\n",
      "\u001b[34m[39]#011train-merror:0.30704#011validation-merror:0.45111\u001b[0m\n",
      "\u001b[34m[40]#011train-merror:0.30521#011validation-merror:0.45069\u001b[0m\n",
      "\u001b[34m[41]#011train-merror:0.30367#011validation-merror:0.45060\u001b[0m\n",
      "\u001b[34m[42]#011train-merror:0.30308#011validation-merror:0.44934\u001b[0m\n",
      "\u001b[34m[43]#011train-merror:0.30134#011validation-merror:0.44934\u001b[0m\n",
      "\u001b[34m[44]#011train-merror:0.30129#011validation-merror:0.44858\u001b[0m\n",
      "\u001b[34m[45]#011train-merror:0.30042#011validation-merror:0.44875\u001b[0m\n",
      "\u001b[34m[46]#011train-merror:0.29963#011validation-merror:0.44798\u001b[0m\n",
      "\u001b[34m[47]#011train-merror:0.29863#011validation-merror:0.44748\u001b[0m\n",
      "\u001b[34m[48]#011train-merror:0.29696#011validation-merror:0.44748\u001b[0m\n",
      "\u001b[34m[49]#011train-merror:0.29651#011validation-merror:0.44596\u001b[0m\n",
      "\u001b[34m[50]#011train-merror:0.29497#011validation-merror:0.44545\u001b[0m\n",
      "\u001b[34m[51]#011train-merror:0.29397#011validation-merror:0.44528\u001b[0m\n",
      "\u001b[34m[52]#011train-merror:0.29272#011validation-merror:0.44494\u001b[0m\n",
      "\u001b[34m[53]#011train-merror:0.29143#011validation-merror:0.44486\u001b[0m\n",
      "\u001b[34m[54]#011train-merror:0.29030#011validation-merror:0.44469\u001b[0m\n",
      "\u001b[34m[55]#011train-merror:0.28922#011validation-merror:0.44342\u001b[0m\n",
      "\u001b[34m[56]#011train-merror:0.28806#011validation-merror:0.44325\u001b[0m\n",
      "\u001b[34m[57]#011train-merror:0.28760#011validation-merror:0.44224\u001b[0m\n",
      "\u001b[34m[58]#011train-merror:0.28673#011validation-merror:0.44232\u001b[0m\n",
      "\u001b[34m[59]#011train-merror:0.28639#011validation-merror:0.44148\u001b[0m\n",
      "\u001b[34m[60]#011train-merror:0.28627#011validation-merror:0.44038\u001b[0m\n",
      "\u001b[34m[61]#011train-merror:0.28552#011validation-merror:0.44097\u001b[0m\n",
      "\u001b[34m[62]#011train-merror:0.28489#011validation-merror:0.44173\u001b[0m\n",
      "\u001b[34m[63]#011train-merror:0.28348#011validation-merror:0.44122\u001b[0m\n",
      "\u001b[34m[64]#011train-merror:0.28290#011validation-merror:0.44055\u001b[0m\n",
      "\u001b[34m[65]#011train-merror:0.28244#011validation-merror:0.44029\u001b[0m\n",
      "\u001b[34m[66]#011train-merror:0.28198#011validation-merror:0.43987\u001b[0m\n",
      "\u001b[34m[67]#011train-merror:0.28111#011validation-merror:0.43936\u001b[0m\n",
      "\u001b[34m[68]#011train-merror:0.28031#011validation-merror:0.44012\u001b[0m\n",
      "\u001b[34m[69]#011train-merror:0.28007#011validation-merror:0.43928\u001b[0m\n",
      "\u001b[34m[70]#011train-merror:0.27998#011validation-merror:0.43877\u001b[0m\n",
      "\u001b[34m[71]#011train-merror:0.27923#011validation-merror:0.43835\u001b[0m\n",
      "\u001b[34m[72]#011train-merror:0.27819#011validation-merror:0.43827\u001b[0m\n",
      "\u001b[34m[73]#011train-merror:0.27803#011validation-merror:0.43801\u001b[0m\n",
      "\u001b[34m[74]#011train-merror:0.27757#011validation-merror:0.43810\u001b[0m\n",
      "\u001b[34m[75]#011train-merror:0.27740#011validation-merror:0.43734\u001b[0m\n",
      "\u001b[34m[76]#011train-merror:0.27661#011validation-merror:0.43750\u001b[0m\n",
      "\u001b[34m[77]#011train-merror:0.27603#011validation-merror:0.43750\u001b[0m\n",
      "\u001b[34m[78]#011train-merror:0.27557#011validation-merror:0.43717\u001b[0m\n",
      "\u001b[34m[79]#011train-merror:0.27494#011validation-merror:0.43691\u001b[0m\n",
      "\u001b[34m[80]#011train-merror:0.27449#011validation-merror:0.43666\u001b[0m\n",
      "\u001b[34m[81]#011train-merror:0.27436#011validation-merror:0.43700\u001b[0m\n",
      "\u001b[34m[82]#011train-merror:0.27382#011validation-merror:0.43674\u001b[0m\n",
      "\u001b[34m[83]#011train-merror:0.27353#011validation-merror:0.43615\u001b[0m\n",
      "\u001b[34m[84]#011train-merror:0.27357#011validation-merror:0.43582\u001b[0m\n",
      "\u001b[34m[85]#011train-merror:0.27324#011validation-merror:0.43522\u001b[0m\n",
      "\u001b[34m[86]#011train-merror:0.27295#011validation-merror:0.43548\u001b[0m\n",
      "\u001b[34m[87]#011train-merror:0.27274#011validation-merror:0.43548\u001b[0m\n",
      "\u001b[34m[88]#011train-merror:0.27228#011validation-merror:0.43539\u001b[0m\n",
      "\u001b[34m[89]#011train-merror:0.27220#011validation-merror:0.43539\u001b[0m\n",
      "\u001b[34m[90]#011train-merror:0.27186#011validation-merror:0.43548\u001b[0m\n",
      "\u001b[34m[91]#011train-merror:0.27157#011validation-merror:0.43497\u001b[0m\n",
      "\u001b[34m[92]#011train-merror:0.27111#011validation-merror:0.43497\u001b[0m\n",
      "\u001b[34m[93]#011train-merror:0.27074#011validation-merror:0.43472\u001b[0m\n",
      "\u001b[34m[94]#011train-merror:0.27066#011validation-merror:0.43463\u001b[0m\n",
      "\u001b[34m[95]#011train-merror:0.27028#011validation-merror:0.43404\u001b[0m\n",
      "\u001b[34m[96]#011train-merror:0.27049#011validation-merror:0.43421\u001b[0m\n",
      "\u001b[34m[97]#011train-merror:0.27003#011validation-merror:0.43379\u001b[0m\n",
      "\u001b[34m[98]#011train-merror:0.27012#011validation-merror:0.43379\u001b[0m\n",
      "\u001b[34m[99]#011train-merror:0.26987#011validation-merror:0.43396\u001b[0m\n",
      "\u001b[34m[100]#011train-merror:0.27008#011validation-merror:0.43421\u001b[0m\n",
      "\u001b[34m[101]#011train-merror:0.26974#011validation-merror:0.43404\u001b[0m\n",
      "\u001b[34m[102]#011train-merror:0.26970#011validation-merror:0.43429\u001b[0m\n",
      "\u001b[34m[103]#011train-merror:0.26962#011validation-merror:0.43438\u001b[0m\n",
      "\u001b[34m[104]#011train-merror:0.26966#011validation-merror:0.43412\u001b[0m\n",
      "\u001b[34m[105]#011train-merror:0.26949#011validation-merror:0.43387\u001b[0m\n",
      "\u001b[34m[106]#011train-merror:0.26941#011validation-merror:0.43387\u001b[0m\n",
      "\u001b[34m[107]#011train-merror:0.26908#011validation-merror:0.43353\u001b[0m\n",
      "\u001b[34m[108]#011train-merror:0.26912#011validation-merror:0.43362\u001b[0m\n",
      "\u001b[34m[109]#011train-merror:0.26899#011validation-merror:0.43362\u001b[0m\n",
      "\u001b[34m[110]#011train-merror:0.26891#011validation-merror:0.43353\u001b[0m\n",
      "\u001b[34m[111]#011train-merror:0.26862#011validation-merror:0.43336\u001b[0m\n",
      "\u001b[34m[112]#011train-merror:0.26874#011validation-merror:0.43328\u001b[0m\n",
      "\u001b[34m[113]#011train-merror:0.26837#011validation-merror:0.43362\u001b[0m\n",
      "\u001b[34m[114]#011train-merror:0.26820#011validation-merror:0.43303\u001b[0m\n",
      "\u001b[34m[115]#011train-merror:0.26816#011validation-merror:0.43319\u001b[0m\n",
      "\u001b[34m[116]#011train-merror:0.26808#011validation-merror:0.43311\u001b[0m\n",
      "\u001b[34m[117]#011train-merror:0.26812#011validation-merror:0.43336\u001b[0m\n",
      "\u001b[34m[118]#011train-merror:0.26799#011validation-merror:0.43353\u001b[0m\n",
      "\u001b[34m[119]#011train-merror:0.26770#011validation-merror:0.43345\u001b[0m\n",
      "\u001b[34m[120]#011train-merror:0.26770#011validation-merror:0.43328\u001b[0m\n",
      "\u001b[34m[121]#011train-merror:0.26762#011validation-merror:0.43336\u001b[0m\n",
      "\u001b[34m[122]#011train-merror:0.26733#011validation-merror:0.43328\u001b[0m\n",
      "\u001b[34m[123]#011train-merror:0.26741#011validation-merror:0.43370\u001b[0m\n",
      "\u001b[34m[124]#011train-merror:0.26724#011validation-merror:0.43336\u001b[0m\n",
      "\u001b[34m[125]#011train-merror:0.26724#011validation-merror:0.43345\u001b[0m\n",
      "\u001b[34m[126]#011train-merror:0.26724#011validation-merror:0.43336\u001b[0m\n",
      "\u001b[34m[127]#011train-merror:0.26704#011validation-merror:0.43294\u001b[0m\n",
      "\u001b[34m[128]#011train-merror:0.26704#011validation-merror:0.43311\u001b[0m\n",
      "\u001b[34m[129]#011train-merror:0.26716#011validation-merror:0.43277\u001b[0m\n",
      "\u001b[34m[130]#011train-merror:0.26712#011validation-merror:0.43294\u001b[0m\n",
      "\u001b[34m[131]#011train-merror:0.26708#011validation-merror:0.43319\u001b[0m\n",
      "\u001b[34m[132]#011train-merror:0.26716#011validation-merror:0.43311\u001b[0m\n",
      "\u001b[34m[133]#011train-merror:0.26729#011validation-merror:0.43319\u001b[0m\n",
      "\u001b[34m[134]#011train-merror:0.26724#011validation-merror:0.43277\u001b[0m\n",
      "\u001b[34m[135]#011train-merror:0.26724#011validation-merror:0.43294\u001b[0m\n",
      "\u001b[34m[136]#011train-merror:0.26729#011validation-merror:0.43294\u001b[0m\n",
      "\u001b[34m[137]#011train-merror:0.26724#011validation-merror:0.43303\u001b[0m\n",
      "\u001b[34m[138]#011train-merror:0.26733#011validation-merror:0.43303\u001b[0m\n",
      "\u001b[34m[139]#011train-merror:0.26737#011validation-merror:0.43311\u001b[0m\n",
      "\u001b[34m[140]#011train-merror:0.26745#011validation-merror:0.43319\u001b[0m\n",
      "\u001b[34m[141]#011train-merror:0.26745#011validation-merror:0.43319\u001b[0m\n",
      "\u001b[34m[142]#011train-merror:0.26741#011validation-merror:0.43328\u001b[0m\n",
      "\u001b[34m[143]#011train-merror:0.26741#011validation-merror:0.43328\u001b[0m\n",
      "\u001b[34m[144]#011train-merror:0.26745#011validation-merror:0.43328\u001b[0m\n",
      "\u001b[34m[145]#011train-merror:0.26749#011validation-merror:0.43328\u001b[0m\n",
      "\u001b[34m[146]#011train-merror:0.26749#011validation-merror:0.43328\u001b[0m\n",
      "\u001b[34m[147]#011train-merror:0.26741#011validation-merror:0.43286\u001b[0m\n",
      "\u001b[34m[148]#011train-merror:0.26733#011validation-merror:0.43294\u001b[0m\n",
      "\u001b[34m[149]#011train-merror:0.26724#011validation-merror:0.43269\u001b[0m\n",
      "\u001b[34m[150]#011train-merror:0.26712#011validation-merror:0.43260\u001b[0m\n",
      "\u001b[34m[151]#011train-merror:0.26716#011validation-merror:0.43260\u001b[0m\n",
      "\u001b[34m[152]#011train-merror:0.26704#011validation-merror:0.43286\u001b[0m\n",
      "\u001b[34m[153]#011train-merror:0.26712#011validation-merror:0.43286\u001b[0m\n",
      "\u001b[34m[154]#011train-merror:0.26699#011validation-merror:0.43277\u001b[0m\n",
      "\u001b[34m[155]#011train-merror:0.26716#011validation-merror:0.43286\u001b[0m\n",
      "\u001b[34m[156]#011train-merror:0.26699#011validation-merror:0.43286\u001b[0m\n",
      "\u001b[34m[157]#011train-merror:0.26695#011validation-merror:0.43244\u001b[0m\n",
      "\u001b[34m[158]#011train-merror:0.26699#011validation-merror:0.43244\u001b[0m\n",
      "\u001b[34m[159]#011train-merror:0.26699#011validation-merror:0.43244\u001b[0m\n",
      "\u001b[34m[160]#011train-merror:0.26695#011validation-merror:0.43244\u001b[0m\n",
      "\u001b[34m[161]#011train-merror:0.26691#011validation-merror:0.43244\u001b[0m\n",
      "\u001b[34m[162]#011train-merror:0.26687#011validation-merror:0.43244\u001b[0m\n",
      "\u001b[34m[163]#011train-merror:0.26687#011validation-merror:0.43235\u001b[0m\n",
      "\u001b[34m[164]#011train-merror:0.26683#011validation-merror:0.43227\u001b[0m\n",
      "\u001b[34m[165]#011train-merror:0.26683#011validation-merror:0.43227\u001b[0m\n",
      "\u001b[34m[166]#011train-merror:0.26683#011validation-merror:0.43227\u001b[0m\n",
      "\u001b[34m[167]#011train-merror:0.26683#011validation-merror:0.43235\u001b[0m\n",
      "\u001b[34m[168]#011train-merror:0.26695#011validation-merror:0.43235\u001b[0m\n",
      "\u001b[34m[169]#011train-merror:0.26695#011validation-merror:0.43210\u001b[0m\n",
      "\u001b[34m[170]#011train-merror:0.26683#011validation-merror:0.43235\u001b[0m\n",
      "\u001b[34m[171]#011train-merror:0.26691#011validation-merror:0.43235\u001b[0m\n",
      "\u001b[34m[172]#011train-merror:0.26674#011validation-merror:0.43218\u001b[0m\n",
      "\u001b[34m[173]#011train-merror:0.26674#011validation-merror:0.43227\u001b[0m\n",
      "\u001b[34m[174]#011train-merror:0.26670#011validation-merror:0.43227\u001b[0m\n",
      "\u001b[34m[175]#011train-merror:0.26670#011validation-merror:0.43227\u001b[0m\n",
      "\u001b[34m[176]#011train-merror:0.26670#011validation-merror:0.43235\u001b[0m\n",
      "\u001b[34m[177]#011train-merror:0.26654#011validation-merror:0.43235\u001b[0m\n",
      "\u001b[34m[178]#011train-merror:0.26654#011validation-merror:0.43218\u001b[0m\n",
      "\u001b[34m[179]#011train-merror:0.26649#011validation-merror:0.43210\u001b[0m\n",
      "\u001b[34m[180]#011train-merror:0.26654#011validation-merror:0.43244\u001b[0m\n",
      "\u001b[34m[181]#011train-merror:0.26654#011validation-merror:0.43227\u001b[0m\n",
      "\u001b[34m[182]#011train-merror:0.26654#011validation-merror:0.43227\u001b[0m\n",
      "\u001b[34m[183]#011train-merror:0.26649#011validation-merror:0.43227\u001b[0m\n",
      "\u001b[34m[184]#011train-merror:0.26645#011validation-merror:0.43227\u001b[0m\n",
      "\u001b[34m[185]#011train-merror:0.26645#011validation-merror:0.43227\u001b[0m\n",
      "\u001b[34m[186]#011train-merror:0.26649#011validation-merror:0.43227\u001b[0m\n",
      "\u001b[34m[187]#011train-merror:0.26649#011validation-merror:0.43227\u001b[0m\n",
      "\u001b[34m[188]#011train-merror:0.26658#011validation-merror:0.43210\u001b[0m\n",
      "\u001b[34m[189]#011train-merror:0.26670#011validation-merror:0.43235\u001b[0m\n",
      "\u001b[34m[190]#011train-merror:0.26666#011validation-merror:0.43244\u001b[0m\n",
      "\u001b[34m[191]#011train-merror:0.26662#011validation-merror:0.43227\u001b[0m\n",
      "\u001b[34m[192]#011train-merror:0.26662#011validation-merror:0.43227\u001b[0m\n",
      "\u001b[34m[193]#011train-merror:0.26658#011validation-merror:0.43227\u001b[0m\n",
      "\u001b[34m[194]#011train-merror:0.26658#011validation-merror:0.43227\u001b[0m\n",
      "\u001b[34m[195]#011train-merror:0.26658#011validation-merror:0.43227\u001b[0m\n",
      "\u001b[34m[196]#011train-merror:0.26658#011validation-merror:0.43227\u001b[0m\n",
      "\u001b[34m[197]#011train-merror:0.26662#011validation-merror:0.43227\u001b[0m\n",
      "\u001b[34m[198]#011train-merror:0.26658#011validation-merror:0.43227\u001b[0m\n",
      "\u001b[34m[199]#011train-merror:0.26654#011validation-merror:0.43227\u001b[0m\n",
      "\u001b[34m[200]#011train-merror:0.26654#011validation-merror:0.43227\u001b[0m\n",
      "\u001b[34m[201]#011train-merror:0.26654#011validation-merror:0.43227\u001b[0m\n",
      "\u001b[34m[202]#011train-merror:0.26654#011validation-merror:0.43227\u001b[0m\n",
      "\u001b[34m[203]#011train-merror:0.26649#011validation-merror:0.43227\u001b[0m\n",
      "\u001b[34m[204]#011train-merror:0.26649#011validation-merror:0.43227\u001b[0m\n",
      "\u001b[34m[205]#011train-merror:0.26649#011validation-merror:0.43227\u001b[0m\n",
      "\u001b[34m[206]#011train-merror:0.26649#011validation-merror:0.43227\u001b[0m\n",
      "\u001b[34m[207]#011train-merror:0.26649#011validation-merror:0.43227\u001b[0m\n",
      "\u001b[34m[208]#011train-merror:0.26649#011validation-merror:0.43227\u001b[0m\n",
      "\u001b[34m[209]#011train-merror:0.26649#011validation-merror:0.43244\u001b[0m\n",
      "\u001b[34m[210]#011train-merror:0.26649#011validation-merror:0.43244\u001b[0m\n",
      "\u001b[34m[211]#011train-merror:0.26645#011validation-merror:0.43244\u001b[0m\n",
      "\u001b[34m[212]#011train-merror:0.26645#011validation-merror:0.43235\u001b[0m\n",
      "\u001b[34m[213]#011train-merror:0.26645#011validation-merror:0.43235\u001b[0m\n",
      "\u001b[34m[214]#011train-merror:0.26649#011validation-merror:0.43227\u001b[0m\n",
      "\u001b[34m[215]#011train-merror:0.26649#011validation-merror:0.43218\u001b[0m\n",
      "\u001b[34m[216]#011train-merror:0.26649#011validation-merror:0.43218\u001b[0m\n",
      "\u001b[34m[217]#011train-merror:0.26649#011validation-merror:0.43218\u001b[0m\n",
      "\u001b[34m[218]#011train-merror:0.26649#011validation-merror:0.43218\u001b[0m\n",
      "\u001b[34m[219]#011train-merror:0.26649#011validation-merror:0.43210\u001b[0m\n",
      "\u001b[34m[220]#011train-merror:0.26649#011validation-merror:0.43210\u001b[0m\n",
      "\u001b[34m[221]#011train-merror:0.26658#011validation-merror:0.43210\u001b[0m\n",
      "\u001b[34m[222]#011train-merror:0.26658#011validation-merror:0.43210\u001b[0m\n",
      "\u001b[34m[223]#011train-merror:0.26658#011validation-merror:0.43210\u001b[0m\n",
      "\u001b[34m[224]#011train-merror:0.26662#011validation-merror:0.43210\u001b[0m\n",
      "\u001b[34m[225]#011train-merror:0.26662#011validation-merror:0.43210\u001b[0m\n",
      "\u001b[34m[226]#011train-merror:0.26662#011validation-merror:0.43210\u001b[0m\n",
      "\u001b[34m[227]#011train-merror:0.26662#011validation-merror:0.43210\u001b[0m\n",
      "\u001b[34m[228]#011train-merror:0.26662#011validation-merror:0.43210\u001b[0m\n",
      "\u001b[34m[229]#011train-merror:0.26662#011validation-merror:0.43210\u001b[0m\n",
      "\u001b[34m[230]#011train-merror:0.26662#011validation-merror:0.43210\u001b[0m\n",
      "\u001b[34m[231]#011train-merror:0.26662#011validation-merror:0.43210\u001b[0m\n",
      "\u001b[34m[232]#011train-merror:0.26662#011validation-merror:0.43210\u001b[0m\n",
      "\u001b[34m[233]#011train-merror:0.26662#011validation-merror:0.43210\u001b[0m\n",
      "\u001b[34m[234]#011train-merror:0.26666#011validation-merror:0.43218\u001b[0m\n",
      "\u001b[34m[235]#011train-merror:0.26666#011validation-merror:0.43218\u001b[0m\n",
      "\u001b[34m[236]#011train-merror:0.26666#011validation-merror:0.43218\u001b[0m\n",
      "\u001b[34m[237]#011train-merror:0.26662#011validation-merror:0.43218\u001b[0m\n",
      "\u001b[34m[238]#011train-merror:0.26662#011validation-merror:0.43218\u001b[0m\n",
      "\u001b[34m[239]#011train-merror:0.26666#011validation-merror:0.43218\u001b[0m\n",
      "\u001b[34m[240]#011train-merror:0.26666#011validation-merror:0.43218\u001b[0m\n",
      "\u001b[34m[241]#011train-merror:0.26666#011validation-merror:0.43218\u001b[0m\n",
      "\u001b[34m[242]#011train-merror:0.26670#011validation-merror:0.43218\u001b[0m\n",
      "\u001b[34m[243]#011train-merror:0.26674#011validation-merror:0.43218\u001b[0m\n",
      "\u001b[34m[244]#011train-merror:0.26674#011validation-merror:0.43218\u001b[0m\n",
      "\u001b[34m[245]#011train-merror:0.26674#011validation-merror:0.43218\u001b[0m\n",
      "\u001b[34m[246]#011train-merror:0.26674#011validation-merror:0.43218\u001b[0m\n",
      "\u001b[34m[247]#011train-merror:0.26674#011validation-merror:0.43218\u001b[0m\n",
      "\u001b[34m[248]#011train-merror:0.26674#011validation-merror:0.43218\u001b[0m\n",
      "\u001b[34m[249]#011train-merror:0.26683#011validation-merror:0.43218\u001b[0m\n",
      "\u001b[34m[250]#011train-merror:0.26683#011validation-merror:0.43218\u001b[0m\n",
      "\u001b[34m[251]#011train-merror:0.26683#011validation-merror:0.43218\u001b[0m\n",
      "\u001b[34m[252]#011train-merror:0.26683#011validation-merror:0.43218\u001b[0m\n",
      "\u001b[34m[253]#011train-merror:0.26683#011validation-merror:0.43218\u001b[0m\n",
      "\u001b[34m[254]#011train-merror:0.26683#011validation-merror:0.43218\u001b[0m\n",
      "\u001b[34m[255]#011train-merror:0.26683#011validation-merror:0.43218\u001b[0m\n",
      "\u001b[34m[256]#011train-merror:0.26683#011validation-merror:0.43218\u001b[0m\n",
      "\u001b[34m[257]#011train-merror:0.26683#011validation-merror:0.43218\u001b[0m\n",
      "\u001b[34m[258]#011train-merror:0.26683#011validation-merror:0.43218\u001b[0m\n",
      "\u001b[34m[259]#011train-merror:0.26683#011validation-merror:0.43218\u001b[0m\n",
      "\u001b[34m[260]#011train-merror:0.26683#011validation-merror:0.43218\u001b[0m\n",
      "\u001b[34m[261]#011train-merror:0.26687#011validation-merror:0.43218\u001b[0m\n",
      "\u001b[34m[262]#011train-merror:0.26687#011validation-merror:0.43218\u001b[0m\n",
      "\u001b[34m[263]#011train-merror:0.26687#011validation-merror:0.43218\u001b[0m\n",
      "\u001b[34m[264]#011train-merror:0.26687#011validation-merror:0.43218\u001b[0m\n",
      "\u001b[34m[265]#011train-merror:0.26687#011validation-merror:0.43218\u001b[0m\n",
      "\u001b[34m[266]#011train-merror:0.26687#011validation-merror:0.43218\u001b[0m\n",
      "\u001b[34m[267]#011train-merror:0.26687#011validation-merror:0.43218\u001b[0m\n",
      "\u001b[34m[268]#011train-merror:0.26687#011validation-merror:0.43218\u001b[0m\n",
      "\u001b[34m[269]#011train-merror:0.26683#011validation-merror:0.43210\u001b[0m\n",
      "\u001b[34m[270]#011train-merror:0.26687#011validation-merror:0.43210\u001b[0m\n",
      "\u001b[34m[271]#011train-merror:0.26687#011validation-merror:0.43210\u001b[0m\n",
      "\u001b[34m[272]#011train-merror:0.26687#011validation-merror:0.43210\u001b[0m\n",
      "\u001b[34m[273]#011train-merror:0.26683#011validation-merror:0.43201\u001b[0m\n",
      "\u001b[34m[274]#011train-merror:0.26683#011validation-merror:0.43201\u001b[0m\n",
      "\u001b[34m[275]#011train-merror:0.26683#011validation-merror:0.43201\u001b[0m\n",
      "\u001b[34m[276]#011train-merror:0.26683#011validation-merror:0.43201\u001b[0m\n",
      "\u001b[34m[277]#011train-merror:0.26683#011validation-merror:0.43201\u001b[0m\n",
      "\u001b[34m[278]#011train-merror:0.26683#011validation-merror:0.43201\u001b[0m\n",
      "\u001b[34m[279]#011train-merror:0.26683#011validation-merror:0.43201\u001b[0m\n",
      "\u001b[34m[280]#011train-merror:0.26683#011validation-merror:0.43201\u001b[0m\n",
      "\u001b[34m[281]#011train-merror:0.26683#011validation-merror:0.43201\u001b[0m\n",
      "\u001b[34m[282]#011train-merror:0.26683#011validation-merror:0.43201\u001b[0m\n",
      "\u001b[34m[283]#011train-merror:0.26683#011validation-merror:0.43201\u001b[0m\n",
      "\u001b[34m[284]#011train-merror:0.26683#011validation-merror:0.43201\u001b[0m\n",
      "\u001b[34m[285]#011train-merror:0.26683#011validation-merror:0.43201\u001b[0m\n",
      "\u001b[34m[286]#011train-merror:0.26683#011validation-merror:0.43201\u001b[0m\n",
      "\u001b[34m[287]#011train-merror:0.26683#011validation-merror:0.43201\u001b[0m\n",
      "\u001b[34m[288]#011train-merror:0.26683#011validation-merror:0.43201\u001b[0m\n",
      "\u001b[34m[289]#011train-merror:0.26683#011validation-merror:0.43201\u001b[0m\n",
      "\u001b[34m[290]#011train-merror:0.26683#011validation-merror:0.43201\u001b[0m\n",
      "\u001b[34m[291]#011train-merror:0.26683#011validation-merror:0.43201\u001b[0m\n",
      "\u001b[34m[292]#011train-merror:0.26683#011validation-merror:0.43201\u001b[0m\n",
      "\u001b[34m[293]#011train-merror:0.26683#011validation-merror:0.43201\u001b[0m\n",
      "\u001b[34m[294]#011train-merror:0.26683#011validation-merror:0.43201\u001b[0m\n",
      "\u001b[34m[295]#011train-merror:0.26683#011validation-merror:0.43201\u001b[0m\n",
      "\u001b[34m[296]#011train-merror:0.26683#011validation-merror:0.43201\u001b[0m\n",
      "\u001b[34m[297]#011train-merror:0.26679#011validation-merror:0.43210\u001b[0m\n",
      "\u001b[34m[298]#011train-merror:0.26679#011validation-merror:0.43210\u001b[0m\n",
      "\u001b[34m[299]#011train-merror:0.26679#011validation-merror:0.43210\u001b[0m\n",
      "\n",
      "2021-08-25 08:37:48 Uploading - Uploading generated training model\n",
      "2021-08-25 08:37:48 Completed - Training job completed\n",
      "Training seconds: 430\n",
      "Billable seconds: 430\n"
     ]
    }
   ],
   "source": [
    "xgb_bi.fit({'train': train_data, 'validation': validation_data })"
   ]
  },
  {
   "cell_type": "markdown",
   "id": "1ba6767a",
   "metadata": {},
   "source": [
    "# We trained our model and now want to test out the predictions"
   ]
  },
  {
   "cell_type": "code",
   "execution_count": 119,
   "id": "918f9ebc",
   "metadata": {},
   "outputs": [
    {
     "name": "stdout",
     "output_type": "stream",
     "text": [
      "-------------!"
     ]
    }
   ],
   "source": [
    "xgb_predictor = xgb_bi.deploy(\n",
    "    initial_instance_count=1, \n",
    "    instance_type='ml.m4.xlarge'\n",
    ")"
   ]
  },
  {
   "cell_type": "code",
   "execution_count": 120,
   "id": "c361080d",
   "metadata": {},
   "outputs": [
    {
     "name": "stdout",
     "output_type": "stream",
     "text": [
      "<sagemaker.predictor.Predictor object at 0x7f4d611ade48>\n"
     ]
    }
   ],
   "source": [
    "print(xgb_predictor)"
   ]
  },
  {
   "cell_type": "code",
   "execution_count": 121,
   "id": "7c0bf65a",
   "metadata": {},
   "outputs": [
    {
     "name": "stdout",
     "output_type": "stream",
     "text": [
      "F1 Score(micro): 56.8\n"
     ]
    }
   ],
   "source": [
    "xgb_predictor.serializer = csv_serializer\n",
    "\n",
    "predictions_test = [ float(xgb_predictor.predict(x).decode('utf-8')) for x in X_test] \n",
    "score = f1_score(y_test,predictions_test,labels=np.unique(y),average='micro')\n",
    "\n",
    "print('F1 Score(micro): %.1f' % (score * 100.0))"
   ]
  },
  {
   "cell_type": "markdown",
   "id": "5aa1aca9",
   "metadata": {},
   "source": [
    "All done, you can delete your endpoint"
   ]
  },
  {
   "cell_type": "code",
   "execution_count": 122,
   "id": "444fcf86",
   "metadata": {},
   "outputs": [],
   "source": [
    "#xgb_predictor.delete_endpoint()"
   ]
  },
  {
   "cell_type": "markdown",
   "id": "9ba8776c",
   "metadata": {},
   "source": [
    "# Next we will test out the FastText native supervised Text classification "
   ]
  },
  {
   "cell_type": "markdown",
   "id": "ec060ad4",
   "metadata": {},
   "source": [
    "In this step, we want to see if the native FastText algorithm is able to do the same but with less hard work.\n",
    "With native FastText, you do not need to tokenize your sentences, and you also do not need to pick vector size as a parameter for the mdoel training. \n",
    "This algorithm will do the work for you behind the scenes. \n",
    "What we do need to do though, is get the data in to the required format which means adding a string of \"__label__\" before the label and then we will concatenate that with the description and title into one field and then present that to the algorithm. \n",
    "\n"
   ]
  },
  {
   "cell_type": "code",
   "execution_count": 123,
   "id": "8db58a6f",
   "metadata": {},
   "outputs": [
    {
     "data": {
      "text/html": [
       "<div>\n",
       "<style scoped>\n",
       "    .dataframe tbody tr th:only-of-type {\n",
       "        vertical-align: middle;\n",
       "    }\n",
       "\n",
       "    .dataframe tbody tr th {\n",
       "        vertical-align: top;\n",
       "    }\n",
       "\n",
       "    .dataframe thead th {\n",
       "        text-align: right;\n",
       "    }\n",
       "</style>\n",
       "<table border=\"1\" class=\"dataframe\">\n",
       "  <thead>\n",
       "    <tr style=\"text-align: right;\">\n",
       "      <th></th>\n",
       "      <th>fastText_label</th>\n",
       "      <th>description_str_token</th>\n",
       "      <th>title_token</th>\n",
       "      <th>token_sentence</th>\n",
       "      <th>untoken</th>\n",
       "      <th>full</th>\n",
       "    </tr>\n",
       "  </thead>\n",
       "  <tbody>\n",
       "    <tr>\n",
       "      <th>0</th>\n",
       "      <td>__label__4</td>\n",
       "      <td>[preschoolgrade, katie, water, phobia, threate...</td>\n",
       "      <td>[katie, cat, makes, splash, good, sports]</td>\n",
       "      <td>[preschoolgrade, katie, water, phobia, threate...</td>\n",
       "      <td>preschoolgrade katie water phobia threatens ex...</td>\n",
       "      <td>__label__4 preschoolgrade katie water phobia t...</td>\n",
       "    </tr>\n",
       "    <tr>\n",
       "      <th>1</th>\n",
       "      <td>__label__1</td>\n",
       "      <td>[brief, biography, focuses, political, career,...</td>\n",
       "      <td>[andrew, jackson]</td>\n",
       "      <td>[brief, biography, focuses, political, career,...</td>\n",
       "      <td>brief biography focuses political career andre...</td>\n",
       "      <td>__label__1 brief biography focuses political c...</td>\n",
       "    </tr>\n",
       "    <tr>\n",
       "      <th>2</th>\n",
       "      <td>__label__17</td>\n",
       "      <td>[racial, class, conflicts, summer, lackluster,...</td>\n",
       "      <td>[water, dancers, novel]</td>\n",
       "      <td>[racial, class, conflicts, summer, lackluster,...</td>\n",
       "      <td>racial class conflicts summer lackluster first...</td>\n",
       "      <td>__label__17 racial class conflicts summer lack...</td>\n",
       "    </tr>\n",
       "    <tr>\n",
       "      <th>3</th>\n",
       "      <td>__label__5</td>\n",
       "      <td>[song, episcopal, bishop, bestselling, author,...</td>\n",
       "      <td>[born, woman, bishop, rethink, birth, jesus]</td>\n",
       "      <td>[song, episcopal, bishop, bestselling, author,...</td>\n",
       "      <td>song episcopal bishop bestselling author rescu...</td>\n",
       "      <td>__label__5 song episcopal bishop bestselling a...</td>\n",
       "    </tr>\n",
       "    <tr>\n",
       "      <th>4</th>\n",
       "      <td>__label__13</td>\n",
       "      <td>[recreates, world, second, fourth, century, ad...</td>\n",
       "      <td>[pagans, christians]</td>\n",
       "      <td>[recreates, world, second, fourth, century, ad...</td>\n",
       "      <td>recreates world second fourth century ad graec...</td>\n",
       "      <td>__label__13 recreates world second fourth cent...</td>\n",
       "    </tr>\n",
       "  </tbody>\n",
       "</table>\n",
       "</div>"
      ],
      "text/plain": [
       "  fastText_label                              description_str_token  \\\n",
       "0     __label__4  [preschoolgrade, katie, water, phobia, threate...   \n",
       "1     __label__1  [brief, biography, focuses, political, career,...   \n",
       "2    __label__17  [racial, class, conflicts, summer, lackluster,...   \n",
       "3     __label__5  [song, episcopal, bishop, bestselling, author,...   \n",
       "4    __label__13  [recreates, world, second, fourth, century, ad...   \n",
       "\n",
       "                                    title_token  \\\n",
       "0     [katie, cat, makes, splash, good, sports]   \n",
       "1                             [andrew, jackson]   \n",
       "2                       [water, dancers, novel]   \n",
       "3  [born, woman, bishop, rethink, birth, jesus]   \n",
       "4                          [pagans, christians]   \n",
       "\n",
       "                                      token_sentence  \\\n",
       "0  [preschoolgrade, katie, water, phobia, threate...   \n",
       "1  [brief, biography, focuses, political, career,...   \n",
       "2  [racial, class, conflicts, summer, lackluster,...   \n",
       "3  [song, episcopal, bishop, bestselling, author,...   \n",
       "4  [recreates, world, second, fourth, century, ad...   \n",
       "\n",
       "                                             untoken  \\\n",
       "0  preschoolgrade katie water phobia threatens ex...   \n",
       "1  brief biography focuses political career andre...   \n",
       "2  racial class conflicts summer lackluster first...   \n",
       "3  song episcopal bishop bestselling author rescu...   \n",
       "4  recreates world second fourth century ad graec...   \n",
       "\n",
       "                                                full  \n",
       "0  __label__4 preschoolgrade katie water phobia t...  \n",
       "1  __label__1 brief biography focuses political c...  \n",
       "2  __label__17 racial class conflicts summer lack...  \n",
       "3  __label__5 song episcopal bishop bestselling a...  \n",
       "4  __label__13 recreates world second fourth cent...  "
      ]
     },
     "execution_count": 123,
     "metadata": {},
     "output_type": "execute_result"
    }
   ],
   "source": [
    "df_fasttext.head()"
   ]
  },
  {
   "cell_type": "markdown",
   "id": "a1e2b6ed",
   "metadata": {},
   "source": [
    "Taken the same index as our test example above to see if the fasttext algo can make the same prediction"
   ]
  },
  {
   "cell_type": "code",
   "execution_count": 124,
   "id": "f55a6afa",
   "metadata": {},
   "outputs": [
    {
     "name": "stdout",
     "output_type": "stream",
     "text": [
      "Collecting fasttext==0.9.1\n",
      "  Downloading fasttext-0.9.1.tar.gz (57 kB)\n",
      "\u001b[K     |████████████████████████████████| 57 kB 7.9 MB/s  eta 0:00:01\n",
      "\u001b[?25hCollecting pybind11>=2.2\n",
      "  Using cached pybind11-2.7.1-py2.py3-none-any.whl (200 kB)\n",
      "Requirement already satisfied: setuptools>=0.7.0 in /home/ec2-user/anaconda3/envs/python3/lib/python3.6/site-packages (from fasttext==0.9.1) (49.6.0.post20210108)\n",
      "Requirement already satisfied: numpy in /home/ec2-user/anaconda3/envs/python3/lib/python3.6/site-packages (from fasttext==0.9.1) (1.19.5)\n",
      "Building wheels for collected packages: fasttext\n",
      "  Building wheel for fasttext (setup.py) ... \u001b[?25ldone\n",
      "\u001b[?25h  Created wheel for fasttext: filename=fasttext-0.9.1-cp36-cp36m-linux_x86_64.whl size=2161606 sha256=4e2e9aba61ecebec602f468e526d1767e0cdb543957fe6271969b34e91ef26c9\n",
      "  Stored in directory: /home/ec2-user/.cache/pip/wheels/ae/e8/a0/03628c77c2e0aa813f067f6d7708a4579d15abf6f45e8716c5\n",
      "Successfully built fasttext\n",
      "Installing collected packages: pybind11, fasttext\n",
      "Successfully installed fasttext-0.9.1 pybind11-2.7.1\n",
      "\u001b[33mWARNING: You are using pip version 21.1.3; however, version 21.2.4 is available.\n",
      "You should consider upgrading via the '/home/ec2-user/anaconda3/envs/python3/bin/python -m pip install --upgrade pip' command.\u001b[0m\n"
     ]
    }
   ],
   "source": [
    "! pip install fasttext==0.9.1"
   ]
  },
  {
   "cell_type": "code",
   "execution_count": 125,
   "id": "9d7efff4",
   "metadata": {},
   "outputs": [],
   "source": [
    "import fasttext"
   ]
  },
  {
   "cell_type": "code",
   "execution_count": 126,
   "id": "95282a11",
   "metadata": {},
   "outputs": [],
   "source": [
    "fasttext_dataset = df_fasttext['full']"
   ]
  },
  {
   "cell_type": "code",
   "execution_count": 127,
   "id": "6f55f021",
   "metadata": {},
   "outputs": [],
   "source": [
    "from sklearn.model_selection import train_test_split\n",
    "\n",
    "train_fasttext_native, val_fasttext_native = train_test_split(fasttext_dataset, test_size=0.33, random_state=42)\n",
    "\n",
    "train_file_name = 'train_books_fasttext_native.csv'\n",
    "valid_file_name = 'valid_books_fasttext_native.csv'\n",
    "train_fasttext_native.to_csv(train_file_name, index=False, header=False)\n",
    "val_fasttext_native.to_csv(valid_file_name, index=False, header=False)"
   ]
  },
  {
   "cell_type": "code",
   "execution_count": 128,
   "id": "85ec3fc8",
   "metadata": {},
   "outputs": [],
   "source": [
    "model_native = fasttext.train_supervised(input=train_file_name, lr=0.1, epoch=50)"
   ]
  },
  {
   "cell_type": "code",
   "execution_count": 129,
   "id": "7b06f816",
   "metadata": {},
   "outputs": [],
   "source": [
    "modelwordGram = fasttext.train_supervised(input=train_file_name, lr=0.1, epoch=50, wordNgrams=2)"
   ]
  },
  {
   "cell_type": "markdown",
   "id": "9be815ca",
   "metadata": {},
   "source": [
    "### We will run a simple test with the validation data, we are returned the precision and recall, and we can play with the hyperparameters to tune this "
   ]
  },
  {
   "cell_type": "code",
   "execution_count": 130,
   "id": "fd777db2",
   "metadata": {},
   "outputs": [
    {
     "name": "stdout",
     "output_type": "stream",
     "text": [
      "(11833, 0.6220738612355278, 0.6220738612355278)\n"
     ]
    }
   ],
   "source": [
    "FastText_Precision_Recall = model_native.test(valid_file_name, k=1)\n",
    "print(FastText_Precision_Recall)"
   ]
  },
  {
   "cell_type": "code",
   "execution_count": 131,
   "id": "a1790aa4",
   "metadata": {},
   "outputs": [
    {
     "name": "stdout",
     "output_type": "stream",
     "text": [
      "F1 Score(micro): 62.2\n"
     ]
    }
   ],
   "source": [
    "f1_score = 2*((FastText_Precision_Recall[1]*FastText_Precision_Recall[2])/(FastText_Precision_Recall[1]+FastText_Precision_Recall[2]))\n",
    "print('F1 Score(micro): %.1f' % (f1_score * 100.0))"
   ]
  },
  {
   "cell_type": "code",
   "execution_count": 132,
   "id": "a51aa060",
   "metadata": {},
   "outputs": [
    {
     "data": {
      "text/html": [
       "<div>\n",
       "<style scoped>\n",
       "    .dataframe tbody tr th:only-of-type {\n",
       "        vertical-align: middle;\n",
       "    }\n",
       "\n",
       "    .dataframe tbody tr th {\n",
       "        vertical-align: top;\n",
       "    }\n",
       "\n",
       "    .dataframe thead th {\n",
       "        text-align: right;\n",
       "    }\n",
       "</style>\n",
       "<table border=\"1\" class=\"dataframe\">\n",
       "  <thead>\n",
       "    <tr style=\"text-align: right;\">\n",
       "      <th></th>\n",
       "      <th>__label__1 new york times fashion critic horn teamed quintessential american designer class write memoir finished weeks death june year nonlinear formatblass skips telling prize designing gingham dress patent leather belt fashion show fort wayne ind back role serving armed forces wwiithe book feel scrapbook memories indeed delightful one considers colorful life class led originally midwest moved new york age eventually became one fashions biggest names written first person peppered snapshots class pat buckle nancy kissinger nancy reagan gloria vanderbilt others blasts memoir tribute designer writes typical american success storycopyright reed business information inc name class signifies bestmade clothes america appears many products including mens wear bed lines blue jeans bill class limited founded seventh avenue business continues today lifetime class recipient numerous industry public service awards trustee new york public library began longawaited memoir bare class completed shortly death june bare class</th>\n",
       "    </tr>\n",
       "  </thead>\n",
       "  <tbody>\n",
       "    <tr>\n",
       "      <th>0</th>\n",
       "      <td>__label__1 supermodel dickinson waste time sug...</td>\n",
       "    </tr>\n",
       "    <tr>\n",
       "      <th>1</th>\n",
       "      <td>__label__17 poet childrens book author former ...</td>\n",
       "    </tr>\n",
       "    <tr>\n",
       "      <th>2</th>\n",
       "      <td>__label__10 leaders want light entrepreneurial...</td>\n",
       "    </tr>\n",
       "    <tr>\n",
       "      <th>3</th>\n",
       "      <td>__label__2 isnt much know maintaining positive...</td>\n",
       "    </tr>\n",
       "    <tr>\n",
       "      <th>4</th>\n",
       "      <td>__label__4 grade scored hits five dont know mu...</td>\n",
       "    </tr>\n",
       "  </tbody>\n",
       "</table>\n",
       "</div>"
      ],
      "text/plain": [
       "  __label__1 new york times fashion critic horn teamed quintessential american designer class write memoir finished weeks death june year nonlinear formatblass skips telling prize designing gingham dress patent leather belt fashion show fort wayne ind back role serving armed forces wwiithe book feel scrapbook memories indeed delightful one considers colorful life class led originally midwest moved new york age eventually became one fashions biggest names written first person peppered snapshots class pat buckle nancy kissinger nancy reagan gloria vanderbilt others blasts memoir tribute designer writes typical american success storycopyright reed business information inc name class signifies bestmade clothes america appears many products including mens wear bed lines blue jeans bill class limited founded seventh avenue business continues today lifetime class recipient numerous industry public service awards trustee new york public library began longawaited memoir bare class completed shortly death june bare class\n",
       "0  __label__1 supermodel dickinson waste time sug...                                                                                                                                                                                                                                                                                                                                                                                                                                                                                                                                                                                                                                                                                                                                                                                                                                                                                                                                                                                                              \n",
       "1  __label__17 poet childrens book author former ...                                                                                                                                                                                                                                                                                                                                                                                                                                                                                                                                                                                                                                                                                                                                                                                                                                                                                                                                                                                                              \n",
       "2  __label__10 leaders want light entrepreneurial...                                                                                                                                                                                                                                                                                                                                                                                                                                                                                                                                                                                                                                                                                                                                                                                                                                                                                                                                                                                                              \n",
       "3  __label__2 isnt much know maintaining positive...                                                                                                                                                                                                                                                                                                                                                                                                                                                                                                                                                                                                                                                                                                                                                                                                                                                                                                                                                                                                              \n",
       "4  __label__4 grade scored hits five dont know mu...                                                                                                                                                                                                                                                                                                                                                                                                                                                                                                                                                                                                                                                                                                                                                                                                                                                                                                                                                                                                              "
      ]
     },
     "execution_count": 132,
     "metadata": {},
     "output_type": "execute_result"
    }
   ],
   "source": [
    "df_valid_ft= pd.read_csv(valid_file_name)\n",
    "df_valid_ft.head()"
   ]
  },
  {
   "cell_type": "code",
   "execution_count": 133,
   "id": "66206cfe",
   "metadata": {},
   "outputs": [
    {
     "data": {
      "text/plain": [
       "0    preschoolgrade when katies water phobia threat...\n",
       "1    this brief biography focuses more on the polit...\n",
       "2    racial and class conflicts simmer in this lack...\n",
       "3    spong an episcopal bishop and bestselling auth...\n",
       "4    recreates the world from the second to the fou...\n",
       "dtype: object"
      ]
     },
     "execution_count": 133,
     "metadata": {},
     "output_type": "execute_result"
    }
   ],
   "source": [
    "fasttext_sample_validation = data_subset_2['description_str'] + data_subset_2['title']\n",
    "fasttext_sample_validation.head()"
   ]
  },
  {
   "cell_type": "markdown",
   "id": "e39ddb95",
   "metadata": {},
   "source": [
    "## Test the prediction versus what we got with the xgb classifer"
   ]
  },
  {
   "cell_type": "code",
   "execution_count": 134,
   "id": "cb500e0a",
   "metadata": {},
   "outputs": [
    {
     "data": {
      "text/plain": [
       "(('__label__1',), array([0.69193423]))"
      ]
     },
     "execution_count": 134,
     "metadata": {},
     "output_type": "execute_result"
    }
   ],
   "source": [
    "model_native.predict(fasttext_sample_validation[1], k=1)"
   ]
  },
  {
   "cell_type": "code",
   "execution_count": 135,
   "id": "76321f92",
   "metadata": {},
   "outputs": [
    {
     "data": {
      "text/plain": [
       "(('__label__1',), array([0.61193895]))"
      ]
     },
     "execution_count": 135,
     "metadata": {},
     "output_type": "execute_result"
    }
   ],
   "source": [
    "modelwordGram.predict(fasttext_sample_validation[1], k=1)"
   ]
  },
  {
   "cell_type": "markdown",
   "id": "55f19d08",
   "metadata": {},
   "source": [
    "We can host our model on SageMaker. Blazing Text built-in algorithm is compatible with Fasttext's models, so we can upload the fastText model to S3 and then point a SageMaker endpoint configuration to this model, and then deploy our endpoint"
   ]
  },
  {
   "cell_type": "code",
   "execution_count": 136,
   "id": "bf9c169d",
   "metadata": {},
   "outputs": [],
   "source": [
    "model_filename = \"books_fasttext_native.bin\"\n",
    "model_native.save_model(model_filename)"
   ]
  },
  {
   "cell_type": "code",
   "execution_count": 137,
   "id": "0fccadf7",
   "metadata": {},
   "outputs": [],
   "source": [
    "from time import gmtime, strftime\n"
   ]
  },
  {
   "cell_type": "code",
   "execution_count": 138,
   "id": "bc2cf759",
   "metadata": {},
   "outputs": [
    {
     "name": "stdout",
     "output_type": "stream",
     "text": [
      "books_fasttext_native.bin\n",
      "rm: cannot remove ‘books_fasttext_native.tar.gz’: No such file or directory\n"
     ]
    }
   ],
   "source": [
    "!tar -czvf model.tar.gz books_fasttext_native.bin\n",
    "model_location = sagemaker_session.upload_data(\"model.tar.gz\", bucket=bucket, key_prefix=f\"fasttext/model-{strftime('%Y-%m-%d-%H-%M-%S', gmtime())}/output\")\n",
    "!rm books_fasttext_native.tar.gz books_fasttext_native.bin"
   ]
  },
  {
   "cell_type": "code",
   "execution_count": 139,
   "id": "7765a63e",
   "metadata": {},
   "outputs": [
    {
     "name": "stdout",
     "output_type": "stream",
     "text": [
      "Using SageMaker BlazingText container: 685385470294.dkr.ecr.eu-west-1.amazonaws.com/blazingtext:1 (eu-west-1)\n"
     ]
    }
   ],
   "source": [
    "container = sagemaker.image_uris.retrieve(\"blazingtext\",boto3.Session().region_name,  \"1\")\n",
    "print('Using SageMaker BlazingText container: {} ({})'.format(container, boto3.Session().region_name))"
   ]
  },
  {
   "cell_type": "markdown",
   "id": "a701e8bc",
   "metadata": {},
   "source": [
    "# Deploy endpoint in SageMaker"
   ]
  },
  {
   "cell_type": "markdown",
   "id": "19cd8dc9",
   "metadata": {},
   "source": [
    "Blazing text is compatiable with fasttext models such that you can train the fasttext model wherever you want, and then you can push the model to S3 in the required format, i.e. saved as a .tar.gz file and then can deploy the model in SageMaker to take care of the heavy lifting."
   ]
  },
  {
   "cell_type": "code",
   "execution_count": 140,
   "id": "3a4e08a6",
   "metadata": {},
   "outputs": [
    {
     "name": "stdout",
     "output_type": "stream",
     "text": [
      "-------------!"
     ]
    }
   ],
   "source": [
    "#use blazing text container and the fasttext model\n",
    "model_fastText_book = sagemaker.Model(\n",
    "    model_data=model_location, \n",
    "    image_uri=container, \n",
    "    role=role, \n",
    "    sagemaker_session=sagemaker_session)\n",
    "\n",
    "#\n",
    "\n",
    "model_fastText_book.deploy(\n",
    "    initial_instance_count = 1,\n",
    "    instance_type = 'ml.m4.xlarge')\n",
    "\n",
    "from sagemaker.deserializers import JSONDeserializer\n",
    "from sagemaker.serializers import JSONSerializer\n",
    "\n",
    "predictor = sagemaker.Predictor(\n",
    "    endpoint_name=model_fastText_book.endpoint_name,\n",
    "    sagemaker_session=sagemaker_session,\n",
    "    serializer=JSONSerializer(),\n",
    "    deserializer=JSONDeserializer(),\n",
    ")\n"
   ]
  },
  {
   "cell_type": "code",
   "execution_count": 141,
   "id": "e356fee2",
   "metadata": {},
   "outputs": [
    {
     "data": {
      "text/plain": [
       "'this brief biography focuses more on the political career of andrew jackson than on his military heroism at the battle of new orleans in the war of  it nevertheless provides an overview of the martial events that made jacksons rise to the presidency possible robert remini is widely touted as one of the great historians of the jacksonian era and andrew jackson is his most accessible book on the periods most intriguing figure the best biography of andrew jackson available it summarizes adequately the best of the old scholarship while at the same time branching off to offer significant new interpretations of crucial points  library journalin this concise and wellwritten biography robert v remini has a more ambitious objective than merely recounting the life of a famous manhe portrays the president not as a symbol of the age nor a personification of proletarian striving but as a shrewd and able politician a pioneer in using the office of the presidency for both national and narrowly partisan purposeshis account is persuasive and well documented  political science quarterlyremini an old hand at unraveling the politics of this era writes with assurance and cuts through hoary legendsa stimulating reassessment  choiceandrew jackson'"
      ]
     },
     "execution_count": 141,
     "metadata": {},
     "output_type": "execute_result"
    }
   ],
   "source": [
    "fasttext_sample_validation[1]"
   ]
  },
  {
   "cell_type": "code",
   "execution_count": 142,
   "id": "11fce2a5",
   "metadata": {},
   "outputs": [],
   "source": [
    "sentence = [ fasttext_sample_validation[1] ]\n",
    "payload = {\"instances\": sentence }"
   ]
  },
  {
   "cell_type": "code",
   "execution_count": 143,
   "id": "69956395",
   "metadata": {},
   "outputs": [
    {
     "name": "stdout",
     "output_type": "stream",
     "text": [
      "[{'label': ['__label__1'], 'prob': [0.6919344067573547]}]\n"
     ]
    }
   ],
   "source": [
    "predictions = predictor.predict(payload)\n",
    "print(predictions)"
   ]
  },
  {
   "cell_type": "markdown",
   "id": "8e59a83e",
   "metadata": {},
   "source": [
    "# Clean up, delete endpoint"
   ]
  },
  {
   "cell_type": "code",
   "execution_count": 144,
   "id": "59352498",
   "metadata": {},
   "outputs": [],
   "source": [
    "#fastText_predictor.delete_endpoint()"
   ]
  }
 ],
 "metadata": {
  "kernelspec": {
   "display_name": "conda_python3",
   "language": "python",
   "name": "conda_python3"
  },
  "language_info": {
   "codemirror_mode": {
    "name": "ipython",
    "version": 3
   },
   "file_extension": ".py",
   "mimetype": "text/x-python",
   "name": "python",
   "nbconvert_exporter": "python",
   "pygments_lexer": "ipython3",
   "version": "3.6.13"
  }
 },
 "nbformat": 4,
 "nbformat_minor": 5
}
